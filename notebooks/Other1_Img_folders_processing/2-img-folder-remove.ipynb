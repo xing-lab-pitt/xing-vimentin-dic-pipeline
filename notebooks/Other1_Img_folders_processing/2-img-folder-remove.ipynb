{
 "cells": [
  {
   "cell_type": "markdown",
   "id": "hispanic-yesterday",
   "metadata": {},
   "source": [
    "After generating folders for each position, I'd like to briefly look at a movie for each folder and decide if I want to keep the folder. As some folder might not have any information on cells. "
   ]
  },
  {
   "cell_type": "code",
   "execution_count": 181,
   "id": "mighty-engineering",
   "metadata": {},
   "outputs": [],
   "source": [
    "import sys\n",
    "# insert at 1, 0 is the script path (or '' in REPL)\n",
    "# These top lines are critical for import from another folder\n",
    "sys.path.insert(1, '/net/capricorn/home/xing/huijing/Segmentation/scripts/vimentin_DIC_segmentation_pipeline/hj_modify_pipe')\n",
    "\n",
    "import hj_util\n",
    "import matplotlib.pyplot as plt\n",
    "import numpy as np\n",
    "import glob\n",
    "import imageio;\n",
    "from skimage.io import imread\n",
    "import shutil\n",
    "\n",
    "from IPython.display import display, clear_output\n",
    "from ipywidgets import Video\n",
    "from ipywidgets.widgets.interaction import show_inline_matplotlib_plots\n",
    "import ipywidgets as widgets"
   ]
  },
  {
   "cell_type": "code",
   "execution_count": 182,
   "id": "registered-sitting",
   "metadata": {
    "scrolled": true
   },
   "outputs": [
    {
     "name": "stdout",
     "output_type": "stream",
     "text": [
      "/net/capricorn/home/xing/huijing/Segmentation/data/Incucyte_data/06-21-21-B1_02_crop_part_30_output/ has 36 files\n"
     ]
    },
    {
     "data": {
      "text/plain": [
       "['/net/capricorn/home/xing/huijing/Segmentation/data/Incucyte_data/06-21-21-B1_02_crop_part_30_output/Per_Object_break.csv',\n",
       " '/net/capricorn/home/xing/huijing/Segmentation/data/Incucyte_data/06-21-21-B1_02_crop_part_30_output/Per_Object_mitosis.csv',\n",
       " '/net/capricorn/home/xing/huijing/Segmentation/data/Incucyte_data/06-21-21-B1_02_crop_part_30_output/Per_Object_modify.csv',\n",
       " '/net/capricorn/home/xing/huijing/Segmentation/data/Incucyte_data/06-21-21-B1_02_crop_part_30_output/Per_Object_relink.csv',\n",
       " '/net/capricorn/home/xing/huijing/Segmentation/data/Incucyte_data/06-21-21-B1_02_crop_part_30_output/Per_Relationships_break.csv',\n",
       " '/net/capricorn/home/xing/huijing/Segmentation/data/Incucyte_data/06-21-21-B1_02_crop_part_30_output/am_record.csv',\n",
       " '/net/capricorn/home/xing/huijing/Segmentation/data/Incucyte_data/06-21-21-B1_02_crop_part_30_output/border_obj.npy',\n",
       " '/net/capricorn/home/xing/huijing/Segmentation/data/Incucyte_data/06-21-21-B1_02_crop_part_30_output/candi_mitosis_label',\n",
       " '/net/capricorn/home/xing/huijing/Segmentation/data/Incucyte_data/06-21-21-B1_02_crop_part_30_output/cell_track.db',\n",
       " '/net/capricorn/home/xing/huijing/Segmentation/data/Incucyte_data/06-21-21-B1_02_crop_part_30_output/cell_track.properties',\n",
       " '/net/capricorn/home/xing/huijing/Segmentation/data/Incucyte_data/06-21-21-B1_02_crop_part_30_output/cells',\n",
       " '/net/capricorn/home/xing/huijing/Segmentation/data/Incucyte_data/06-21-21-B1_02_crop_part_30_output/daughter_cells',\n",
       " '/net/capricorn/home/xing/huijing/Segmentation/data/Incucyte_data/06-21-21-B1_02_crop_part_30_output/dld1_ctrl_mean_cell_contour',\n",
       " '/net/capricorn/home/xing/huijing/Segmentation/data/Incucyte_data/06-21-21-B1_02_crop_part_30_output/dld1_pca_contours',\n",
       " '/net/capricorn/home/xing/huijing/Segmentation/data/Incucyte_data/06-21-21-B1_02_crop_part_30_output/edt',\n",
       " '/net/capricorn/home/xing/huijing/Segmentation/data/Incucyte_data/06-21-21-B1_02_crop_part_30_output/false_link.npy',\n",
       " '/net/capricorn/home/xing/huijing/Segmentation/data/Incucyte_data/06-21-21-B1_02_crop_part_30_output/false_mitosis_obj',\n",
       " '/net/capricorn/home/xing/huijing/Segmentation/data/Incucyte_data/06-21-21-B1_02_crop_part_30_output/false_traj_label',\n",
       " '/net/capricorn/home/xing/huijing/Segmentation/data/Incucyte_data/06-21-21-B1_02_crop_part_30_output/fuse_pairs.npy',\n",
       " '/net/capricorn/home/xing/huijing/Segmentation/data/Incucyte_data/06-21-21-B1_02_crop_part_30_output/fuse_pairs_to_break.npy',\n",
       " '/net/capricorn/home/xing/huijing/Segmentation/data/Incucyte_data/06-21-21-B1_02_crop_part_30_output/link_obj_pairs.npy',\n",
       " '/net/capricorn/home/xing/huijing/Segmentation/data/Incucyte_data/06-21-21-B1_02_crop_part_30_output/mitoses.npy',\n",
       " '/net/capricorn/home/xing/huijing/Segmentation/data/Incucyte_data/06-21-21-B1_02_crop_part_30_output/mitosis_labels',\n",
       " '/net/capricorn/home/xing/huijing/Segmentation/data/Incucyte_data/06-21-21-B1_02_crop_part_30_output/mitosis_record.csv',\n",
       " '/net/capricorn/home/xing/huijing/Segmentation/data/Incucyte_data/06-21-21-B1_02_crop_part_30_output/mother_cells',\n",
       " '/net/capricorn/home/xing/huijing/Segmentation/data/Incucyte_data/06-21-21-B1_02_crop_part_30_output/postfuse_cells.npy',\n",
       " '/net/capricorn/home/xing/huijing/Segmentation/data/Incucyte_data/06-21-21-B1_02_crop_part_30_output/postsplit_cells.npy',\n",
       " '/net/capricorn/home/xing/huijing/Segmentation/data/Incucyte_data/06-21-21-B1_02_crop_part_30_output/postsplit_group',\n",
       " '/net/capricorn/home/xing/huijing/Segmentation/data/Incucyte_data/06-21-21-B1_02_crop_part_30_output/prefuse_cells.npy',\n",
       " '/net/capricorn/home/xing/huijing/Segmentation/data/Incucyte_data/06-21-21-B1_02_crop_part_30_output/prefuse_group',\n",
       " '/net/capricorn/home/xing/huijing/Segmentation/data/Incucyte_data/06-21-21-B1_02_crop_part_30_output/presplit_cells.npy',\n",
       " '/net/capricorn/home/xing/huijing/Segmentation/data/Incucyte_data/06-21-21-B1_02_crop_part_30_output/rgb_num',\n",
       " '/net/capricorn/home/xing/huijing/Segmentation/data/Incucyte_data/06-21-21-B1_02_crop_part_30_output/seg',\n",
       " '/net/capricorn/home/xing/huijing/Segmentation/data/Incucyte_data/06-21-21-B1_02_crop_part_30_output/split_pairs.npy',\n",
       " '/net/capricorn/home/xing/huijing/Segmentation/data/Incucyte_data/06-21-21-B1_02_crop_part_30_output/split_pairs_to_break.npy',\n",
       " '/net/capricorn/home/xing/huijing/Segmentation/data/Incucyte_data/06-21-21-B1_02_crop_part_30_output/traj_object_num.csv']"
      ]
     },
     "execution_count": 182,
     "metadata": {},
     "output_type": "execute_result"
    }
   ],
   "source": [
    "img_folder = \"/net/capricorn/home/xing/huijing/Segmentation/data/Incucyte_data/06-21-21-B1_02_crop_part_30_output/\"\n",
    "folder_list = hj_util.folder_file_num(img_folder)\n",
    "#output_list = hj_util.folder_file_num(img_folder, \"*output*\")\n",
    "#folder_list = sorted(list(set(folder_list)-set(output_list)))\n",
    "folder_list"
   ]
  },
  {
   "cell_type": "code",
   "execution_count": 184,
   "id": "straight-writer",
   "metadata": {},
   "outputs": [],
   "source": [
    "def folder_img_show(folder, grey = 1, num = 10):\n",
    "    \n",
    "    \"\"\"\n",
    "    A convient function for print pictures under a folder.\n",
    "    20 pics at a time.\n",
    "    \"\"\"\n",
    "    fig = plt.figure(figsize=(6, 4))\n",
    "    img_path_list = sorted(glob.glob(folder + \"/*\"))\n",
    "    \n",
    "    if len(img_path_list)<num:\n",
    "        print(\"Not enough pictures to print\")\n",
    "        return 1\n",
    "    \n",
    "    i_list = np.linspace(0, len(img_path_list), num)[:-1]\n",
    "    #print(i_list)\n",
    "    \n",
    "    img_list = []\n",
    "    for i in i_list:\n",
    "        img = imread(img_path_list[int(i)])\n",
    "        img_list.append(img)\n",
    "    edges = np.array(img_list)\n",
    "    imageio.mimwrite('test.mp4', edges, fps=3); \n"
   ]
  },
  {
   "cell_type": "code",
   "execution_count": 178,
   "id": "adaptive-candle",
   "metadata": {},
   "outputs": [],
   "source": [
    "b1 = widgets.Button(\n",
    "    description='Previous folder',\n",
    "    disabled=False,\n",
    "    button_style='info',\n",
    "    tooltip='Click me',\n",
    "    icon='check'\n",
    ")\n",
    "b2 = widgets.Button(\n",
    "    description='Next folder',\n",
    "    disabled=False,\n",
    "    button_style='info',\n",
    "    tooltip='Click me',\n",
    "    icon='check'\n",
    ")\n",
    "b3 = widgets.Button(\n",
    "    description='Delete current folder',\n",
    "    disabled=False,\n",
    "    button_style='info',\n",
    "    tooltip='Click me',\n",
    "    icon='check'\n",
    ")\n",
    "\n",
    "    \n",
    "def init_global_i():\n",
    "    global i\n",
    "    i = 0\n",
    "    \n",
    "\n",
    "def on_b1_clicked(b): # The previous frame\n",
    "    global i\n",
    "    i = i-1\n",
    "    \n",
    "    if i <=-1:\n",
    "        with out:\n",
    "            clear_output()\n",
    "            print(i)\n",
    "            print(\"This is the 1st folder.\")\n",
    "    \n",
    "    else:\n",
    "        with out:\n",
    "            clear_output()   \n",
    "            folder = folder_list[i]\n",
    "            folder_img_show(folder)\n",
    "            print(folder)\n",
    "            video = Video.from_file(\"test.mp4\")\n",
    "            display(b1, b2, b3, video)\n",
    "            print(i)\n",
    "            folder_img_show(folder)\n",
    "\n",
    "        \n",
    "        \n",
    "def on_b2_clicked(b): # Next folder\n",
    "    global i\n",
    "    i = i+1\n",
    "    \n",
    "    if i ==len(folder_list):\n",
    "        with out:\n",
    "            clear_output()\n",
    "            print(i)\n",
    "            print(\"This is the last folder.\")\n",
    "    \n",
    "    else:\n",
    "        \n",
    "        with out:\n",
    "            clear_output()   \n",
    "            folder = folder_list[i]\n",
    "            folder_img_show(folder)\n",
    "            print(folder)\n",
    "            video = Video.from_file(\"test.mp4\")\n",
    "            display(b1, b2, b3, video)\n",
    "            print(i)\n",
    "            folder_img_show(folder)\n",
    "            \n",
    "\n",
    "        \n",
    "def on_b3_clicked(b): # Delete current folder\n",
    "    global i\n",
    "    folder = folder_list[i]\n",
    "    shutil.rmtree(folder)\n",
    "\n",
    "    i = i+1 \n",
    "    if i ==len(folder_list):\n",
    "        with out:\n",
    "            clear_output()\n",
    "            print(i)\n",
    "            print(\"This is the last folder.\")\n",
    "    \n",
    "    else:\n",
    "        folder = folder_list[i]\n",
    "        with out:\n",
    "            clear_output()      \n",
    "            print(i)\n",
    "            folder_img_show(folder)\n",
    "            Video('test.mp4', width=100, height=100)\n",
    "            show_inline_matplotlib_plots()"
   ]
  },
  {
   "cell_type": "code",
   "execution_count": 186,
   "id": "assumed-parade",
   "metadata": {
    "scrolled": false
   },
   "outputs": [
    {
     "data": {
      "application/vnd.jupyter.widget-view+json": {
       "model_id": "3fb5635994d747f0a8a9756cfdc17857",
       "version_major": 2,
       "version_minor": 0
      },
      "text/plain": [
       "Output()"
      ]
     },
     "metadata": {},
     "output_type": "display_data"
    },
    {
     "data": {
      "text/plain": [
       "<Figure size 432x288 with 0 Axes>"
      ]
     },
     "metadata": {},
     "output_type": "display_data"
    }
   ],
   "source": [
    "out = widgets.Output()\n",
    "display(out)\n",
    "\n",
    "init_global_i()\n",
    "global i\n",
    "i = 0\n",
    "\n",
    "with out:\n",
    "    clear_output()\n",
    "    folder = \"/net/capricorn/home/xing/huijing/Segmentation/data/Incucyte_data/06-21-21-B1_02_crop_part_30_output/rgb_num/\"\n",
    "    print(folder)\n",
    "    folder_img_show(folder)\n",
    "    video = Video.from_file(\"test.mp4\")\n",
    "    display(b1, b2, b3, video)\n",
    "    \n",
    "b1.on_click(on_b1_clicked)\n",
    "b2.on_click(on_b2_clicked)\n",
    "b3.on_click(on_b3_clicked)"
   ]
  },
  {
   "cell_type": "code",
   "execution_count": null,
   "id": "fatty-samuel",
   "metadata": {},
   "outputs": [],
   "source": []
  },
  {
   "cell_type": "code",
   "execution_count": 158,
   "id": "listed-panama",
   "metadata": {},
   "outputs": [
    {
     "data": {
      "text/plain": [
       "6"
      ]
     },
     "execution_count": 158,
     "metadata": {},
     "output_type": "execute_result"
    }
   ],
   "source": [
    "import threading\n",
    "threading.activeCount()"
   ]
  },
  {
   "cell_type": "code",
   "execution_count": null,
   "id": "fossil-andorra",
   "metadata": {},
   "outputs": [],
   "source": []
  }
 ],
 "metadata": {
  "kernelspec": {
   "display_name": "Python 3",
   "language": "python",
   "name": "python3"
  },
  "language_info": {
   "codemirror_mode": {
    "name": "ipython",
    "version": 3
   },
   "file_extension": ".py",
   "mimetype": "text/x-python",
   "name": "python",
   "nbconvert_exporter": "python",
   "pygments_lexer": "ipython3",
   "version": "3.7.7"
  }
 },
 "nbformat": 4,
 "nbformat_minor": 5
}
