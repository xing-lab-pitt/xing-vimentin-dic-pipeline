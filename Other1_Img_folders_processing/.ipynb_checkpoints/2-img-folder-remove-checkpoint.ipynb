{
 "cells": [
  {
   "cell_type": "markdown",
   "id": "hispanic-yesterday",
   "metadata": {},
   "source": [
    "After generating folders for each position, I'd like to briefly look at a movie for each folder and decide if I want to keep the folder. As some folder might not have any information on cells. "
   ]
  },
  {
   "cell_type": "code",
   "execution_count": 6,
   "id": "mighty-engineering",
   "metadata": {},
   "outputs": [],
   "source": [
    "import hj_util\n",
    "import matplotlib.pyplot as plt\n",
    "import numpy as np\n",
    "import glob\n",
    "import imageio;\n",
    "from skimage.io import imread\n",
    "import shutil\n",
    "\n",
    "from IPython.display import Video\n",
    "from IPython.display import display, clear_output\n",
    "from ipywidgets.widgets.interaction import show_inline_matplotlib_plots\n",
    "import ipywidgets as widgets"
   ]
  },
  {
   "cell_type": "code",
   "execution_count": 65,
   "id": "registered-sitting",
   "metadata": {
    "scrolled": true
   },
   "outputs": [
    {
     "name": "stdout",
     "output_type": "stream",
     "text": [
      "/net/capricorn/home/xing/huijing/Segmentation/data/5-21-21-fast-imaging-sorted/ has 64 files\n",
      "/net/capricorn/home/xing/huijing/Segmentation/data/5-21-21-fast-imaging-sorted/ has 0 files\n"
     ]
    },
    {
     "data": {
      "text/plain": [
       "['/net/capricorn/home/xing/huijing/Segmentation/data/5-21-21-fast-imaging-sorted/B1_12',\n",
       " '/net/capricorn/home/xing/huijing/Segmentation/data/5-21-21-fast-imaging-sorted/A1_2_',\n",
       " '/net/capricorn/home/xing/huijing/Segmentation/data/5-21-21-fast-imaging-sorted/B1_13',\n",
       " '/net/capricorn/home/xing/huijing/Segmentation/data/5-21-21-fast-imaging-sorted/B2_6_',\n",
       " '/net/capricorn/home/xing/huijing/Segmentation/data/5-21-21-fast-imaging-sorted/B2_1_',\n",
       " '/net/capricorn/home/xing/huijing/Segmentation/data/5-21-21-fast-imaging-sorted/B1_4_',\n",
       " '/net/capricorn/home/xing/huijing/Segmentation/data/5-21-21-fast-imaging-sorted/A1_13',\n",
       " '/net/capricorn/home/xing/huijing/Segmentation/data/5-21-21-fast-imaging-sorted/A1_4_',\n",
       " '/net/capricorn/home/xing/huijing/Segmentation/data/5-21-21-fast-imaging-sorted/A2_2_',\n",
       " '/net/capricorn/home/xing/huijing/Segmentation/data/5-21-21-fast-imaging-sorted/B2_16',\n",
       " '/net/capricorn/home/xing/huijing/Segmentation/data/5-21-21-fast-imaging-sorted/B2_12',\n",
       " '/net/capricorn/home/xing/huijing/Segmentation/data/5-21-21-fast-imaging-sorted/A1_12',\n",
       " '/net/capricorn/home/xing/huijing/Segmentation/data/5-21-21-fast-imaging-sorted/B2_13',\n",
       " '/net/capricorn/home/xing/huijing/Segmentation/data/5-21-21-fast-imaging-sorted/B2_5_',\n",
       " '/net/capricorn/home/xing/huijing/Segmentation/data/5-21-21-fast-imaging-sorted/B2_14',\n",
       " '/net/capricorn/home/xing/huijing/Segmentation/data/5-21-21-fast-imaging-sorted/A2_5_',\n",
       " '/net/capricorn/home/xing/huijing/Segmentation/data/5-21-21-fast-imaging-sorted/B1_15',\n",
       " '/net/capricorn/home/xing/huijing/Segmentation/data/5-21-21-fast-imaging-sorted/A2_6_',\n",
       " '/net/capricorn/home/xing/huijing/Segmentation/data/5-21-21-fast-imaging-sorted/A2_9_',\n",
       " '/net/capricorn/home/xing/huijing/Segmentation/data/5-21-21-fast-imaging-sorted/B2_3_',\n",
       " '/net/capricorn/home/xing/huijing/Segmentation/data/5-21-21-fast-imaging-sorted/B1_11',\n",
       " '/net/capricorn/home/xing/huijing/Segmentation/data/5-21-21-fast-imaging-sorted/A2_13',\n",
       " '/net/capricorn/home/xing/huijing/Segmentation/data/5-21-21-fast-imaging-sorted/B1_2_',\n",
       " '/net/capricorn/home/xing/huijing/Segmentation/data/5-21-21-fast-imaging-sorted/A1_10',\n",
       " '/net/capricorn/home/xing/huijing/Segmentation/data/5-21-21-fast-imaging-sorted/B2_4_',\n",
       " '/net/capricorn/home/xing/huijing/Segmentation/data/5-21-21-fast-imaging-sorted/A1_16',\n",
       " '/net/capricorn/home/xing/huijing/Segmentation/data/5-21-21-fast-imaging-sorted/B2_10',\n",
       " '/net/capricorn/home/xing/huijing/Segmentation/data/5-21-21-fast-imaging-sorted/A2_10',\n",
       " '/net/capricorn/home/xing/huijing/Segmentation/data/5-21-21-fast-imaging-sorted/A2_11',\n",
       " '/net/capricorn/home/xing/huijing/Segmentation/data/5-21-21-fast-imaging-sorted/A1_6_',\n",
       " '/net/capricorn/home/xing/huijing/Segmentation/data/5-21-21-fast-imaging-sorted/A2_7_',\n",
       " '/net/capricorn/home/xing/huijing/Segmentation/data/5-21-21-fast-imaging-sorted/B2_9_',\n",
       " '/net/capricorn/home/xing/huijing/Segmentation/data/5-21-21-fast-imaging-sorted/A2_14',\n",
       " '/net/capricorn/home/xing/huijing/Segmentation/data/5-21-21-fast-imaging-sorted/B1_6_',\n",
       " '/net/capricorn/home/xing/huijing/Segmentation/data/5-21-21-fast-imaging-sorted/A1_1_',\n",
       " '/net/capricorn/home/xing/huijing/Segmentation/data/5-21-21-fast-imaging-sorted/A2_15',\n",
       " '/net/capricorn/home/xing/huijing/Segmentation/data/5-21-21-fast-imaging-sorted/A1_5_',\n",
       " '/net/capricorn/home/xing/huijing/Segmentation/data/5-21-21-fast-imaging-sorted/B1_10',\n",
       " '/net/capricorn/home/xing/huijing/Segmentation/data/5-21-21-fast-imaging-sorted/B2_15',\n",
       " '/net/capricorn/home/xing/huijing/Segmentation/data/5-21-21-fast-imaging-sorted/A2_16',\n",
       " '/net/capricorn/home/xing/huijing/Segmentation/data/5-21-21-fast-imaging-sorted/B1_16',\n",
       " '/net/capricorn/home/xing/huijing/Segmentation/data/5-21-21-fast-imaging-sorted/A2_3_',\n",
       " '/net/capricorn/home/xing/huijing/Segmentation/data/5-21-21-fast-imaging-sorted/A1_8_',\n",
       " '/net/capricorn/home/xing/huijing/Segmentation/data/5-21-21-fast-imaging-sorted/A1_9_',\n",
       " '/net/capricorn/home/xing/huijing/Segmentation/data/5-21-21-fast-imaging-sorted/B1_8_',\n",
       " '/net/capricorn/home/xing/huijing/Segmentation/data/5-21-21-fast-imaging-sorted/B1_9_',\n",
       " '/net/capricorn/home/xing/huijing/Segmentation/data/5-21-21-fast-imaging-sorted/B2_2_',\n",
       " '/net/capricorn/home/xing/huijing/Segmentation/data/5-21-21-fast-imaging-sorted/B1_7_',\n",
       " '/net/capricorn/home/xing/huijing/Segmentation/data/5-21-21-fast-imaging-sorted/B1_5_',\n",
       " '/net/capricorn/home/xing/huijing/Segmentation/data/5-21-21-fast-imaging-sorted/B2_11',\n",
       " '/net/capricorn/home/xing/huijing/Segmentation/data/5-21-21-fast-imaging-sorted/B2_7_',\n",
       " '/net/capricorn/home/xing/huijing/Segmentation/data/5-21-21-fast-imaging-sorted/A2_8_',\n",
       " '/net/capricorn/home/xing/huijing/Segmentation/data/5-21-21-fast-imaging-sorted/A1_11',\n",
       " '/net/capricorn/home/xing/huijing/Segmentation/data/5-21-21-fast-imaging-sorted/A1_3_',\n",
       " '/net/capricorn/home/xing/huijing/Segmentation/data/5-21-21-fast-imaging-sorted/A1_15',\n",
       " '/net/capricorn/home/xing/huijing/Segmentation/data/5-21-21-fast-imaging-sorted/A2_1_',\n",
       " '/net/capricorn/home/xing/huijing/Segmentation/data/5-21-21-fast-imaging-sorted/A2_12',\n",
       " '/net/capricorn/home/xing/huijing/Segmentation/data/5-21-21-fast-imaging-sorted/A2_4_',\n",
       " '/net/capricorn/home/xing/huijing/Segmentation/data/5-21-21-fast-imaging-sorted/A1_7_',\n",
       " '/net/capricorn/home/xing/huijing/Segmentation/data/5-21-21-fast-imaging-sorted/B1_1_',\n",
       " '/net/capricorn/home/xing/huijing/Segmentation/data/5-21-21-fast-imaging-sorted/B1_14',\n",
       " '/net/capricorn/home/xing/huijing/Segmentation/data/5-21-21-fast-imaging-sorted/B1_3_',\n",
       " '/net/capricorn/home/xing/huijing/Segmentation/data/5-21-21-fast-imaging-sorted/A1_14',\n",
       " '/net/capricorn/home/xing/huijing/Segmentation/data/5-21-21-fast-imaging-sorted/B2_8_']"
      ]
     },
     "execution_count": 65,
     "metadata": {},
     "output_type": "execute_result"
    }
   ],
   "source": [
    "img_folder = \"/net/capricorn/home/xing/huijing/Segmentation/data/5-21-21-fast-imaging-sorted/\"\n",
    "folder_list = hj_util.folder_file_num(img_folder)\n",
    "output_list = hj_util.folder_file_num(img_folder, \"*output\")\n",
    "folder_list = list(set(folder_list)-set(output_list))\n",
    "folder_list"
   ]
  },
  {
   "cell_type": "code",
   "execution_count": 69,
   "id": "straight-writer",
   "metadata": {},
   "outputs": [],
   "source": [
    "def folder_img_show(folder, grey = 1, num = 25):\n",
    "    \n",
    "    \"\"\"\n",
    "    A convient function for print pictures under a folder.\n",
    "    20 pics at a time.\n",
    "    \"\"\"\n",
    "    fig = plt.figure(figsize=(6, 4))\n",
    "    img_path_list = sorted(glob.glob(folder + \"/*\"))\n",
    "    \n",
    "    if len(img_path_list)<num:\n",
    "        print(\"Not enough pictures to print\")\n",
    "        return 1\n",
    "    \n",
    "    i_list = np.linspace(0, len(img_path_list), num)[:-1]\n",
    "    #print(i_list)\n",
    "    \n",
    "    img_list = []\n",
    "    for i in i_list:\n",
    "        img = imread(img_path_list[int(i)])\n",
    "        img_list.append(img)\n",
    "    edges = np.array(img_list)\n",
    "    imageio.mimwrite('test.mp4', edges, fps=7); \n"
   ]
  },
  {
   "cell_type": "code",
   "execution_count": 70,
   "id": "adaptive-candle",
   "metadata": {},
   "outputs": [],
   "source": [
    "b1 = widgets.Button(\n",
    "    description='Previous folder',\n",
    "    disabled=False,\n",
    "    button_style='info',\n",
    "    tooltip='Click me',\n",
    "    icon='check'\n",
    ")\n",
    "b2 = widgets.Button(\n",
    "    description='Next folder',\n",
    "    disabled=False,\n",
    "    button_style='info',\n",
    "    tooltip='Click me',\n",
    "    icon='check'\n",
    ")\n",
    "b3 = widgets.Button(\n",
    "    description='Delete current folder',\n",
    "    disabled=False,\n",
    "    button_style='info',\n",
    "    tooltip='Click me',\n",
    "    icon='check'\n",
    ")\n",
    "\n",
    "    \n",
    "def init_global_i():\n",
    "    global i\n",
    "    i = 0\n",
    "    \n",
    "\n",
    "def on_b1_clicked(b): # The previous frame\n",
    "    global i\n",
    "    i = i-1\n",
    "    \n",
    "    if i <=-1:\n",
    "        with out:\n",
    "            clear_output()\n",
    "            print(i)\n",
    "            print(\"This is the 1st folder.\")\n",
    "    \n",
    "    else:\n",
    "        i = i-1\n",
    "        folder = folder_list[i]\n",
    "        folder_img_show(folder)\n",
    "        print(folder)\n",
    "        video = Video.from_file(\"test.mp4\")\n",
    "        display(b1, b2, b3, video)\n",
    "        with out:\n",
    "            #clear_output()      \n",
    "            print(i)\n",
    "\n",
    "        \n",
    "        \n",
    "def on_b2_clicked(b): # Next folder\n",
    "    global i\n",
    "    i = i+1\n",
    "    \n",
    "    if i ==len(folder_list):\n",
    "        with out:\n",
    "            clear_output()\n",
    "            print(i)\n",
    "            print(\"This is the last folder.\")\n",
    "    \n",
    "    else:\n",
    "        \n",
    "        with out:\n",
    "            clear_output()   \n",
    "            folder = folder_list[i]\n",
    "            folder_img_show(folder)\n",
    "            print(folder)\n",
    "            video = Video.from_file(\"test.mp4\")\n",
    "            display(b1, b2, b3, video)\n",
    "            print(i)\n",
    "            folder_img_show(folder)\n",
    "            \n",
    "\n",
    "        \n",
    "def on_b3_clicked(b): # Delete current folder\n",
    "    global i\n",
    "    folder = folder_list[i]\n",
    "    shutil.rmtree(folder)\n",
    "\n",
    "    i = i+1 \n",
    "    if i ==len(folder_list):\n",
    "        with out:\n",
    "            clear_output()\n",
    "            print(i)\n",
    "            print(\"This is the last folder.\")\n",
    "    \n",
    "    else:\n",
    "        folder = folder_list[i]\n",
    "        with out:\n",
    "            clear_output()      \n",
    "            print(i)\n",
    "            folder_img_show(folder)\n",
    "            Video('test.mp4', width=100, height=100)\n",
    "            show_inline_matplotlib_plots()"
   ]
  },
  {
   "cell_type": "code",
   "execution_count": 71,
   "id": "assumed-parade",
   "metadata": {
    "scrolled": false
   },
   "outputs": [
    {
     "data": {
      "application/vnd.jupyter.widget-view+json": {
       "model_id": "c9035629be384e4fb8d4e523354ab247",
       "version_major": 2,
       "version_minor": 0
      },
      "text/plain": [
       "Output()"
      ]
     },
     "metadata": {},
     "output_type": "display_data"
    },
    {
     "data": {
      "text/plain": [
       "<Figure size 432x288 with 0 Axes>"
      ]
     },
     "metadata": {},
     "output_type": "display_data"
    }
   ],
   "source": [
    "out = widgets.Output()\n",
    "display(out)\n",
    "\n",
    "init_global_i()\n",
    "global i\n",
    "i = 5\n",
    "\n",
    "with out:\n",
    "    clear_output()\n",
    "    folder = folder_list[i]\n",
    "    print(folder)\n",
    "    folder_img_show(folder)\n",
    "    video = Video.from_file(\"test.mp4\")\n",
    "    display(b1, b2, b3, video)\n",
    "    \n",
    "b1.on_click(on_b1_clicked)\n",
    "b2.on_click(on_b2_clicked)\n",
    "b3.on_click(on_b3_clicked)"
   ]
  },
  {
   "cell_type": "code",
   "execution_count": null,
   "id": "listed-panama",
   "metadata": {},
   "outputs": [],
   "source": []
  },
  {
   "cell_type": "code",
   "execution_count": null,
   "id": "fatty-samuel",
   "metadata": {},
   "outputs": [],
   "source": []
  }
 ],
 "metadata": {
  "kernelspec": {
   "display_name": "Python 3",
   "language": "python",
   "name": "python3"
  },
  "language_info": {
   "codemirror_mode": {
    "name": "ipython",
    "version": 3
   },
   "file_extension": ".py",
   "mimetype": "text/x-python",
   "name": "python",
   "nbconvert_exporter": "python",
   "pygments_lexer": "ipython3",
   "version": "3.7.7"
  }
 },
 "nbformat": 4,
 "nbformat_minor": 5
}
