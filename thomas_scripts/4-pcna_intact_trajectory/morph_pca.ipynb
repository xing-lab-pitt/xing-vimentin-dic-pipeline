{
 "cells": [
  {
   "cell_type": "code",
   "execution_count": 2,
   "metadata": {},
   "outputs": [],
   "source": [
    "import copy\n",
    "import numpy as np\n",
    "from skimage.segmentation import watershed,clear_border\n",
    "import scipy.misc\n",
    "from skimage.io import imread\n",
    "from matplotlib import pyplot as plt\n",
    "import scipy.ndimage as ndi\n",
    "import pickle\n",
    "import os\n",
    "from os import listdir\n",
    "from skimage.feature import peak_local_max\n",
    "from skimage.morphology import remove_small_objects,local_maxima,h_maxima,opening\n",
    "from skimage import measure\n",
    "from skimage.measure import regionprops,label\n",
    "from skimage.color import label2rgb\n",
    "from PIL import Image, ImageDraw, ImageFont\n",
    "from math import pi,sqrt\n",
    "import glob\n",
    "import pandas as pd\n",
    "import seaborn as sns\n",
    "\n",
    "from sklearn import decomposition,cluster,manifold\n",
    "from sklearn.neighbors import KernelDensity\n",
    "from sklearn.preprocessing import StandardScaler\n",
    "from cell_class import single_cell\n",
    "import contour_class\n",
    "import utility_tools\n",
    "\n",
    "import image_warp\n",
    "from contour_tool import df_find_contour_points,find_contour_points,generate_contours,align_contour_to,align_contours"
   ]
  },
  {
   "cell_type": "code",
   "execution_count": 6,
   "metadata": {},
   "outputs": [],
   "source": [
    "main_path='2021-03-25_a549_1ng_tgf_78h/'\n",
    "cells_path='fluor_cells/'\n",
    "posi_start=1\n",
    "posi_end=20"
   ]
  },
  {
   "cell_type": "code",
   "execution_count": null,
   "metadata": {},
   "outputs": [],
   "source": [
    "# do not use StandarScaler on cell contour points\n",
    "#----------cal cell_contour pca coordinates-------------------\n",
    "all_data=np.array([])\n",
    "for posi in range(posi_start,posi_end+1): \n",
    "    with open (cells_path+'fluor_cells_'+str(posi), 'rb') as fp:\n",
    "        cells = pickle.load(fp)\n",
    "\n",
    "    data=np.array([single_cell.cell_contour.points for single_cell in cells if hasattr(single_cell,'cell_contour')])\n",
    "\n",
    "    if all_data.size==0:\n",
    "        all_data=data\n",
    "    else:\n",
    "        all_data=np.vstack((all_data,data))\n",
    "# print(all_data.shape)\n",
    "# mean = all_data.mean(axis = 0)\n",
    "# plt.plot(mean[:,0],mean[:,1],'.')\n",
    "# plt.show()\n",
    "X= all_data\n",
    "X, data_point_shape = utility_tools.flatten_data(X)\n",
    "X=X.astype(np.float)\n",
    "print(X.shape)\n",
    "\n",
    "pca = decomposition.PCA(n_components =0.98,svd_solver= 'full')\n",
    "Y = pca.fit_transform(X)\n",
    "print(pca.explained_variance_ratio_,sum(pca.explained_variance_ratio_))\n",
    "\n",
    "# plt.scatter(Y[:,0],Y[:,1],s=0.1)\n",
    "# plt.xlabel('PC1')\n",
    "# plt.ylabel('PC2')\n",
    "# plt.show()\n",
    "# sns.kdeplot(Y[:,0],Y[:,1],n_levels=100,shade=True)\n",
    "# plt.show()"
   ]
  },
  {
   "cell_type": "code",
   "execution_count": 9,
   "metadata": {},
   "outputs": [],
   "source": [
    "with open('morph_pca', 'wb') as fp:\n",
    "    pickle.dump(pca, fp)"
   ]
  },
  {
   "cell_type": "code",
   "execution_count": 11,
   "metadata": {},
   "outputs": [],
   "source": [
    "with open ('morph_pca', 'rb') as fp:\n",
    "    pca = pickle.load(fp)"
   ]
  },
  {
   "cell_type": "code",
   "execution_count": 12,
   "metadata": {},
   "outputs": [],
   "source": [
    "# do not use StandarScaler on cell contour points\n",
    "#----------cal cell_contour pca coordinates-------------------\n",
    "for posi in range(posi_start,posi_end+1):   \n",
    "    with open (cells_path+'fluor_cells_'+str(posi), 'rb') as fp:\n",
    "        cells = pickle.load(fp)\n",
    "    for i in range(len(cells)):\n",
    "        if hasattr(cells[i],'cell_contour'):\n",
    "            data=np.expand_dims(cells[i].cell_contour.points, axis=0)\n",
    "            X, X_shape=utility_tools.flatten_data(data)\n",
    "            Y=pca.transform(X)[0]\n",
    "            cells[i].set_pca_cord(Y)\n",
    "    with open(cells_path+'fluor_cells_'+str(posi), 'wb') as fp:\n",
    "        pickle.dump(cells, fp)"
   ]
  },
  {
   "cell_type": "code",
   "execution_count": null,
   "metadata": {
    "collapsed": true
   },
   "outputs": [],
   "source": []
  }
 ],
 "metadata": {
  "kernelspec": {
   "display_name": "myconda3",
   "language": "python",
   "name": "myconda3"
  },
  "language_info": {
   "codemirror_mode": {
    "name": "ipython",
    "version": 3
   },
   "file_extension": ".py",
   "mimetype": "text/x-python",
   "name": "python",
   "nbconvert_exporter": "python",
   "pygments_lexer": "ipython3",
   "version": "3.6.10"
  }
 },
 "nbformat": 4,
 "nbformat_minor": 2
}
