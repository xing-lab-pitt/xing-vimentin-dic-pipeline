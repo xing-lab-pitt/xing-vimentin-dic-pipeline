{
 "cells": [
  {
   "cell_type": "code",
   "execution_count": 7,
   "metadata": {
    "scrolled": true
   },
   "outputs": [],
   "source": [
    "import sys\n",
    "sys.path.insert(1,'/home/thomas/research/projects/emt/src/memes/')\n",
    "import warnings\n",
    "warnings.filterwarnings(\"ignore\")\n",
    "\n",
    "import glob\n",
    "import numpy as np\n",
    "import pandas as pd\n",
    "import pickle\n",
    "\n",
    "from matplotlib import animation\n",
    "from matplotlib import pyplot as plt\n",
    "\n",
    "import os\n",
    "from os import listdir\n",
    "\n",
    "\n",
    "from skimage.measure import regionprops\n",
    "from skimage.morphology import opening, closing, remove_small_holes, remove_small_objects,disk\n",
    "from skimage.io import imread\n",
    "\n",
    "from skimage.filters.rank import otsu\n",
    "from traj_class import fluor_single_cell_traj\n",
    "import matplotlib.animation as animation\n",
    "\n",
    "from traj_tools import generate_single_cell_img,find_mother,find_mother_label,find_offspring,parse,count_num_fluor_pca_cord"
   ]
  },
  {
   "cell_type": "code",
   "execution_count": 8,
   "metadata": {},
   "outputs": [
    {
     "name": "stdout",
     "output_type": "stream",
     "text": [
      "['__class__', '__delattr__', '__dict__', '__dir__', '__doc__', '__eq__', '__format__', '__ge__', '__getattribute__', '__gt__', '__hash__', '__init__', '__init_subclass__', '__le__', '__lt__', '__module__', '__ne__', '__new__', '__reduce__', '__reduce_ex__', '__repr__', '__setattr__', '__sizeof__', '__str__', '__subclasshook__', '__weakref__', 'convert_to_class', 'pcna_feature_list', 'set_traj_am_flag', 'set_traj_cord_variation', 'set_traj_delay_cord', 'set_traj_delay_vector', 'set_traj_divide_points', 'set_traj_feature', 'set_traj_fluor_features', 'set_traj_fluor_pca_cord', 'set_traj_morph_pca_cord', 'set_traj_neighbor', 'set_traj_nuc_intensity', 'set_traj_scale_cord', 'traj_am_flag', 'traj_contour', 'traj_feature', 'traj_morph_pca_cord', 'traj_pcna_feature_values', 'traj_pcna_haralick_pca_cord', 'traj_pcna_histogram_pca_cord', 'traj_seri', 'traj_vimentin_feature_values', 'traj_vimentin_haralick_pca_cord', 'vimentin_feature_list']\n"
     ]
    }
   ],
   "source": [
    "# lock & load\n",
    "main_path='/home/thomas/research/projects/emt/data/'\n",
    "output_path=main_path+'out/pcna/01-13-22_72hr_no-treat/'\n",
    "sct_path=output_path+'traj/ict-auto-02/'\n",
    "\n",
    "sct_list=sorted(glob.glob(sct_path+'*'))\n",
    "with open (sct_list[0], 'rb') as fp:\n",
    "    sct = pickle.load(fp)\n",
    "print(dir(sct))\n",
    "# print(sct.pcna_feature_list)"
   ]
  },
  {
   "cell_type": "code",
   "execution_count": 11,
   "metadata": {},
   "outputs": [],
   "source": [
    "pcna_feature_list=sct.pcna_feature_list\n",
    "traj_pcna_hist_features=sct.traj_pcna_feature_values[0]\n",
    "traj_pcna_histogram_pca_cord=sct.traj_pcna_histogram_pca_cord\n",
    "traj_vimentin_haralick_features=sct.traj_vimentin_feature_values[3]\n",
    "traj_pcna_haralick_pca_cord=sct.traj_pcna_haralick_pca_cord"
   ]
  },
  {
   "cell_type": "code",
   "execution_count": null,
   "metadata": {},
   "outputs": [],
   "source": []
  }
 ],
 "metadata": {
  "kernelspec": {
   "display_name": "Python 3",
   "language": "python",
   "name": "python3"
  },
  "language_info": {
   "codemirror_mode": {
    "name": "ipython",
    "version": 3
   },
   "file_extension": ".py",
   "mimetype": "text/x-python",
   "name": "python",
   "nbconvert_exporter": "python",
   "pygments_lexer": "ipython3",
   "version": "3.9.7"
  }
 },
 "nbformat": 4,
 "nbformat_minor": 2
}
