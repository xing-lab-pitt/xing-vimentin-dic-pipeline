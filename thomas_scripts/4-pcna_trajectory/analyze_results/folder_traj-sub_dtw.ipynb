{
 "cells": [
  {
   "cell_type": "code",
   "execution_count": 1,
   "metadata": {},
   "outputs": [],
   "source": [
    "import sys\n",
    "sys.path.insert(1, '/home/thomas/research/projects/a549_40x/scripts/memes/')\n",
    "\n",
    "import warnings\n",
    "warnings.filterwarnings(\"ignore\")\n",
    "\n",
    "import glob\n",
    "import pickle\n",
    "from traj_class import single_cell_traj,fluor_single_cell_traj\n",
    "import math\n",
    "import matplotlib.pyplot as plt\n",
    "import numpy as np\n",
    "import shutil"
   ]
  },
  {
   "cell_type": "code",
   "execution_count": 2,
   "metadata": {},
   "outputs": [
    {
     "name": "stdout",
     "output_type": "stream",
     "text": [
      "206\n"
     ]
    }
   ],
   "source": [
    "traj_folder = 'sct-tlt_288-strong_pcna'\n",
    "\n",
    "main_path='/home/thomas/research/projects/a549_40x/data/'\n",
    "output_path=main_path+'out/pcna/mixer/'\n",
    "sct_path=output_path+'traj/'+traj_folder+'/'\n",
    "sct_list=sorted(glob.glob(sct_path+'*'))\n",
    "print(len(sct_list))"
   ]
  },
  {
   "cell_type": "markdown",
   "metadata": {},
   "source": [
    "Analyze pcna trajectories beginning with mitosis"
   ]
  },
  {
   "cell_type": "markdown",
   "metadata": {},
   "source": [
    "mean intensity"
   ]
  },
  {
   "cell_type": "code",
   "execution_count": 43,
   "metadata": {},
   "outputs": [],
   "source": [
    "all_traj_zero_init_time = []\n",
    "all_traj_pcna_mean_int = []\n",
    "for sct_idx in range(len(sct_list)):\n",
    "        sct_path = sct_list[sct_idx]\n",
    "        with open (sct_path, 'rb') as fp:\n",
    "                sct = pickle.load(fp)\n",
    "        sct_zero_init_time = sct.traj_seri[:,0]-np.min(sct.traj_seri[:,0])   # decreases initial time to 0\n",
    "        sct_mean_int = sct.traj_pcna_feature_values[0]\n",
    "        all_traj_zero_init_time.append(sct_zero_init_time)\n",
    "        all_traj_pcna_mean_int.append(sct_mean_int)"
   ]
  },
  {
   "cell_type": "code",
   "execution_count": null,
   "metadata": {},
   "outputs": [],
   "source": [
    "### plot mean intensity for all trajectories ###\n",
    "fig = plt.figure(figsize=(15,10))\n",
    "ax = fig.add_axes([0,0,1,1])\n",
    "for sct_idx in range(len(sct_list)):\n",
    "    ax.plot(all_traj_zero_init_time[sct_idx],all_traj_pcna_mean_int[sct_idx])\n",
    "ax.set_ylabel('pcna expression')\n",
    "ax.set_xlabel('t')\n",
    "plt.savefig('filename.jpg',bbox_inches='tight', dpi=150)\n",
    "plt.show()"
   ]
  },
  {
   "cell_type": "markdown",
   "metadata": {},
   "source": [
    "intensity range"
   ]
  },
  {
   "cell_type": "code",
   "execution_count": 37,
   "metadata": {},
   "outputs": [],
   "source": [
    "### compute intensity range time series ###\n",
    "all_traj_zero_init_time = []\n",
    "all_traj_pcna_int_range = []\n",
    "for sct_idx in range(len(sct_list)):\n",
    "        sct_path = sct_list[sct_idx]\n",
    "        with open (sct_path, 'rb') as fp:\n",
    "                sct = pickle.load(fp)\n",
    "        sct_zero_init_time = sct.traj_seri[:,0]-np.min(sct.traj_seri[:,0])   # decreases initial time to 0\n",
    "        sct_int_range = sct.traj_pcna_feature_values[2]\n",
    "        all_traj_zero_init_time.append(sct_zero_init_time)\n",
    "        all_traj_pcna_int_range.append(sct_int_range)"
   ]
  },
  {
   "cell_type": "code",
   "execution_count": null,
   "metadata": {},
   "outputs": [],
   "source": [
    "### plot mean intensity for all trajectories ###\n",
    "fig = plt.figure(figsize=(15,10))\n",
    "ax = fig.add_axes([0,0,1,1])\n",
    "for sct_idx in range(len(sct_list)):\n",
    "    ax.plot(all_traj_zero_init_time[sct_idx],all_traj_pcna_int_range[sct_idx])\n",
    "    ax.set_title('XY1_175 intensity range (bad trajectory)')\n",
    "ax.legend()\n",
    "ax.set_ylabel('pcna intensity range')\n",
    "ax.set_xlabel('t')\n",
    "plt.savefig('XY2_196.jpg',bbox_inches='tight', dpi=150)\n",
    "plt.show()"
   ]
  },
  {
   "cell_type": "code",
   "execution_count": 44,
   "metadata": {},
   "outputs": [
    {
     "data": {
      "image/png": "[encoded data removed]",
      "text/plain": [
       "<Figure size 1080x720 with 1 Axes>"
      ]
     },
     "metadata": {
      "needs_background": "light"
     },
     "output_type": "display_data"
    }
   ],
   "source": [
    "### plot histogram of mean intensity of each trajectory ###\n",
    "all_traj_pcna_temporal_mean_int = []\n",
    "for sct_idx in range(len(all_traj_pcna_mean_int)):\n",
    "    all_traj_pcna_temporal_mean_int.append(np.mean(all_traj_pcna_mean_int[sct_idx]))\n",
    "\n",
    "n_bin = math.ceil(len(all_traj_pcna_temporal_mean_int)/5)\n",
    "\n",
    "fig = plt.figure(figsize=(15,10))\n",
    "ax = fig.add_axes([0,0,1,1])\n",
    "ax.hist(all_traj_pcna_temporal_mean_int, density=True, bins=n_bin)  # density=False would make counts\n",
    "ax.set_ylabel('pcna expression')\n",
    "ax.set_xlabel('t')\n",
    "plt.savefig('011322-tintmean.jpg',bbox_inches='tight', dpi=150)"
   ]
  },
  {
   "cell_type": "markdown",
   "metadata": {},
   "source": [
    "thresholding-create new folder with satisfactory trajectories"
   ]
  },
  {
   "cell_type": "code",
   "execution_count": 45,
   "metadata": {},
   "outputs": [
    {
     "name": "stdout",
     "output_type": "stream",
     "text": [
      "250/456 will be ditched\n"
     ]
    }
   ],
   "source": [
    "good_traj_thres = 400\n",
    "\n",
    "print(str(sum(i < good_traj_thres for i in all_traj_pcna_temporal_mean_int))+'/'+str(len(all_traj_pcna_temporal_mean_int))+' will be ditched')\n",
    "good_traj_path = output_path+'traj/'+traj_folder+'-strong_pcna/'"
   ]
  },
  {
   "cell_type": "code",
   "execution_count": 46,
   "metadata": {},
   "outputs": [],
   "source": [
    "if not os.path.exists(good_traj_path):\n",
    "    os.makedirs(good_traj_path)\n",
    "for sct_idx in range(len(sct_list)):\n",
    "    if all_traj_pcna_temporal_mean_int[sct_idx] >= good_traj_thres:\n",
    "        shutil.copy(sct_list[sct_idx],good_traj_path)"
   ]
  },
  {
   "cell_type": "code",
   "execution_count": null,
   "metadata": {},
   "outputs": [],
   "source": []
  }
 ],
 "metadata": {
  "kernelspec": {
   "display_name": "Python 3 (ipykernel)",
   "language": "python",
   "name": "python3"
  },
  "language_info": {
   "codemirror_mode": {
    "name": "ipython",
    "version": 3
   },
   "file_extension": ".py",
   "mimetype": "text/x-python",
   "name": "python",
   "nbconvert_exporter": "python",
   "pygments_lexer": "ipython3",
   "version": "3.8.10"
  }
 },
 "nbformat": 4,
 "nbformat_minor": 2
}
