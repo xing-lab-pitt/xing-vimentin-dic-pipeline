{
 "cells": [
  {
   "cell_type": "code",
   "execution_count": 1,
   "metadata": {
    "scrolled": true
   },
   "outputs": [],
   "source": [
    "import sys\n",
    "sys.path.insert(0, '/home/thomas/research/projects/emt/src/4_wk_trajectory/')\n",
    "sys.path.insert(1, '/home/thomas/research/projects/emt/src/3-compute/tools/')\n",
    "\n",
    "import warnings\n",
    "warnings.filterwarnings(\"ignore\")\n",
    "\n",
    "import numpy as np\n",
    "from openpyxl import load_workbook\n",
    "import pandas as pd"
   ]
  },
  {
   "cell_type": "markdown",
   "metadata": {},
   "source": [
    "Skip this code entirely if you're not willing to manually rematch trajectories, which you shouldn't"
   ]
  },
  {
   "cell_type": "code",
   "execution_count": 30,
   "metadata": {},
   "outputs": [
    {
     "name": "stdout",
     "output_type": "stream",
     "text": [
      "rematch trajectory found: 265\n",
      "    trajectory begins at entered time\n"
     ]
    }
   ],
   "source": [
    "broken_traj_num = 104\n",
    "init_img_num = 96\n",
    "init_obj_num = 91\n",
    "\n",
    "main_path='/home/thomas/research/projects/a549_40x/data/'\n",
    "output_path=main_path+'out/pcna/01-13-22_72hr_no-treat/XY1/'\n",
    "t_span = 865\n",
    "\n",
    "traj_df=pd.read_csv(output_path+'traj_object_num.csv')\n",
    "traj_record=pd.DataFrame(traj_df.loc[:,'1':str(t_span)]).values\n",
    "init_t_obj=pd.DataFrame(traj_df.loc[:,str(init_img_num)]).values\n",
    "rematched_traj = int(np.where(init_t_obj==init_obj_num)[0]) + 1\n",
    "\n",
    "print('rematch trajectory found: '+str(rematched_traj))\n",
    "if traj_record[rematched_traj-1,init_img_num-2] == -1:\n",
    "    print('    trajectory begins at entered time')\n",
    "else:\n",
    "    print('    this might be the wrong trajectory')"
   ]
  },
  {
   "cell_type": "code",
   "execution_count": 31,
   "metadata": {},
   "outputs": [],
   "source": [
    "traj_df_mit_intact = pd.read_excel(output_path+'traj_object_num-mit_intact.xlsx')\n",
    "traj_label_mit_intact = traj_df_mit_intact.loc[:,0].values\n",
    "rematch_traj_obj_num = traj_record[rematched_traj-1,:]\n",
    "broken_traj_idx = int(np.where(traj_label_mit_intact==broken_traj_num)[0])\n",
    "\n",
    "wb = load_workbook(filename = output_path+'traj_object_num-mit_intact.xlsx')\n",
    "ws = wb['Sheet1']\n",
    "for col in range(len(rematch_traj_obj_num)):\n",
    "    if rematch_traj_obj_num[col] != -1:\n",
    "        ws.cell(column=col+2, row=broken_traj_idx+2, value=rematch_traj_obj_num[col])\n",
    "wb.save(filename = output_path+'traj_object_num-mit_intact.xlsx')"
   ]
  },
  {
   "cell_type": "code",
   "execution_count": null,
   "metadata": {},
   "outputs": [],
   "source": []
  }
 ],
 "metadata": {
  "kernelspec": {
   "display_name": "Python 3",
   "language": "python",
   "name": "python3"
  },
  "language_info": {
   "codemirror_mode": {
    "name": "ipython",
    "version": 3
   },
   "file_extension": ".py",
   "mimetype": "text/x-python",
   "name": "python",
   "nbconvert_exporter": "python",
   "pygments_lexer": "ipython3",
   "version": "3.8.10"
  }
 },
 "nbformat": 4,
 "nbformat_minor": 2
}
