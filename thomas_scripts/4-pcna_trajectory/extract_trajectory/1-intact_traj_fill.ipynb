{
 "cells": [
  {
   "cell_type": "code",
   "execution_count": 17,
   "metadata": {
    "scrolled": true
   },
   "outputs": [],
   "source": [
    "import sys\n",
    "sys.path.insert(0, '/home/thomas/research/projects/emt/scripts/4_wk_trajectory/')\n",
    "sys.path.insert(1, '/home/thomas/research/projects/emt/scripts/memes/')\n",
    "\n",
    "import warnings\n",
    "warnings.filterwarnings(\"ignore\")\n",
    "\n",
    "import numpy as np\n",
    "import pandas as pd"
   ]
  },
  {
   "cell_type": "code",
   "execution_count": 19,
   "metadata": {},
   "outputs": [],
   "source": [
    "main_path='/home/thomas/research/projects/a549_40x/data/'\n",
    "output_path=main_path+'out/pcna/02-03-22_72hr_no-treat/'\n",
    "\n",
    "t_span = 865\n",
    "\n",
    "t_col = []\n",
    "for i in range(t_span):\n",
    "    t_col.append(str(i + 1))\n"
   ]
  },
  {
   "cell_type": "code",
   "execution_count": 20,
   "metadata": {},
   "outputs": [],
   "source": [
    "intact_posi_label=[]\n",
    "intact_traj_label=[]\n",
    "intact_traj_record=[]"
   ]
  },
  {
   "cell_type": "code",
   "execution_count": 21,
   "metadata": {
    "scrolled": true
   },
   "outputs": [],
   "source": [
    "#----------------find intact trajectories---------------\n",
    "for posi in range(1,4):\n",
    "\n",
    "    posi_label = 'XY'+str(posi)\n",
    "    curr_path=output_path+posi_label+'/'\n",
    "    mitosis_df=pd.read_csv(curr_path+'mitosis_record.csv')\n",
    "    traj_df=pd.read_csv(curr_path+'traj_object_num.csv')\n",
    "    traj_record=pd.DataFrame(traj_df.loc[:,'1':str(t_span)]).values\n",
    "\n",
    "    mother_traj_label = mitosis_df.loc[:,'mother_traj_label'].values\n",
    "    sis1_traj_label=mitosis_df.loc[:,'sis1_traj_label'].values\n",
    "    sis2_traj_label=mitosis_df.loc[:,'sis2_traj_label'].values\n",
    "    sis_traj_label=np.hstack([sis1_traj_label,sis2_traj_label])\n",
    "\n",
    "    for traj_label in sis_traj_label:\n",
    "        if traj_label in mother_traj_label:\n",
    "            intact_posi_label.append(int(posi))\n",
    "            intact_traj_label.append(int(traj_label))\n",
    "            intact_traj_record.append(traj_record[int(traj_label)-1])\n",
    "    \n",
    "    intact_traj_record_df = pd.DataFrame(intact_traj_record, columns=t_col)\n",
    "\n",
    "intact_traj_record_df.insert(loc=0, column='position', value=intact_posi_label)\n",
    "intact_traj_record_df.insert(loc=1, column='traj_label', value=intact_traj_label)\n",
    "intact_traj_record_df.to_csv(output_path+'traj_object_num-intact.csv',index=False)"
   ]
  },
  {
   "cell_type": "code",
   "execution_count": null,
   "metadata": {},
   "outputs": [],
   "source": []
  }
 ],
 "metadata": {
  "kernelspec": {
   "display_name": "Python 3",
   "language": "python",
   "name": "python3"
  },
  "language_info": {
   "codemirror_mode": {
    "name": "ipython",
    "version": 3
   },
   "file_extension": ".py",
   "mimetype": "text/x-python",
   "name": "python",
   "nbconvert_exporter": "python",
   "pygments_lexer": "ipython3",
   "version": "3.9.7"
  }
 },
 "nbformat": 4,
 "nbformat_minor": 2
}
