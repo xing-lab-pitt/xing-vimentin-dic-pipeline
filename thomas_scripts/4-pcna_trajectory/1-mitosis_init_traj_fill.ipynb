{
 "cells": [
  {
   "cell_type": "code",
   "execution_count": 2,
   "metadata": {
    "scrolled": true
   },
   "outputs": [],
   "source": [
    "import sys\n",
    "sys.path.insert(0, '/home/thomas/research/projects/a549_40x/scripts/4_wk_trajectory/')\n",
    "sys.path.insert(1, '/home/thomas/research/projects/a549_40x/scripts/memes/')\n",
    "\n",
    "import warnings\n",
    "warnings.filterwarnings(\"ignore\")\n",
    "\n",
    "import numpy as np\n",
    "import pandas as pd"
   ]
  },
  {
   "cell_type": "code",
   "execution_count": 3,
   "metadata": {},
   "outputs": [],
   "source": [
    "main_path='/home/thomas/research/projects/a549_40x/data/'\n",
    "output_path=main_path+'out/pcna/01-13-22_72hr_no-treat/'\n",
    "\n",
    "t_span = 865\n",
    "\n",
    "t_col = []\n",
    "for i in range(t_span):\n",
    "    t_col.append(str(i + 1))\n"
   ]
  },
  {
   "cell_type": "code",
   "execution_count": 4,
   "metadata": {
    "scrolled": true
   },
   "outputs": [],
   "source": [
    "#----------------find long sub traj in a family---------------\n",
    "for posi in range(1,4):\n",
    "\n",
    "    posi_label = 'XY'+str(posi)\n",
    "    curr_path=output_path+posi_label+'/'\n",
    "    mitosis_df=pd.read_csv(curr_path+'mitosis_record.csv')\n",
    "    traj_df=pd.read_csv(curr_path+'traj_object_num.csv')\n",
    "\n",
    "    sis1_traj_label=mitosis_df.loc[:,'sis1_traj_label'].values\n",
    "    sis2_traj_label=mitosis_df.loc[:,'sis2_traj_label'].values\n",
    "    mit_traj_label=np.hstack([sis1_traj_label,sis2_traj_label])\n",
    "    \n",
    "    traj_record=pd.DataFrame(traj_df.loc[:,'1':str(t_span)]).values\n",
    "    mit_traj_record=np.ones(traj_record.shape)*-1\n",
    "\n",
    "    for mit_traj_idx in range(len(mit_traj_label)):\n",
    "        curr_traj_label=int(mit_traj_label[mit_traj_idx])\n",
    "        mit_traj_record[curr_traj_label-1]=traj_record[curr_traj_label-1]\n",
    "    \n",
    "    mit_traj_record_df = pd.DataFrame(mit_traj_record, columns=t_col)\n",
    "\n",
    "    traj_label = []\n",
    "    for i in range(len(traj_record)):\n",
    "        traj_label.append(i + 1)\n",
    "    traj_label = np.array(traj_label)\n",
    "    mit_traj_record_df.insert(loc=0, column='traj_label', value=traj_label)\n",
    "    mit_traj_record_df.to_csv(curr_path+'traj_object_num-mit_init.csv',index=False)\n",
    "\n",
    "    # t_col_new = []\n",
    "    # for i in range(t_span+1):\n",
    "    #     t_col_new.append(i)\n",
    "    # t_col_new = np.array(t_col_new)\n",
    "    # mit_traj_record_t_span = mit_traj_record.copy()\n",
    "    # mit_traj_record_t_span = np.insert(mit_traj_record_t_span, 0, np.array(traj_label), 1)\n",
    "    # traj_idx = 0\n",
    "    # while traj_idx < len(mit_traj_record_t_span) + round(len(mit_traj_record_t_span)/40)-80:\n",
    "    #     if traj_idx >0 and traj_idx%40==0:\n",
    "    #         mit_traj_record_t_span = np.insert(mit_traj_record_t_span, traj_idx, np.array(t_col_new), 0)\n",
    "    #         traj_idx += 2\n",
    "    #     else:\n",
    "    #         traj_idx += 1\n",
    "    # mit_traj_record_t_span_df = pd.DataFrame(mit_traj_record_t_span)\n",
    "    # # mit_traj_record_t_span_df.to_excel(curr_path+'traj_object_num-mit_init.xlsx',index=False)\n",
    "    # mit_traj_record_t_span_df.to_excel(curr_path+'traj_object_num-mit_init.xlsx', index=False)"
   ]
  }
 ],
 "metadata": {
  "kernelspec": {
   "display_name": "Python 3",
   "language": "python",
   "name": "python3"
  },
  "language_info": {
   "codemirror_mode": {
    "name": "ipython",
    "version": 3
   },
   "file_extension": ".py",
   "mimetype": "text/x-python",
   "name": "python",
   "nbconvert_exporter": "python",
   "pygments_lexer": "ipython3",
   "version": "3.8.10"
  }
 },
 "nbformat": 4,
 "nbformat_minor": 2
}
