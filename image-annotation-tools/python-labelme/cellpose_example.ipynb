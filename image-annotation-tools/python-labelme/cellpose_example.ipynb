{
 "cells": [
  {
   "cell_type": "markdown",
   "metadata": {},
   "source": [
    "# Xing Lab Annotation Tool Series - CellPose example usage"
   ]
  },
  {
   "cell_type": "code",
   "execution_count": 1,
   "metadata": {},
   "outputs": [
    {
     "name": "stdout",
     "output_type": "stream",
     "text": [
      "Collecting cellpose\n",
      "  Downloading cellpose-2.0.4-py3-none-any.whl (168 kB)\n",
      "\u001b[2K     \u001b[90m━━━━━━━━━━━━━━━━━━━━━━━━━━━━━━━━━━━━━━━\u001b[0m \u001b[32m168.8/168.8 KB\u001b[0m \u001b[31m2.0 MB/s\u001b[0m eta \u001b[36m0:00:00\u001b[0ma \u001b[36m0:00:01\u001b[0m\n",
      "\u001b[?25hCollecting tqdm\n",
      "  Using cached tqdm-4.64.0-py2.py3-none-any.whl (78 kB)\n",
      "Requirement already satisfied: numpy>=1.20.0 in /Users/random/opt/anaconda3/envs/xing-cv-py37/lib/python3.7/site-packages (from cellpose) (1.21.5)\n",
      "Collecting fastremap\n",
      "  Downloading fastremap-1.12.2-cp37-cp37m-macosx_10_9_x86_64.whl (606 kB)\n",
      "\u001b[2K     \u001b[90m━━━━━━━━━━━━━━━━━━━━━━━━━━━━━━━━━━━━━━━\u001b[0m \u001b[32m606.8/606.8 KB\u001b[0m \u001b[31m8.8 MB/s\u001b[0m eta \u001b[36m0:00:00\u001b[0ma \u001b[36m0:00:01\u001b[0m\n",
      "\u001b[?25hRequirement already satisfied: tifffile in /Users/random/opt/anaconda3/envs/xing-cv-py37/lib/python3.7/site-packages (from cellpose) (2021.11.2)\n",
      "Requirement already satisfied: natsort in /Users/random/opt/anaconda3/envs/xing-cv-py37/lib/python3.7/site-packages (from cellpose) (8.1.0)\n",
      "Collecting numba\n",
      "  Using cached numba-0.55.1-cp37-cp37m-macosx_10_14_x86_64.whl (2.3 MB)\n",
      "Collecting opencv-python-headless\n",
      "  Downloading opencv_python_headless-4.5.5.64-cp36-abi3-macosx_10_15_x86_64.whl (46.3 MB)\n",
      "\u001b[2K     \u001b[90m━━━━━━━━━━━━━━━━━━━━━━━━━━━━━━━━━━━━━━━━\u001b[0m \u001b[32m46.3/46.3 MB\u001b[0m \u001b[31m33.2 MB/s\u001b[0m eta \u001b[36m0:00:00\u001b[0m00:01\u001b[0m00:01\u001b[0m\n",
      "\u001b[?25hRequirement already satisfied: scipy in /Users/random/opt/anaconda3/envs/xing-cv-py37/lib/python3.7/site-packages (from cellpose) (1.7.3)\n",
      "Collecting torch>=1.6\n",
      "  Downloading torch-1.11.0-cp37-none-macosx_10_9_x86_64.whl (129.9 MB)\n",
      "\u001b[2K     \u001b[90m━━━━━━━━━━━━━━━━━━━━━━━━━━━━━━━━━━━━━━\u001b[0m \u001b[32m129.9/129.9 MB\u001b[0m \u001b[31m18.3 MB/s\u001b[0m eta \u001b[36m0:00:00\u001b[0m00:01\u001b[0m00:01\u001b[0m\n",
      "\u001b[?25hRequirement already satisfied: typing-extensions in /Users/random/opt/anaconda3/envs/xing-cv-py37/lib/python3.7/site-packages (from torch>=1.6->cellpose) (4.1.1)\n",
      "Requirement already satisfied: setuptools in /Users/random/opt/anaconda3/envs/xing-cv-py37/lib/python3.7/site-packages (from numba->cellpose) (61.3.1)\n",
      "Collecting llvmlite<0.39,>=0.38.0rc1\n",
      "  Using cached llvmlite-0.38.0-cp37-cp37m-macosx_10_9_x86_64.whl (25.5 MB)\n",
      "Installing collected packages: tqdm, torch, opencv-python-headless, llvmlite, fastremap, numba, cellpose\n",
      "Successfully installed cellpose-2.0.4 fastremap-1.12.2 llvmlite-0.38.0 numba-0.55.1 opencv-python-headless-4.5.5.64 torch-1.11.0 tqdm-4.64.0\n"
     ]
    }
   ],
   "source": [
    "!pip install cellpose"
   ]
  }
 ],
 "metadata": {
  "interpreter": {
   "hash": "a8b5e4d87366c7ed4630637ce3dff60862f83a2aae7a00d96928c158fe0fcc69"
  },
  "kernelspec": {
   "display_name": "Python 3.7.12 ('xing-cv-py37')",
   "language": "python",
   "name": "python3"
  },
  "language_info": {
   "codemirror_mode": {
    "name": "ipython",
    "version": 3
   },
   "file_extension": ".py",
   "mimetype": "text/x-python",
   "name": "python",
   "nbconvert_exporter": "python",
   "pygments_lexer": "ipython3",
   "version": "3.7.12"
  },
  "orig_nbformat": 4
 },
 "nbformat": 4,
 "nbformat_minor": 2
}
