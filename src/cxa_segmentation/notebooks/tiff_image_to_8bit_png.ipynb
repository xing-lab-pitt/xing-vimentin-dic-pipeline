{
 "cells": [
  {
   "cell_type": "code",
   "execution_count": 1,
   "metadata": {},
   "outputs": [
    {
     "name": "stdout",
     "output_type": "stream",
     "text": [
      "120 tif img file paths loaded: \n"
     ]
    }
   ],
   "source": [
    "from PIL import Image, ImageSequence\n",
    "import glob\n",
    "import os\n",
    "import livecell_segment.datasets\n",
    "\n",
    "tif_dir_path = r'''D:\\xing-vimentin-dic-pipeline\\src\\cxa_segmentation\\cxa-data\\june_2022_data\\day0_Notreat_Group1_wellA1_RI_MIP_stitched'''\n",
    "\n",
    "# tif_img_paths = sorted(glob.glob(os.path.join(tif_dir_path , \"*.tif\")))\n",
    "tif_img_dataset = livecell_segment.datasets.LiveCellImageDataset(tif_dir_path)"
   ]
  },
  {
   "cell_type": "code",
   "execution_count": 5,
   "metadata": {},
   "outputs": [],
   "source": [
    "import livecell_segment\n",
    "import livecell_segment.utils\n",
    "\n",
    "output_path = os.path.join(tif_dir_path, \"pngs\")\n",
    "os.makedirs(output_path, exist_ok=False)\n",
    "for idx, img in enumerate(tif_img_dataset):\n",
    "    img = livecell_segment.utils.livetracker_standard_normalize(img)\n",
    "    img = Image.fromarray(img)\n",
    "    img_path = tif_img_dataset.get_img_path(idx)\n",
    "    img = img.convert('L')\n",
    "    img.save(os.path.join(output_path, os.path.basename(img_path).replace(\".tif\", \".png\")))"
   ]
  }
 ],
 "metadata": {
  "kernelspec": {
   "display_name": "Python 3.8.13 ('cv-general')",
   "language": "python",
   "name": "python3"
  },
  "language_info": {
   "codemirror_mode": {
    "name": "ipython",
    "version": 3
   },
   "file_extension": ".py",
   "mimetype": "text/x-python",
   "name": "python",
   "nbconvert_exporter": "python",
   "pygments_lexer": "ipython3",
   "version": "3.8.13"
  },
  "orig_nbformat": 4,
  "vscode": {
   "interpreter": {
    "hash": "b5dfbec2055422cee39dc040b31dfffa8b21a342109231ab17bc6ff9949c7133"
   }
  }
 },
 "nbformat": 4,
 "nbformat_minor": 2
}
