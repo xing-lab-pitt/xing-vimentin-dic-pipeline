{
 "cells": [
  {
   "cell_type": "code",
   "execution_count": 1,
   "metadata": {},
   "outputs": [],
   "source": [
    "import os\n",
    "import sys\n",
    "sys.path.append(\"..\")\n"
   ]
  },
  {
   "cell_type": "code",
   "execution_count": 2,
   "metadata": {},
   "outputs": [],
   "source": [
    "import live_cell_tracker"
   ]
  },
  {
   "cell_type": "code",
   "execution_count": 4,
   "metadata": {},
   "outputs": [
    {
     "data": {
      "text/plain": [
       "<module 'live_cell_tracker.livecell_preprocess.labelme2coco' from 'd:\\\\xing-vimentin-dic-pipeline\\\\src\\\\cxa_segmentation\\\\notebooks\\\\live_cell_tracker\\\\livecell_preprocess\\\\labelme2coco.py'>"
      ]
     },
     "execution_count": 4,
     "metadata": {},
     "output_type": "execute_result"
    }
   ],
   "source": [
    "import live_cell_tracker.livecell_segment\n",
    "import live_cell_tracker.livecell_preprocess\n",
    "import live_cell_tracker.livecell_preprocess.labelme2coco\n",
    "\n",
    "live_cell_tracker.livecell_preprocess.labelme2coco.get_coco_from_labelme_folder()"
   ]
  }
 ],
 "metadata": {
  "kernelspec": {
   "display_name": "Python 3.8.13 ('cv-general')",
   "language": "python",
   "name": "python3"
  },
  "language_info": {
   "codemirror_mode": {
    "name": "ipython",
    "version": 3
   },
   "file_extension": ".py",
   "mimetype": "text/x-python",
   "name": "python",
   "nbconvert_exporter": "python",
   "pygments_lexer": "ipython3",
   "version": "3.8.13"
  },
  "orig_nbformat": 4,
  "vscode": {
   "interpreter": {
    "hash": "b5dfbec2055422cee39dc040b31dfffa8b21a342109231ab17bc6ff9949c7133"
   }
  }
 },
 "nbformat": 4,
 "nbformat_minor": 2
}
