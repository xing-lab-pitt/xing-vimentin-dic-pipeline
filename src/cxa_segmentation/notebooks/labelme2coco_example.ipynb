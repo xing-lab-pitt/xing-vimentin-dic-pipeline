{
 "cells": [
  {
   "cell_type": "code",
   "execution_count": 1,
   "metadata": {},
   "outputs": [],
   "source": [
    "import os\n",
    "import sys\n",
    "\n",
    "sys.path.append(\"..\")\n"
   ]
  },
  {
   "cell_type": "code",
   "execution_count": 2,
   "metadata": {},
   "outputs": [],
   "source": [
    "import live_cell_tracker\n"
   ]
  },
  {
   "cell_type": "code",
   "execution_count": 3,
   "metadata": {},
   "outputs": [
    {
     "name": "stdout",
     "output_type": "stream",
     "text": [
      "There are 3 listed files in folder Yajushi.\n"
     ]
    },
    {
     "name": "stderr",
     "output_type": "stream",
     "text": [
      "Converting labelme annotations to COCO format: 100%|██████████| 3/3 [00:00<00:00, 81.08it/s]\n",
      "09/05/2022 21:26:36 - INFO - live_cell_tracker.annotation.labelme2coco -   Converted annotations in COCO format is exported to labelme2coco_test_output\\dataset.json\n"
     ]
    },
    {
     "name": "stdout",
     "output_type": "stream",
     "text": [
      "loading image from: D:\\xing-vimentin-dic-pipeline\\src\\cxa_segmentation\\cxa-data\\annotation-June\\Yajushi\\day0Notreat_Group_1_wellA1_RI_MIP_stitched\\T001.tif\n",
      "loading image from: D:\\xing-vimentin-dic-pipeline\\src\\cxa_segmentation\\cxa-data\\annotation-June\\Yajushi\\day0Notreat_Group_1_wellA1_RI_MIP_stitched\\T050.tif\n",
      "loading image from: D:\\xing-vimentin-dic-pipeline\\src\\cxa_segmentation\\cxa-data\\annotation-June\\Yajushi\\day0Notreat_Group_1_wellA1_RI_MIP_stitched\\T100.tif\n"
     ]
    }
   ],
   "source": [
    "import live_cell_tracker.livecell_segment\n",
    "import live_cell_tracker.annotation\n",
    "import live_cell_tracker.annotation.labelme2coco\n",
    "\n",
    "labelme_json_folder = r\"\"\"D:\\xing-vimentin-dic-pipeline\\src\\cxa_segmentation\\cxa-data\\annotation-June\\Yajushi\"\"\"\n",
    "export_dir = \"./labelme2coco_test_output/\"\n",
    "live_cell_tracker.annotation.labelme2coco.convert(\n",
    "    labelme_json_folder,\n",
    "    export_dir,\n",
    "    train_split_rate=1,\n",
    "    is_image_filename_same_as_json=True,\n",
    "    image_file_ext=\"tif\",\n",
    ")\n",
    "# live_cell_tracker.livecell_preprocess.labelme2coco.get_coco_from_labelme_folder(labelme_json_folder)\n"
   ]
  }
 ],
 "metadata": {
  "kernelspec": {
   "display_name": "Python 3.8.13 ('cv-general')",
   "language": "python",
   "name": "python3"
  },
  "language_info": {
   "codemirror_mode": {
    "name": "ipython",
    "version": 3
   },
   "file_extension": ".py",
   "mimetype": "text/x-python",
   "name": "python",
   "nbconvert_exporter": "python",
   "pygments_lexer": "ipython3",
   "version": "3.8.13"
  },
  "orig_nbformat": 4,
  "vscode": {
   "interpreter": {
    "hash": "b5dfbec2055422cee39dc040b31dfffa8b21a342109231ab17bc6ff9949c7133"
   }
  }
 },
 "nbformat": 4,
 "nbformat_minor": 2
}
