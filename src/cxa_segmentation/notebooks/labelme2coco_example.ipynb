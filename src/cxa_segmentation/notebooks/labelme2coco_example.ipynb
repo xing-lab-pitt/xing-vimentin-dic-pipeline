{
 "cells": [
  {
   "cell_type": "code",
   "execution_count": 1,
   "metadata": {},
   "outputs": [],
   "source": [
    "import os\n",
    "import sys\n",
    "\n",
    "sys.path.append(\"..\")\n"
   ]
  },
  {
   "cell_type": "code",
   "execution_count": 2,
   "metadata": {},
   "outputs": [],
   "source": [
    "import live_cell_tracker\n"
   ]
  },
  {
   "cell_type": "code",
   "execution_count": 3,
   "metadata": {},
   "outputs": [
    {
     "name": "stdout",
     "output_type": "stream",
     "text": [
      "There are 21 listed files in folder Yajushi.\n"
     ]
    },
    {
     "name": "stderr",
     "output_type": "stream",
     "text": [
      "Converting labelme annotations to COCO format:   0%|          | 0/21 [00:00<?, ?it/s]"
     ]
    },
    {
     "name": "stdout",
     "output_type": "stream",
     "text": [
      "dataset_folder_path:  D:\\xing-vimentin-dic-pipeline\\src\\cxa_segmentation\\cxa-data\\june_2022_data\n",
      "dataset_name:  day0_Notreat_Group1_wellA1_RI_MIP_stitched\n",
      "temp:  D:\\xing-vimentin-dic-pipeline\\src\\cxa_segmentation\\cxa-data\\june_2022_data\\day0_Notreat_Group1_wellA1_RI_MIP_stitched\\T1.tif\n",
      "loading image from: D:\\xing-vimentin-dic-pipeline\\src\\cxa_segmentation\\cxa-data\\june_2022_data\\day0_Notreat_Group1_wellA1_RI_MIP_stitched\\T1.tif\n"
     ]
    },
    {
     "name": "stderr",
     "output_type": "stream",
     "text": [
      "\n"
     ]
    },
    {
     "ename": "FileNotFoundError",
     "evalue": "[Errno 2] No such file or directory: 'D:\\\\xing-vimentin-dic-pipeline\\\\src\\\\cxa_segmentation\\\\cxa-data\\\\june_2022_data\\\\day0_Notreat_Group1_wellA1_RI_MIP_stitched\\\\T1.tif'",
     "output_type": "error",
     "traceback": [
      "\u001b[1;31m---------------------------------------------------------------------------\u001b[0m",
      "\u001b[1;31mFileNotFoundError\u001b[0m                         Traceback (most recent call last)",
      "\u001b[1;32md:\\xing-vimentin-dic-pipeline\\src\\cxa_segmentation\\notebooks\\labelme2coco_example.ipynb Cell 3\u001b[0m in \u001b[0;36m<cell line: 8>\u001b[1;34m()\u001b[0m\n\u001b[0;32m      <a href='vscode-notebook-cell:/d%3A/xing-vimentin-dic-pipeline/src/cxa_segmentation/notebooks/labelme2coco_example.ipynb#W5sZmlsZQ%3D%3D?line=5'>6</a>\u001b[0m dataset_folder_path \u001b[39m=\u001b[39m \u001b[39mr\u001b[39m\u001b[39m\"\"\"\u001b[39m\u001b[39mD:\u001b[39m\u001b[39m\\\u001b[39m\u001b[39mxing-vimentin-dic-pipeline\u001b[39m\u001b[39m\\\u001b[39m\u001b[39msrc\u001b[39m\u001b[39m\\\u001b[39m\u001b[39mcxa_segmentation\u001b[39m\u001b[39m\\\u001b[39m\u001b[39mcxa-data\u001b[39m\u001b[39m\\\u001b[39m\u001b[39mjune_2022_data\u001b[39m\u001b[39m\"\"\"\u001b[39m\n\u001b[0;32m      <a href='vscode-notebook-cell:/d%3A/xing-vimentin-dic-pipeline/src/cxa_segmentation/notebooks/labelme2coco_example.ipynb#W5sZmlsZQ%3D%3D?line=6'>7</a>\u001b[0m export_dir \u001b[39m=\u001b[39m \u001b[39m\"\u001b[39m\u001b[39m./labelme2coco_test_output/\u001b[39m\u001b[39m\"\u001b[39m\n\u001b[1;32m----> <a href='vscode-notebook-cell:/d%3A/xing-vimentin-dic-pipeline/src/cxa_segmentation/notebooks/labelme2coco_example.ipynb#W5sZmlsZQ%3D%3D?line=7'>8</a>\u001b[0m live_cell_tracker\u001b[39m.\u001b[39;49mannotation\u001b[39m.\u001b[39;49mlabelme2coco\u001b[39m.\u001b[39;49mconvert(\n\u001b[0;32m      <a href='vscode-notebook-cell:/d%3A/xing-vimentin-dic-pipeline/src/cxa_segmentation/notebooks/labelme2coco_example.ipynb#W5sZmlsZQ%3D%3D?line=8'>9</a>\u001b[0m     labelme_json_folder,\n\u001b[0;32m     <a href='vscode-notebook-cell:/d%3A/xing-vimentin-dic-pipeline/src/cxa_segmentation/notebooks/labelme2coco_example.ipynb#W5sZmlsZQ%3D%3D?line=9'>10</a>\u001b[0m     export_dir,\n\u001b[0;32m     <a href='vscode-notebook-cell:/d%3A/xing-vimentin-dic-pipeline/src/cxa_segmentation/notebooks/labelme2coco_example.ipynb#W5sZmlsZQ%3D%3D?line=10'>11</a>\u001b[0m     train_split_rate\u001b[39m=\u001b[39;49m\u001b[39m1\u001b[39;49m,\n\u001b[0;32m     <a href='vscode-notebook-cell:/d%3A/xing-vimentin-dic-pipeline/src/cxa_segmentation/notebooks/labelme2coco_example.ipynb#W5sZmlsZQ%3D%3D?line=11'>12</a>\u001b[0m     dataset_folder_path\u001b[39m=\u001b[39;49mdataset_folder_path,\n\u001b[0;32m     <a href='vscode-notebook-cell:/d%3A/xing-vimentin-dic-pipeline/src/cxa_segmentation/notebooks/labelme2coco_example.ipynb#W5sZmlsZQ%3D%3D?line=12'>13</a>\u001b[0m     \u001b[39m# is_image_image_in_json_folder=True,\u001b[39;49;00m\n\u001b[0;32m     <a href='vscode-notebook-cell:/d%3A/xing-vimentin-dic-pipeline/src/cxa_segmentation/notebooks/labelme2coco_example.ipynb#W5sZmlsZQ%3D%3D?line=13'>14</a>\u001b[0m     image_file_ext\u001b[39m=\u001b[39;49m\u001b[39m\"\u001b[39;49m\u001b[39mtif\u001b[39;49m\u001b[39m\"\u001b[39;49m,\n\u001b[0;32m     <a href='vscode-notebook-cell:/d%3A/xing-vimentin-dic-pipeline/src/cxa_segmentation/notebooks/labelme2coco_example.ipynb#W5sZmlsZQ%3D%3D?line=14'>15</a>\u001b[0m )\n",
      "File \u001b[1;32md:\\xing-vimentin-dic-pipeline\\src\\cxa_segmentation\\notebooks\\live_cell_tracker\\annotation\\labelme2coco.py:147\u001b[0m, in \u001b[0;36mconvert\u001b[1;34m(labelme_folder, export_dir, train_split_rate, is_image_image_in_json_folder, dataset_folder_path, image_file_ext)\u001b[0m\n\u001b[0;32m    132\u001b[0m \u001b[39mdef\u001b[39;00m \u001b[39mconvert\u001b[39m(\n\u001b[0;32m    133\u001b[0m     labelme_folder: \u001b[39mstr\u001b[39m,\n\u001b[0;32m    134\u001b[0m     export_dir: \u001b[39mstr\u001b[39m \u001b[39m=\u001b[39m \u001b[39m\"\u001b[39m\u001b[39mruns/labelme2coco/\u001b[39m\u001b[39m\"\u001b[39m,\n\u001b[1;32m   (...)\u001b[0m\n\u001b[0;32m    139\u001b[0m \n\u001b[0;32m    140\u001b[0m ):\n\u001b[0;32m    141\u001b[0m     \u001b[39m\"\"\"\u001b[39;00m\n\u001b[0;32m    142\u001b[0m \u001b[39m    Args:\u001b[39;00m\n\u001b[0;32m    143\u001b[0m \u001b[39m        labelme_folder: folder that contains labelme annotations and image files\u001b[39;00m\n\u001b[0;32m    144\u001b[0m \u001b[39m        export_dir: path for coco jsons to be exported\u001b[39;00m\n\u001b[0;32m    145\u001b[0m \u001b[39m        train_split_rate: ration fo train split\u001b[39;00m\n\u001b[0;32m    146\u001b[0m \u001b[39m    \"\"\"\u001b[39;00m\n\u001b[1;32m--> 147\u001b[0m     coco \u001b[39m=\u001b[39m get_coco_from_labelme_folder(\n\u001b[0;32m    148\u001b[0m         labelme_folder,\n\u001b[0;32m    149\u001b[0m         is_image_image_in_json_folder\u001b[39m=\u001b[39;49mis_image_image_in_json_folder,\n\u001b[0;32m    150\u001b[0m         image_file_ext\u001b[39m=\u001b[39;49mimage_file_ext,\n\u001b[0;32m    151\u001b[0m         dataset_folder_path\u001b[39m=\u001b[39;49mdataset_folder_path,\n\u001b[0;32m    152\u001b[0m     )\n\u001b[0;32m    153\u001b[0m     \u001b[39mif\u001b[39;00m train_split_rate \u001b[39m<\u001b[39m \u001b[39m1\u001b[39m:\n\u001b[0;32m    154\u001b[0m         result \u001b[39m=\u001b[39m coco\u001b[39m.\u001b[39msplit_coco_as_train_val(train_split_rate)\n",
      "File \u001b[1;32md:\\xing-vimentin-dic-pipeline\\src\\cxa_segmentation\\notebooks\\live_cell_tracker\\annotation\\labelme2coco.py:82\u001b[0m, in \u001b[0;36mget_coco_from_labelme_folder\u001b[1;34m(labelme_folder, coco_category_list, is_image_image_in_json_folder, image_file_ext, dataset_folder_path)\u001b[0m\n\u001b[0;32m     80\u001b[0m data \u001b[39m=\u001b[39m load_json(json_path)\n\u001b[0;32m     81\u001b[0m \u001b[39m# get image size\u001b[39;00m\n\u001b[1;32m---> 82\u001b[0m image, image_path \u001b[39m=\u001b[39m _load_image(json_path, data)\n\u001b[0;32m     83\u001b[0m width, height \u001b[39m=\u001b[39m image\u001b[39m.\u001b[39msize\n\u001b[0;32m     85\u001b[0m \u001b[39m# init coco image\u001b[39;00m\n",
      "File \u001b[1;32md:\\xing-vimentin-dic-pipeline\\src\\cxa_segmentation\\notebooks\\live_cell_tracker\\annotation\\labelme2coco.py:73\u001b[0m, in \u001b[0;36mget_coco_from_labelme_folder.<locals>._load_image\u001b[1;34m(json_path, labelme_data)\u001b[0m\n\u001b[0;32m     71\u001b[0m     image_path \u001b[39m=\u001b[39m json_path\u001b[39m.\u001b[39mreplace(\u001b[39m\"\u001b[39m\u001b[39m.json\u001b[39m\u001b[39m\"\u001b[39m, \u001b[39m\"\u001b[39m\u001b[39m.\u001b[39m\u001b[39m\"\u001b[39m \u001b[39m+\u001b[39m image_file_ext)\n\u001b[0;32m     72\u001b[0m \u001b[39mprint\u001b[39m(\u001b[39m\"\u001b[39m\u001b[39mloading image from:\u001b[39m\u001b[39m\"\u001b[39m, image_path)\n\u001b[1;32m---> 73\u001b[0m \u001b[39mreturn\u001b[39;00m Image\u001b[39m.\u001b[39;49mopen(image_path), image_path\n",
      "File \u001b[1;32mc:\\Users\\dummy\\Anaconda3\\envs\\cv-general\\lib\\site-packages\\PIL\\Image.py:3068\u001b[0m, in \u001b[0;36mopen\u001b[1;34m(fp, mode, formats)\u001b[0m\n\u001b[0;32m   3065\u001b[0m     filename \u001b[39m=\u001b[39m fp\n\u001b[0;32m   3067\u001b[0m \u001b[39mif\u001b[39;00m filename:\n\u001b[1;32m-> 3068\u001b[0m     fp \u001b[39m=\u001b[39m builtins\u001b[39m.\u001b[39;49mopen(filename, \u001b[39m\"\u001b[39;49m\u001b[39mrb\u001b[39;49m\u001b[39m\"\u001b[39;49m)\n\u001b[0;32m   3069\u001b[0m     exclusive_fp \u001b[39m=\u001b[39m \u001b[39mTrue\u001b[39;00m\n\u001b[0;32m   3071\u001b[0m \u001b[39mtry\u001b[39;00m:\n",
      "\u001b[1;31mFileNotFoundError\u001b[0m: [Errno 2] No such file or directory: 'D:\\\\xing-vimentin-dic-pipeline\\\\src\\\\cxa_segmentation\\\\cxa-data\\\\june_2022_data\\\\day0_Notreat_Group1_wellA1_RI_MIP_stitched\\\\T1.tif'"
     ]
    }
   ],
   "source": [
    "import live_cell_tracker.livecell_segment\n",
    "import live_cell_tracker.annotation\n",
    "import live_cell_tracker.annotation.labelme2coco\n",
    "\n",
    "labelme_json_folder = r\"\"\"D:\\xing-vimentin-dic-pipeline\\src\\cxa_segmentation\\cxa-data\\annotation_results\\Yajushi\"\"\"\n",
    "dataset_folder_path = r\"\"\"D:\\xing-vimentin-dic-pipeline\\src\\cxa_segmentation\\cxa-data\\june_2022_data\"\"\"\n",
    "export_dir = \"./labelme2coco_test_output/\"\n",
    "live_cell_tracker.annotation.labelme2coco.convert(\n",
    "    labelme_json_folder,\n",
    "    export_dir,\n",
    "    train_split_rate=1,\n",
    "    dataset_folder_path=dataset_folder_path,\n",
    "    # is_image_image_in_json_folder=True,\n",
    "    image_file_ext=\"tif\",\n",
    ")\n",
    "# live_cell_tracker.livecell_preprocess.labelme2coco.get_coco_from_labelme_folder(labelme_json_folder)\n"
   ]
  },
  {
   "cell_type": "markdown",
   "metadata": {},
   "source": []
  }
 ],
 "metadata": {
  "kernelspec": {
   "display_name": "Python 3.8.13 ('cv-general')",
   "language": "python",
   "name": "python3"
  },
  "language_info": {
   "codemirror_mode": {
    "name": "ipython",
    "version": 3
   },
   "file_extension": ".py",
   "mimetype": "text/x-python",
   "name": "python",
   "nbconvert_exporter": "python",
   "pygments_lexer": "ipython3",
   "version": "3.8.13"
  },
  "orig_nbformat": 4,
  "vscode": {
   "interpreter": {
    "hash": "b5dfbec2055422cee39dc040b31dfffa8b21a342109231ab17bc6ff9949c7133"
   }
  }
 },
 "nbformat": 4,
 "nbformat_minor": 2
}
