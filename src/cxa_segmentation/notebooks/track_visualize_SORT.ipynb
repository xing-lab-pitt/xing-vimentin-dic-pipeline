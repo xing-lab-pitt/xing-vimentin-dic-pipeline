{
 "cells": [
  {
   "cell_type": "markdown",
   "metadata": {},
   "source": [
    "## Visualize Track results"
   ]
  },
  {
   "cell_type": "code",
   "execution_count": 1,
   "metadata": {},
   "outputs": [
    {
     "name": "stdout",
     "output_type": "stream",
     "text": [
      "288 png img file paths loaded: \n",
      "288 png img file paths loaded: \n"
     ]
    }
   ],
   "source": [
    "from pathlib import Path\n",
    "import cv2\n",
    "import sys\n",
    "import numpy as np\n",
    "from skimage import feature, measure\n",
    "import live_cell_tracker\n",
    "from live_cell_tracker.livecell_segment import datasets\n",
    "import live_cell_tracker.livecell_segment\n",
    "from live_cell_tracker import livecell_segment\n",
    "import live_cell_tracker.core.utils\n",
    "from tqdm import tqdm\n",
    "\n",
    "seg_path = r\"\"\"D:\\xing-vimentin-dic-pipeline\\src\\cxa_segmentation\\notebooks\\segmentation_results\\detectron_model3\\restart_day0_Group 1_wellA1_RI_MIP_stitched\"\"\"\n",
    "label_seg_imgs = livecell_segment.datasets.LiveCellImageDataset(seg_path, ext=\"png\")\n",
    "dir_path = Path(\n",
    "    r\"D:\\xing-vimentin-dic-pipeline\\src\\cxa_segmentation\\cxa-data\\june_2022_data_8bit_png\\restart_day0_Group 1_wellA1_RI_MIP_stitched\"\n",
    ")\n",
    "raw_imgs = livecell_segment.datasets.LiveCellImageDataset(dir_path, ext=\"png\")\n"
   ]
  },
  {
   "cell_type": "markdown",
   "metadata": {},
   "source": [
    "### load bbox paths"
   ]
  },
  {
   "cell_type": "code",
   "execution_count": 2,
   "metadata": {},
   "outputs": [
    {
     "data": {
      "text/plain": [
       "int"
      ]
     },
     "execution_count": 2,
     "metadata": {},
     "output_type": "execute_result"
    }
   ],
   "source": [
    "import json\n",
    "\n",
    "_track_bbs_path = (\n",
    "    \"detectron_model3_all_track_bbs-restart_day0_Group 1_wellA1_RI_MIP_stitched.json\"\n",
    ")\n",
    "with open(_track_bbs_path, \"r\") as in_f:\n",
    "    json_in = json.load(in_f)\n",
    "type(json_in[0][0][0])\n"
   ]
  },
  {
   "cell_type": "code",
   "execution_count": 3,
   "metadata": {},
   "outputs": [],
   "source": [
    "all_track_bbs = [np.array(track_bbs, dtype=int) for track_bbs in json_in]\n"
   ]
  },
  {
   "cell_type": "code",
   "execution_count": 4,
   "metadata": {},
   "outputs": [
    {
     "data": {
      "text/plain": [
       "(27, 5)"
      ]
     },
     "execution_count": 4,
     "metadata": {},
     "output_type": "execute_result"
    }
   ],
   "source": [
    "all_track_bbs[0].shape\n"
   ]
  },
  {
   "cell_type": "markdown",
   "metadata": {},
   "source": [
    "### Manually check bboxes  \n",
    " - be careful: coordinates of numpy/skimage/cv2/pixel/rowCol/bbox"
   ]
  },
  {
   "cell_type": "code",
   "execution_count": 5,
   "metadata": {},
   "outputs": [
    {
     "data": {
      "image/png": "[encoded data removed]",
      "text/plain": [
       "<Figure size 432x288 with 1 Axes>"
      ]
     },
     "metadata": {
      "needs_background": "light"
     },
     "output_type": "display_data"
    }
   ],
   "source": [
    "import matplotlib.pyplot as plt\n",
    "import matplotlib.patches as patches\n",
    "\n",
    "idx = 2\n",
    "bboxes = all_track_bbs[idx]\n",
    "fig, ax = plt.subplots()\n",
    "ax.imshow(raw_imgs[idx])\n",
    "for bbox in bboxes:\n",
    "    # Create a Rectangle patch\n",
    "    rect = patches.Rectangle(\n",
    "        (bbox[1], bbox[0]),\n",
    "        (bbox[3] - bbox[1]),\n",
    "        (bbox[2] - bbox[0]),\n",
    "        linewidth=1,\n",
    "        edgecolor=\"r\",\n",
    "        facecolor=\"none\",\n",
    "    )\n",
    "    # Add the patch to the Axes\n",
    "    ax.add_patch(rect)\n",
    "# plt.show()\n"
   ]
  },
  {
   "cell_type": "markdown",
   "metadata": {},
   "source": [
    "Add information to SingleCellTrajectory"
   ]
  },
  {
   "cell_type": "code",
   "execution_count": 6,
   "metadata": {},
   "outputs": [],
   "source": [
    "import matplotlib.pyplot as plt\n",
    "from matplotlib.animation import FuncAnimation\n",
    "import os\n",
    "from live_cell_tracker.core import SingleCellTrajectory, SingleCellStatic, single_cell\n",
    "\n",
    "id_to_sc_trajs = {}\n",
    "for timeframe, objects in enumerate(all_track_bbs):\n",
    "    for obj in objects:\n",
    "        track_id = obj[-1]\n",
    "        if not (track_id in id_to_sc_trajs):\n",
    "            new_traj = SingleCellTrajectory(raw_imgs, track_id=track_id)\n",
    "            id_to_sc_trajs[track_id] = new_traj\n",
    "        # print(\"obj: \", obj)\n",
    "        sc = SingleCellStatic(\n",
    "            timeframe, bbox=obj[:4]\n",
    "        )  # final column is track_id, ignore as we only need bbox here\n",
    "        _traj = id_to_sc_trajs[track_id]\n",
    "        _traj.add_timeframe_data(timeframe, sc)\n"
   ]
  },
  {
   "cell_type": "code",
   "execution_count": null,
   "metadata": {},
   "outputs": [],
   "source": [
    "%matplotlib widget\n",
    "from typing import List\n",
    "from live_cell_tracker.track.movie import generate_single_trajectory_movie\n",
    "output_path = Path(\"./track_tmp\")\n",
    "output_path.mkdir(exist_ok=True)\n",
    "for traj_id, traj in id_to_sc_trajs.items():\n",
    "    generate_single_trajectory_movie(\n",
    "        traj, raw_imgs, save_path=output_path / \"track_{}.gif\".format(traj_id)\n",
    "    )\n"
   ]
  }
 ],
 "metadata": {
  "kernelspec": {
   "display_name": "Python 3.8.13 ('cv-general')",
   "language": "python",
   "name": "python3"
  },
  "language_info": {
   "codemirror_mode": {
    "name": "ipython",
    "version": 3
   },
   "file_extension": ".py",
   "mimetype": "text/x-python",
   "name": "python",
   "nbconvert_exporter": "python",
   "pygments_lexer": "ipython3",
   "version": "3.8.13"
  },
  "orig_nbformat": 4,
  "vscode": {
   "interpreter": {
    "hash": "b5dfbec2055422cee39dc040b31dfffa8b21a342109231ab17bc6ff9949c7133"
   }
  }
 },
 "nbformat": 4,
 "nbformat_minor": 2
}
