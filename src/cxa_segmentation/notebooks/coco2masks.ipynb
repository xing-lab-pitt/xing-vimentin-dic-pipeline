{
 "cells": [
  {
   "cell_type": "markdown",
   "metadata": {},
   "source": [
    "## Package installation"
   ]
  },
  {
   "cell_type": "code",
   "execution_count": 1,
   "metadata": {},
   "outputs": [],
   "source": [
    "# !pip install pycocotools\n",
    "# !pip install fiftyone"
   ]
  },
  {
   "cell_type": "code",
   "execution_count": 2,
   "metadata": {},
   "outputs": [],
   "source": [
    "from pycocotools.coco import COCO\n",
    "from PIL import Image"
   ]
  },
  {
   "cell_type": "code",
   "execution_count": 3,
   "metadata": {},
   "outputs": [
    {
     "name": "stdout",
     "output_type": "stream",
     "text": [
      "loading annotations into memory...\n",
      "Done (t=0.02s)\n",
      "creating index...\n",
      "index created!\n"
     ]
    }
   ],
   "source": [
    "coco_annotation_file_path = r\"\"\"D:\\xing-vimentin-dic-pipeline\\src\\cxa_segmentation\\notebooks\\labelme2coco_test_output\\dataset.json\"\"\"\n",
    "\n",
    "coco_annotation = COCO(annotation_file=coco_annotation_file_path)\n"
   ]
  },
  {
   "cell_type": "code",
   "execution_count": 4,
   "metadata": {},
   "outputs": [
    {
     "data": {
      "text/plain": [
       "{'iscrowd': 0,\n",
       " 'image_id': 1,\n",
       " 'bbox': [1137, 1309, 283, 264],\n",
       " 'segmentation': [[1256,\n",
       "   1308,\n",
       "   1347,\n",
       "   1322,\n",
       "   1411,\n",
       "   1375,\n",
       "   1419,\n",
       "   1417,\n",
       "   1394,\n",
       "   1486,\n",
       "   1342,\n",
       "   1542,\n",
       "   1275,\n",
       "   1572,\n",
       "   1194,\n",
       "   1539,\n",
       "   1150,\n",
       "   1486,\n",
       "   1136,\n",
       "   1433,\n",
       "   1175,\n",
       "   1364]],\n",
       " 'category_id': 0,\n",
       " 'id': 1,\n",
       " 'area': 52403}"
      ]
     },
     "execution_count": 4,
     "metadata": {},
     "output_type": "execute_result"
    }
   ],
   "source": [
    "coco_annotation.cats\n",
    "coco_annotation.anns[1]"
   ]
  },
  {
   "cell_type": "code",
   "execution_count": 6,
   "metadata": {},
   "outputs": [],
   "source": [
    "from matplotlib import pyplot as plt\n",
    "import numpy as np\n",
    "import os\n",
    "from pathlib import Path\n",
    "\n",
    "mask = coco_annotation.annToMask(coco_annotation.anns[3])\n",
    "\n",
    "output_dir = \"./tmp/coco_binary_aggregated_masks\"\n",
    "os.makedirs(output_dir, exist_ok=True)\n",
    "\n",
    "def convert_coco_cat_to_mask(coco_annotation, cat_id, output_dir):\n",
    "    \"\"\"Converts a coco category to a binary mask. For each image, collect all of its annotations and aggregate them into a single mask.\n",
    "\n",
    "    Parameters\n",
    "    ----------\n",
    "    coco_annotation : \n",
    "        COCO annotation object\n",
    "    cat_id : \n",
    "        category IDs specified in COCO json files\n",
    "    output_dir :\n",
    "        Output directory to save the masks\n",
    "    \"\"\"\n",
    "    coco_img_ids = list(coco_annotation.imgs.keys())\n",
    "    id2anns = coco_annotation.imgToAnns\n",
    "    for img_id, anns in id2anns.items():\n",
    "        mask = None\n",
    "        for ann in anns:\n",
    "            if not (ann[\"category_id\"] == cat_id):\n",
    "                continue\n",
    "            tmp_mask = coco_annotation.annToMask(ann)\n",
    "            if mask is None:\n",
    "                mask = tmp_mask\n",
    "            mask = np.logical_or(mask, tmp_mask)\n",
    "        # print(type(mask))\n",
    "        # plt.imshow(mask)\n",
    "        # plt.show()\n",
    "        img = Image.fromarray(mask)\n",
    "        img.save(Path(output_dir) / f\"{img_id}.png\")\n",
    "convert_coco_cat_to_mask(coco_annotation, cat_id=0, output_dir=output_dir)"
   ]
  }
 ],
 "metadata": {
  "kernelspec": {
   "display_name": "Python 3.8.13 ('cv-general')",
   "language": "python",
   "name": "python3"
  },
  "language_info": {
   "codemirror_mode": {
    "name": "ipython",
    "version": 3
   },
   "file_extension": ".py",
   "mimetype": "text/x-python",
   "name": "python",
   "nbconvert_exporter": "python",
   "pygments_lexer": "ipython3",
   "version": "3.8.13"
  },
  "orig_nbformat": 4,
  "vscode": {
   "interpreter": {
    "hash": "b5dfbec2055422cee39dc040b31dfffa8b21a342109231ab17bc6ff9949c7133"
   }
  }
 },
 "nbformat": 4,
 "nbformat_minor": 2
}
