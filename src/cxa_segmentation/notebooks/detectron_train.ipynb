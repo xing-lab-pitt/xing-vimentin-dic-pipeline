{
 "cells": [
  {
   "cell_type": "code",
   "execution_count": 5,
   "metadata": {},
   "outputs": [
    {
     "name": "stdout",
     "output_type": "stream",
     "text": [
      "Requirement already satisfied: pyyaml==5.1 in c:\\users\\dummy\\anaconda3\\envs\\cv-general\\lib\\site-packages (5.1)\n",
      "Collecting git+https://github.com/facebookresearch/detectron2.git\n",
      "  Cloning https://github.com/facebookresearch/detectron2.git to c:\\users\\dummy\\appdata\\local\\temp\\pip-req-build-35jzpvbo\n",
      "  Resolved https://github.com/facebookresearch/detectron2.git to commit 3cfda4704cb3b23255f29d683cf05cbaf10daaa4\n",
      "Requirement already satisfied: Pillow>=7.1 in c:\\users\\dummy\\anaconda3\\envs\\cv-general\\lib\\site-packages (from detectron2==0.6) (9.1.0)\n",
      "Requirement already satisfied: matplotlib in c:\\users\\dummy\\anaconda3\\envs\\cv-general\\lib\\site-packages (from detectron2==0.6) (3.5.2)\n",
      "Collecting pycocotools>=2.0.2\n",
      "  Downloading pycocotools-2.0.4.tar.gz (106 kB)\n",
      "  Installing build dependencies: started\n",
      "  Installing build dependencies: finished with status 'done'\n",
      "  Getting requirements to build wheel: started\n",
      "  Getting requirements to build wheel: finished with status 'done'\n",
      "    Preparing wheel metadata: started\n",
      "    Preparing wheel metadata: finished with status 'done'\n",
      "Collecting termcolor>=1.1\n",
      "  Using cached termcolor-1.1.0-py3-none-any.whl\n",
      "Collecting yacs>=0.1.8\n",
      "  Downloading yacs-0.1.8-py3-none-any.whl (14 kB)\n",
      "Collecting tabulate\n",
      "  Downloading tabulate-0.8.10-py3-none-any.whl (29 kB)\n",
      "Collecting cloudpickle\n",
      "  Downloading cloudpickle-2.1.0-py3-none-any.whl (25 kB)\n",
      "Requirement already satisfied: tqdm>4.29.0 in c:\\users\\dummy\\anaconda3\\envs\\cv-general\\lib\\site-packages (from detectron2==0.6) (4.64.0)\n",
      "Requirement already satisfied: tensorboard in c:\\users\\dummy\\anaconda3\\envs\\cv-general\\lib\\site-packages (from detectron2==0.6) (2.8.0)\n",
      "Collecting fvcore<0.1.6,>=0.1.5\n",
      "  Downloading fvcore-0.1.5.post20220512.tar.gz (50 kB)\n",
      "Collecting iopath<0.1.10,>=0.1.7\n",
      "  Downloading iopath-0.1.9-py3-none-any.whl (27 kB)\n",
      "Collecting future\n",
      "  Using cached future-0.18.2-py3-none-any.whl\n",
      "Collecting pydot\n",
      "  Downloading pydot-1.4.2-py2.py3-none-any.whl (21 kB)\n",
      "Collecting omegaconf>=2.1\n",
      "  Downloading omegaconf-2.2.3-py3-none-any.whl (79 kB)\n",
      "Collecting hydra-core>=1.1\n",
      "  Downloading hydra_core-1.2.0-py3-none-any.whl (151 kB)\n",
      "Requirement already satisfied: black==22.3.0 in c:\\users\\dummy\\anaconda3\\envs\\cv-general\\lib\\site-packages (from detectron2==0.6) (22.3.0)\n",
      "Collecting timm\n",
      "  Downloading timm-0.6.7-py3-none-any.whl (509 kB)\n",
      "Collecting fairscale\n",
      "  Downloading fairscale-0.4.8.tar.gz (260 kB)\n",
      "  Installing build dependencies: started\n",
      "  Installing build dependencies: finished with status 'done'\n",
      "  Getting requirements to build wheel: started\n",
      "  Getting requirements to build wheel: finished with status 'done'\n",
      "  Installing backend dependencies: started\n",
      "  Installing backend dependencies: finished with status 'done'\n",
      "    Preparing wheel metadata: started\n",
      "    Preparing wheel metadata: finished with status 'done'\n",
      "Requirement already satisfied: packaging in c:\\users\\dummy\\anaconda3\\envs\\cv-general\\lib\\site-packages (from detectron2==0.6) (21.3)\n",
      "Requirement already satisfied: mypy-extensions>=0.4.3 in c:\\users\\dummy\\anaconda3\\envs\\cv-general\\lib\\site-packages (from black==22.3.0->detectron2==0.6) (0.4.3)\n",
      "Requirement already satisfied: platformdirs>=2 in c:\\users\\dummy\\anaconda3\\envs\\cv-general\\lib\\site-packages (from black==22.3.0->detectron2==0.6) (2.5.1)\n",
      "Requirement already satisfied: click>=8.0.0 in c:\\users\\dummy\\anaconda3\\envs\\cv-general\\lib\\site-packages (from black==22.3.0->detectron2==0.6) (8.1.2)\n",
      "Requirement already satisfied: typing-extensions>=3.10.0.0 in c:\\users\\dummy\\anaconda3\\envs\\cv-general\\lib\\site-packages (from black==22.3.0->detectron2==0.6) (4.1.1)\n",
      "Requirement already satisfied: tomli>=1.1.0 in c:\\users\\dummy\\anaconda3\\envs\\cv-general\\lib\\site-packages (from black==22.3.0->detectron2==0.6) (2.0.1)\n",
      "Requirement already satisfied: pathspec>=0.9.0 in c:\\users\\dummy\\anaconda3\\envs\\cv-general\\lib\\site-packages (from black==22.3.0->detectron2==0.6) (0.9.0)\n",
      "Requirement already satisfied: colorama in c:\\users\\dummy\\anaconda3\\envs\\cv-general\\lib\\site-packages (from click>=8.0.0->black==22.3.0->detectron2==0.6) (0.4.4)\n",
      "Requirement already satisfied: numpy in c:\\users\\dummy\\anaconda3\\envs\\cv-general\\lib\\site-packages (from fvcore<0.1.6,>=0.1.5->detectron2==0.6) (1.22.3)\n",
      "Requirement already satisfied: pyyaml>=5.1 in c:\\users\\dummy\\anaconda3\\envs\\cv-general\\lib\\site-packages (from fvcore<0.1.6,>=0.1.5->detectron2==0.6) (5.1)\n",
      "Requirement already satisfied: importlib-resources in c:\\users\\dummy\\anaconda3\\envs\\cv-general\\lib\\site-packages (from hydra-core>=1.1->detectron2==0.6) (5.8.0)\n",
      "Collecting antlr4-python3-runtime==4.9.*\n",
      "  Downloading antlr4-python3-runtime-4.9.3.tar.gz (117 kB)\n",
      "Collecting portalocker\n",
      "  Downloading portalocker-2.5.1-py2.py3-none-any.whl (15 kB)\n",
      "Requirement already satisfied: kiwisolver>=1.0.1 in c:\\users\\dummy\\anaconda3\\envs\\cv-general\\lib\\site-packages (from matplotlib->detectron2==0.6) (1.4.3)\n",
      "Requirement already satisfied: fonttools>=4.22.0 in c:\\users\\dummy\\anaconda3\\envs\\cv-general\\lib\\site-packages (from matplotlib->detectron2==0.6) (4.34.4)\n",
      "Requirement already satisfied: python-dateutil>=2.7 in c:\\users\\dummy\\anaconda3\\envs\\cv-general\\lib\\site-packages (from matplotlib->detectron2==0.6) (2.8.2)\n",
      "Requirement already satisfied: cycler>=0.10 in c:\\users\\dummy\\anaconda3\\envs\\cv-general\\lib\\site-packages (from matplotlib->detectron2==0.6) (0.11.0)\n",
      "Requirement already satisfied: pyparsing>=2.2.1 in c:\\users\\dummy\\anaconda3\\envs\\cv-general\\lib\\site-packages (from matplotlib->detectron2==0.6) (3.0.7)\n",
      "Requirement already satisfied: six>=1.5 in c:\\users\\dummy\\anaconda3\\envs\\cv-general\\lib\\site-packages (from python-dateutil>=2.7->matplotlib->detectron2==0.6) (1.16.0)\n",
      "Requirement already satisfied: torch>=1.8.0 in c:\\users\\dummy\\anaconda3\\envs\\cv-general\\lib\\site-packages (from fairscale->detectron2==0.6) (1.10.1)\n",
      "Requirement already satisfied: zipp>=3.1.0 in c:\\users\\dummy\\anaconda3\\envs\\cv-general\\lib\\site-packages (from importlib-resources->hydra-core>=1.1->detectron2==0.6) (3.8.0)\n",
      "Requirement already satisfied: pywin32>=226 in c:\\users\\dummy\\anaconda3\\envs\\cv-general\\lib\\site-packages (from portalocker->iopath<0.1.10,>=0.1.7->detectron2==0.6) (303)\n",
      "Requirement already satisfied: protobuf>=3.6.0 in c:\\users\\dummy\\anaconda3\\envs\\cv-general\\lib\\site-packages (from tensorboard->detectron2==0.6) (3.20.0)\n",
      "Requirement already satisfied: requests<3,>=2.21.0 in c:\\users\\dummy\\anaconda3\\envs\\cv-general\\lib\\site-packages (from tensorboard->detectron2==0.6) (2.27.1)\n",
      "Requirement already satisfied: markdown>=2.6.8 in c:\\users\\dummy\\anaconda3\\envs\\cv-general\\lib\\site-packages (from tensorboard->detectron2==0.6) (3.3.6)\n",
      "Requirement already satisfied: google-auth<3,>=1.6.3 in c:\\users\\dummy\\anaconda3\\envs\\cv-general\\lib\\site-packages (from tensorboard->detectron2==0.6) (2.6.2)\n",
      "Requirement already satisfied: setuptools>=41.0.0 in c:\\users\\dummy\\anaconda3\\envs\\cv-general\\lib\\site-packages (from tensorboard->detectron2==0.6) (58.0.4)\n",
      "Requirement already satisfied: google-auth-oauthlib<0.5,>=0.4.1 in c:\\users\\dummy\\anaconda3\\envs\\cv-general\\lib\\site-packages (from tensorboard->detectron2==0.6) (0.4.6)\n",
      "Requirement already satisfied: werkzeug>=0.11.15 in c:\\users\\dummy\\anaconda3\\envs\\cv-general\\lib\\site-packages (from tensorboard->detectron2==0.6) (2.1.1)\n",
      "Requirement already satisfied: absl-py>=0.4 in c:\\users\\dummy\\anaconda3\\envs\\cv-general\\lib\\site-packages (from tensorboard->detectron2==0.6) (1.0.0)\n",
      "Requirement already satisfied: tensorboard-data-server<0.7.0,>=0.6.0 in c:\\users\\dummy\\anaconda3\\envs\\cv-general\\lib\\site-packages (from tensorboard->detectron2==0.6) (0.6.1)\n",
      "Requirement already satisfied: wheel>=0.26 in c:\\users\\dummy\\anaconda3\\envs\\cv-general\\lib\\site-packages (from tensorboard->detectron2==0.6) (0.37.1)\n",
      "Requirement already satisfied: grpcio>=1.24.3 in c:\\users\\dummy\\anaconda3\\envs\\cv-general\\lib\\site-packages (from tensorboard->detectron2==0.6) (1.44.0)\n",
      "Requirement already satisfied: tensorboard-plugin-wit>=1.6.0 in c:\\users\\dummy\\anaconda3\\envs\\cv-general\\lib\\site-packages (from tensorboard->detectron2==0.6) (1.8.1)\n",
      "Requirement already satisfied: cachetools<6.0,>=2.0.0 in c:\\users\\dummy\\anaconda3\\envs\\cv-general\\lib\\site-packages (from google-auth<3,>=1.6.3->tensorboard->detectron2==0.6) (5.0.0)\n",
      "Requirement already satisfied: rsa<5,>=3.1.4 in c:\\users\\dummy\\anaconda3\\envs\\cv-general\\lib\\site-packages (from google-auth<3,>=1.6.3->tensorboard->detectron2==0.6) (4.8)\n",
      "Requirement already satisfied: pyasn1-modules>=0.2.1 in c:\\users\\dummy\\anaconda3\\envs\\cv-general\\lib\\site-packages (from google-auth<3,>=1.6.3->tensorboard->detectron2==0.6) (0.2.8)\n",
      "Requirement already satisfied: requests-oauthlib>=0.7.0 in c:\\users\\dummy\\anaconda3\\envs\\cv-general\\lib\\site-packages (from google-auth-oauthlib<0.5,>=0.4.1->tensorboard->detectron2==0.6) (1.3.1)\n",
      "Requirement already satisfied: importlib-metadata>=4.4 in c:\\users\\dummy\\anaconda3\\envs\\cv-general\\lib\\site-packages (from markdown>=2.6.8->tensorboard->detectron2==0.6) (4.11.3)\n",
      "Requirement already satisfied: pyasn1<0.5.0,>=0.4.6 in c:\\users\\dummy\\anaconda3\\envs\\cv-general\\lib\\site-packages (from pyasn1-modules>=0.2.1->google-auth<3,>=1.6.3->tensorboard->detectron2==0.6) (0.4.8)\n",
      "Requirement already satisfied: charset-normalizer~=2.0.0 in c:\\users\\dummy\\anaconda3\\envs\\cv-general\\lib\\site-packages (from requests<3,>=2.21.0->tensorboard->detectron2==0.6) (2.0.12)\n",
      "Requirement already satisfied: urllib3<1.27,>=1.21.1 in c:\\users\\dummy\\anaconda3\\envs\\cv-general\\lib\\site-packages (from requests<3,>=2.21.0->tensorboard->detectron2==0.6) (1.26.9)\n",
      "Requirement already satisfied: certifi>=2017.4.17 in c:\\users\\dummy\\anaconda3\\envs\\cv-general\\lib\\site-packages (from requests<3,>=2.21.0->tensorboard->detectron2==0.6) (2021.10.8)\n",
      "Requirement already satisfied: idna<4,>=2.5 in c:\\users\\dummy\\anaconda3\\envs\\cv-general\\lib\\site-packages (from requests<3,>=2.21.0->tensorboard->detectron2==0.6) (3.3)\n",
      "Requirement already satisfied: oauthlib>=3.0.0 in c:\\users\\dummy\\anaconda3\\envs\\cv-general\\lib\\site-packages (from requests-oauthlib>=0.7.0->google-auth-oauthlib<0.5,>=0.4.1->tensorboard->detectron2==0.6) (3.2.0)\n",
      "Requirement already satisfied: torchvision in c:\\users\\dummy\\anaconda3\\envs\\cv-general\\lib\\site-packages (from timm->detectron2==0.6) (0.11.2)\n",
      "Building wheels for collected packages: detectron2, fvcore, antlr4-python3-runtime, pycocotools, fairscale\n",
      "  Building wheel for detectron2 (setup.py): started\n",
      "  Building wheel for detectron2 (setup.py): finished with status 'done'\n",
      "  Created wheel for detectron2: filename=detectron2-0.6-cp38-cp38-win_amd64.whl size=873305 sha256=c5011ed41ea30dbcc1ea55a4a68544d26e22c4ade14437229fcf3f080c95cfd2\n",
      "  Stored in directory: C:\\Users\\dummy\\AppData\\Local\\Temp\\pip-ephem-wheel-cache-ywv0yq9v\\wheels\\19\\ac\\65\\e48e5e4ec2702274d927c5a6efb75709b24014371d3bb778f2\n",
      "  Building wheel for fvcore (setup.py): started\n",
      "  Building wheel for fvcore (setup.py): finished with status 'done'\n",
      "  Created wheel for fvcore: filename=fvcore-0.1.5.post20220512-py3-none-any.whl size=61288 sha256=1c6eef29307429c9c3dd3647507dec490ee80930fb1429ec8eacda061386c87c\n",
      "  Stored in directory: c:\\users\\dummy\\appdata\\local\\pip\\cache\\wheels\\bc\\f4\\d9\\8b3c3f254c28aa2daf5e2f5a8070b0a960278733fd2eb1f7a2\n",
      "  Building wheel for antlr4-python3-runtime (setup.py): started\n",
      "  Building wheel for antlr4-python3-runtime (setup.py): finished with status 'done'\n",
      "  Created wheel for antlr4-python3-runtime: filename=antlr4_python3_runtime-4.9.3-py3-none-any.whl size=144575 sha256=13c2c1d22dfcd1d3992545c529a5131261b45fac77555c8b13d507229e42ec7b\n",
      "  Stored in directory: c:\\users\\dummy\\appdata\\local\\pip\\cache\\wheels\\b1\\a3\\c2\\6df046c09459b73cc9bb6c4401b0be6c47048baf9a1617c485\n",
      "  Building wheel for pycocotools (PEP 517): started\n",
      "  Building wheel for pycocotools (PEP 517): finished with status 'done'\n",
      "  Created wheel for pycocotools: filename=pycocotools-2.0.4-cp38-cp38-win_amd64.whl size=75140 sha256=211d9e31eaefc8e3ece6370862813b89d979c00bac2ce70e642e4db91ff38e4a\n",
      "  Stored in directory: c:\\users\\dummy\\appdata\\local\\pip\\cache\\wheels\\dd\\e2\\43\\3e93cd653b3346b3d702bb0509bc611189f95d60407bff1484\n",
      "  Building wheel for fairscale (PEP 517): started\n",
      "  Building wheel for fairscale (PEP 517): finished with status 'done'\n",
      "  Created wheel for fairscale: filename=fairscale-0.4.8-py3-none-any.whl size=322470 sha256=2740ddb9f6c75738aa92a618dceeb308bd25f7073d540cd78b490d149061f452\n",
      "  Stored in directory: c:\\users\\dummy\\appdata\\local\\pip\\cache\\wheels\\de\\26\\3f\\8015821f724631dcde49b6fdc0673bd19b9770eb9213dad882\n",
      "Successfully built detectron2 fvcore antlr4-python3-runtime pycocotools fairscale\n",
      "Installing collected packages: portalocker, antlr4-python3-runtime, yacs, termcolor, tabulate, omegaconf, iopath, timm, pydot, pycocotools, hydra-core, fvcore, future, fairscale, cloudpickle, detectron2\n",
      "Successfully installed antlr4-python3-runtime-4.9.3 cloudpickle-2.1.0 detectron2-0.6 fairscale-0.4.8 future-0.18.2 fvcore-0.1.5.post20220512 hydra-core-1.2.0 iopath-0.1.9 omegaconf-2.2.3 portalocker-2.5.1 pycocotools-2.0.4 pydot-1.4.2 tabulate-0.8.10 termcolor-1.1.0 timm-0.6.7 yacs-0.1.8\n"
     ]
    },
    {
     "name": "stderr",
     "output_type": "stream",
     "text": [
      "  Running command git clone -q https://github.com/facebookresearch/detectron2.git 'C:\\Users\\dummy\\AppData\\Local\\Temp\\pip-req-build-35jzpvbo'\n"
     ]
    }
   ],
   "source": [
    "!pip install pyyaml==5.1\n",
    "!pip install \"git+https://github.com/facebookresearch/detectron2.git\""
   ]
  },
  {
   "cell_type": "code",
   "execution_count": 6,
   "metadata": {},
   "outputs": [
    {
     "name": "stdout",
     "output_type": "stream",
     "text": [
      "torch:  1.10 ; cuda:  1.10.1\n",
      "detectron2: 0.6\n"
     ]
    },
    {
     "name": "stderr",
     "output_type": "stream",
     "text": [
      "'nvcc' is not recognized as an internal or external command,\n",
      "operable program or batch file.\n"
     ]
    }
   ],
   "source": [
    "import torch, detectron2\n",
    "!nvcc --version\n",
    "TORCH_VERSION = \".\".join(torch.__version__.split(\".\")[:2])\n",
    "CUDA_VERSION = torch.__version__.split(\"+\")[-1]\n",
    "print(\"torch: \", TORCH_VERSION, \"; cuda: \", CUDA_VERSION)\n",
    "print(\"detectron2:\", detectron2.__version__)"
   ]
  },
  {
   "cell_type": "markdown",
   "metadata": {},
   "source": [
    "Import Detectron"
   ]
  },
  {
   "cell_type": "code",
   "execution_count": 8,
   "metadata": {},
   "outputs": [],
   "source": [
    "import detectron2\n",
    "from detectron2.utils.logger import setup_logger\n",
    "setup_logger()\n",
    "\n",
    "# import some common libraries\n",
    "import numpy as np\n",
    "import os, json, cv2, random\n",
    "import cv2\n",
    "\n",
    "# import some common detectron2 utilities\n",
    "from detectron2 import model_zoo\n",
    "from detectron2.engine import DefaultPredictor\n",
    "from detectron2.config import get_cfg\n",
    "from detectron2.utils.visualizer import Visualizer\n",
    "from detectron2.data import MetadataCatalog, DatasetCatalog"
   ]
  },
  {
   "cell_type": "code",
   "execution_count": null,
   "metadata": {},
   "outputs": [],
   "source": [
    "from detectron2.data.datasets import register_coco_instances\n",
    "data_path = \"/content/drive/MyDrive/PHD/Internships/Pittsburg University - Xing Lab/Collab_datatrain.json\",\"/content/drive/MyDrive/PHD/Internships/Pittsburg University - Xing Lab/Collab_data/data\"\n",
    "val_data_path = \"/content/drive/MyDrive/PHD/Internships/Pittsburg University - Xing Lab/Collab_dataval.json\",\"/content/drive/MyDrive/PHD/Internships/Pittsburg University - Xing Lab/Collab_data/data\"\n",
    "register_coco_instances(\"deepfashion_train\", {}, data_path)\n",
    "register_coco_instances(\"deepfashion_val\", {}, val_data_path)"
   ]
  },
  {
   "cell_type": "markdown",
   "metadata": {},
   "source": [
    "## Detectron config"
   ]
  },
  {
   "cell_type": "code",
   "execution_count": 9,
   "metadata": {},
   "outputs": [],
   "source": [
    "cfg = get_cfg()\n",
    "\n",
    "cfg.merge_from_file(model_zoo.get_config_file(\"COCO-InstanceSegmentation/mask_rcnn_R_50_FPN_3x.yaml\"))\n",
    "cfg.DATASETS.TRAIN = (\"deepfashion_val\",)\n",
    "cfg.DATASETS.TEST = ()\n",
    "cfg.MODEL.WEIGHTS = model_zoo.get_checkpoint_url(\"COCO-InstanceSegmentation/mask_rcnn_R_50_FPN_3x.yaml\")  # Let training initialize from model zoo\n",
    "\n",
    "cfg.SOLVER.IMS_PER_BATCH = 4\n",
    "cfg.SOLVER.BASE_LR = 0.001\n",
    "cfg.SOLVER.WARMUP_ITERS = 1000\n",
    "cfg.SOLVER.MAX_ITER = 300\n",
    "cfg.SOLVER.STEPS = (1000, 1500)\n",
    "cfg.SOLVER.GAMMA = 0.05\n",
    "cfg.MODEL.ROI_HEADS.BATCH_SIZE_PER_IMAGE = 64\n",
    "cfg.MODEL.ROI_HEADS.NUM_CLASSES = 13\n",
    "\n",
    "cfg.TEST.EVAL_PERIOD = 500"
   ]
  },
  {
   "cell_type": "code",
   "execution_count": null,
   "metadata": {},
   "outputs": [],
   "source": []
  }
 ],
 "metadata": {
  "kernelspec": {
   "display_name": "Python 3.8.13 ('cv-general')",
   "language": "python",
   "name": "python3"
  },
  "language_info": {
   "codemirror_mode": {
    "name": "ipython",
    "version": 3
   },
   "file_extension": ".py",
   "mimetype": "text/x-python",
   "name": "python",
   "nbconvert_exporter": "python",
   "pygments_lexer": "ipython3",
   "version": "3.8.13"
  },
  "orig_nbformat": 4,
  "vscode": {
   "interpreter": {
    "hash": "b5dfbec2055422cee39dc040b31dfffa8b21a342109231ab17bc6ff9949c7133"
   }
  }
 },
 "nbformat": 4,
 "nbformat_minor": 2
}
