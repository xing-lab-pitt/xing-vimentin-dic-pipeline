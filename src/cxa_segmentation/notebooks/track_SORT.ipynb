{
 "cells": [
  {
   "cell_type": "code",
   "execution_count": 1,
   "metadata": {},
   "outputs": [
    {
     "name": "stdout",
     "output_type": "stream",
     "text": [
      "288 png img file paths loaded: \n",
      "288 png img file paths loaded: \n"
     ]
    }
   ],
   "source": [
    "from pathlib import Path\n",
    "import cv2\n",
    "import sys\n",
    "import numpy as np\n",
    "from skimage import feature, measure\n",
    "import live_cell_tracker\n",
    "from live_cell_tracker.livecell_segment import datasets\n",
    "import live_cell_tracker.livecell_segment\n",
    "from live_cell_tracker import livecell_segment\n",
    "import live_cell_tracker.core.utils\n",
    "from tqdm import tqdm\n",
    "seg_path = r\"\"\"D:\\xing-vimentin-dic-pipeline\\src\\cxa_segmentation\\notebooks\\segmentation_results\\detectron_model3\\restart_day0_Group 1_wellA1_RI_MIP_stitched\"\"\"\n",
    "label_seg_imgs = livecell_segment.datasets.LiveCellImageDataset(seg_path, ext=\"png\")\n",
    "dir_path = Path(\n",
    "    r\"D:\\xing-vimentin-dic-pipeline\\src\\cxa_segmentation\\cxa-data\\june_2022_data_8bit_png\\restart_day0_Group 1_wellA1_RI_MIP_stitched\"\n",
    ")\n",
    "raw_imgs = livecell_segment.datasets.LiveCellImageDataset(dir_path, ext=\"png\")"
   ]
  },
  {
   "cell_type": "code",
   "execution_count": 2,
   "metadata": {},
   "outputs": [
    {
     "name": "stderr",
     "output_type": "stream",
     "text": [
      "100%|██████████| 288/288 [00:10<00:00, 28.50it/s]\n"
     ]
    }
   ],
   "source": [
    "def gen_detections_for_sort_tracker(label_mask):\n",
    "    \"\"\"\n",
    "        generate detections for SORT tracker. detections: [x1, y1, x2, y2, score]\n",
    "    Parameters\n",
    "    ----------\n",
    "    label_mask :\n",
    "        an image\n",
    "    Returns\n",
    "    -------\n",
    "    A list of (x1, y1, x2, y2, score]) for each object detected\n",
    "    \"\"\"    \n",
    "    regionprops_skimge = measure.regionprops(label_mask)\n",
    "    boxes = live_cell_tracker.core.utils.get_bbox_from_regionprops(regionprops_skimge)\n",
    "    detections = np.array([list(bbox) + [1] for bbox in boxes])\n",
    "    return detections\n",
    "\n",
    "import live_cell_tracker.track.sort_tracker\n",
    "tracker = live_cell_tracker.track.sort_tracker.Sort() \n",
    "\n",
    "all_track_bbs = []\n",
    "for i, img in enumerate(tqdm(label_seg_imgs)):\n",
    "    detections = gen_detections_for_sort_tracker(img)\n",
    "    track_bbs_ids = tracker.update(detections)\n",
    "    all_track_bbs.append(track_bbs_ids)\n",
    "    # for testing\n",
    "    # if i > 5:\n",
    "    #     break"
   ]
  },
  {
   "cell_type": "code",
   "execution_count": 11,
   "metadata": {},
   "outputs": [
    {
     "name": "stderr",
     "output_type": "stream",
     "text": [
      "C:\\Users\\dummy\\AppData\\Local\\Temp\\ipykernel_1184\\3789225958.py:13: UserWarning: Attempting to set identical bottom == top == -0.5 results in singular transformations; automatically expanding.\n",
      "  ax.imshow(img_crop)\n"
     ]
    },
    {
     "data": {
      "text/plain": [
       "(27, 5)"
      ]
     },
     "execution_count": 11,
     "metadata": {},
     "output_type": "execute_result"
    },
    {
     "name": "stderr",
     "output_type": "stream",
     "text": [
      "C:\\Users\\dummy\\AppData\\Local\\Temp\\ipykernel_1184\\3789225958.py:13: UserWarning: Attempting to set identical bottom == top == -0.5 results in singular transformations; automatically expanding.\n",
      "  ax.imshow(img_crop)\n"
     ]
    }
   ],
   "source": [
    "all_track_bbs[0].shape"
   ]
  },
  {
   "cell_type": "markdown",
   "metadata": {},
   "source": [
    "convert to int"
   ]
  },
  {
   "cell_type": "code",
   "execution_count": 54,
   "metadata": {},
   "outputs": [
    {
     "data": {
      "text/plain": [
       "[[1, 1396, 67, 1581, 27],\n",
       " [734, 2114, 914, 2264, 26],\n",
       " [382, 274, 469, 390, 25],\n",
       " [1385, 1310, 1445, 1363, 24],\n",
       " [1395, 1278, 1450, 1323, 23],\n",
       " [1829, 1590, 1906, 1619, 22],\n",
       " [144, 1333, 231, 1391, 21],\n",
       " [285, 270, 342, 358, 20],\n",
       " [60, 1266, 148, 1329, 19],\n",
       " [90, 1414, 166, 1473, 18],\n",
       " [1850, 1369, 1904, 1419, 17],\n",
       " [12, 1234, 301, 1400, 16],\n",
       " [271, 465, 351, 529, 15],\n",
       " [7, 1234, 115, 1304, 14],\n",
       " [760, 2236, 987, 2377, 13],\n",
       " [1012, 2321, 1102, 2385, 12],\n",
       " [103, 1304, 322, 1406, 11],\n",
       " [1733, 1571, 1989, 1690, 10],\n",
       " [988, 2282, 1140, 2402, 9],\n",
       " [780, 2238, 821, 2253, 8],\n",
       " [1783, 1494, 2034, 1574, 7],\n",
       " [69, 424, 607, 694, 6],\n",
       " [350, 180, 584, 413, 5],\n",
       " [1789, 1256, 2015, 1480, 4],\n",
       " [48, 1391, 280, 1543, 3],\n",
       " [1297, 1159, 1571, 1481, 2],\n",
       " [152, 190, 359, 445, 1]]"
      ]
     },
     "execution_count": 54,
     "metadata": {},
     "output_type": "execute_result"
    },
    {
     "name": "stderr",
     "output_type": "stream",
     "text": [
      "C:\\Users\\dummy\\AppData\\Local\\Temp\\ipykernel_1184\\3789225958.py:13: UserWarning: Attempting to set identical bottom == top == -0.5 results in singular transformations; automatically expanding.\n",
      "  ax.imshow(img_crop)\n"
     ]
    }
   ],
   "source": [
    "all_track_bbs = [track_bbs.astype(np.int32).tolist() for track_bbs in all_track_bbs]\n",
    "all_track_bbs[0]"
   ]
  },
  {
   "cell_type": "markdown",
   "metadata": {},
   "source": [
    "### Save track bbox results to json for later development"
   ]
  },
  {
   "cell_type": "code",
   "execution_count": 55,
   "metadata": {},
   "outputs": [
    {
     "data": {
      "text/plain": [
       "int"
      ]
     },
     "execution_count": 55,
     "metadata": {},
     "output_type": "execute_result"
    },
    {
     "name": "stderr",
     "output_type": "stream",
     "text": [
      "C:\\Users\\dummy\\AppData\\Local\\Temp\\ipykernel_1184\\3789225958.py:13: UserWarning: Attempting to set identical bottom == top == -0.5 results in singular transformations; automatically expanding.\n",
      "  ax.imshow(img_crop)\n"
     ]
    }
   ],
   "source": [
    "dest_track_bbs_path = \"detectron_model3_all_track_bbs-restart_day0_Group 1_wellA1_RI_MIP_stitched.json\"\n",
    "import json\n",
    "with open(dest_track_bbs_path, \"w+\") as out_f:\n",
    "    json.dump(all_track_bbs, out_f)\n"
   ]
  },
  {
   "cell_type": "markdown",
   "metadata": {},
   "source": [
    "## Visualize Track results"
   ]
  },
  {
   "cell_type": "code",
   "execution_count": null,
   "metadata": {},
   "outputs": [],
   "source": [
    "with open(dest_track_bbs_path, \"r\") as in_f:\n",
    "    json_in = json.load(in_f)\n",
    "type(json_in[0][0][0])"
   ]
  },
  {
   "cell_type": "code",
   "execution_count": 56,
   "metadata": {},
   "outputs": [],
   "source": [
    "all_track_bbs = [np.array(track_bbs, dtype=int) for track_bbs in json_in]"
   ]
  },
  {
   "cell_type": "code",
   "execution_count": 57,
   "metadata": {},
   "outputs": [
    {
     "name": "stderr",
     "output_type": "stream",
     "text": [
      "C:\\Users\\dummy\\AppData\\Local\\Temp\\ipykernel_1184\\3789225958.py:13: UserWarning: Attempting to set identical bottom == top == -0.5 results in singular transformations; automatically expanding.\n",
      "  ax.imshow(img_crop)\n"
     ]
    },
    {
     "data": {
      "text/plain": [
       "(27, 5)"
      ]
     },
     "execution_count": 57,
     "metadata": {},
     "output_type": "execute_result"
    },
    {
     "name": "stderr",
     "output_type": "stream",
     "text": [
      "C:\\Users\\dummy\\AppData\\Local\\Temp\\ipykernel_1184\\3789225958.py:13: UserWarning: Attempting to set identical bottom == top == -0.5 results in singular transformations; automatically expanding.\n",
      "  ax.imshow(img_crop)\n"
     ]
    }
   ],
   "source": [
    "all_track_bbs[0].shape"
   ]
  },
  {
   "cell_type": "code",
   "execution_count": 5,
   "metadata": {},
   "outputs": [],
   "source": [
    "import matplotlib.pyplot as plt\n",
    "import matplotlib.patches as patches\n",
    "idx = 2\n",
    "bboxes = all_track_bbs[idx]\n",
    "fig, ax = plt.subplots()\n",
    "ax.imshow(raw_imgs[idx])\n",
    "for bbox in bboxes:\n",
    "    # Create a Rectangle patch\n",
    "    rect = patches.Rectangle((bbox[1], bbox[0]),  (bbox[3] - bbox[1]), (bbox[2] - bbox[0]), linewidth=1, edgecolor='r', facecolor='none')\n",
    "    # Add the patch to the Axes\n",
    "    ax.add_patch(rect)\n",
    "# plt.show()\n"
   ]
  },
  {
   "cell_type": "code",
   "execution_count": 8,
   "metadata": {},
   "outputs": [
    {
     "data": {
      "text/plain": [
       "{1,\n",
       " 2,\n",
       " 3,\n",
       " 4,\n",
       " 5,\n",
       " 6,\n",
       " 7,\n",
       " 8,\n",
       " 9,\n",
       " 10,\n",
       " 11,\n",
       " 12,\n",
       " 13,\n",
       " 14,\n",
       " 15,\n",
       " 16,\n",
       " 17,\n",
       " 18,\n",
       " 19,\n",
       " 20,\n",
       " 21,\n",
       " 22,\n",
       " 23,\n",
       " 24,\n",
       " 25,\n",
       " 26,\n",
       " 27,\n",
       " 28,\n",
       " 29,\n",
       " 30,\n",
       " 31,\n",
       " 32,\n",
       " 35,\n",
       " 36,\n",
       " 51,\n",
       " 53,\n",
       " 54,\n",
       " 56,\n",
       " 58,\n",
       " 59,\n",
       " 65,\n",
       " 66,\n",
       " 72,\n",
       " 76,\n",
       " 79,\n",
       " 87,\n",
       " 88,\n",
       " 93,\n",
       " 101,\n",
       " 103,\n",
       " 104,\n",
       " 109,\n",
       " 112,\n",
       " 116,\n",
       " 118,\n",
       " 132,\n",
       " 134,\n",
       " 135,\n",
       " 136,\n",
       " 139,\n",
       " 143,\n",
       " 148,\n",
       " 153,\n",
       " 154,\n",
       " 156,\n",
       " 158,\n",
       " 159,\n",
       " 165,\n",
       " 173,\n",
       " 185,\n",
       " 192,\n",
       " 194,\n",
       " 200,\n",
       " 224,\n",
       " 230,\n",
       " 231,\n",
       " 236,\n",
       " 246,\n",
       " 258,\n",
       " 259,\n",
       " 261,\n",
       " 264,\n",
       " 267,\n",
       " 278,\n",
       " 279,\n",
       " 284,\n",
       " 288,\n",
       " 289,\n",
       " 291,\n",
       " 292,\n",
       " 295,\n",
       " 298,\n",
       " 299,\n",
       " 304,\n",
       " 306,\n",
       " 310,\n",
       " 311,\n",
       " 313,\n",
       " 317,\n",
       " 320,\n",
       " 326,\n",
       " 330,\n",
       " 345,\n",
       " 357,\n",
       " 360,\n",
       " 366,\n",
       " 376,\n",
       " 378,\n",
       " 384,\n",
       " 385,\n",
       " 394,\n",
       " 402,\n",
       " 405,\n",
       " 411,\n",
       " 414,\n",
       " 415,\n",
       " 416,\n",
       " 421,\n",
       " 428,\n",
       " 456,\n",
       " 461,\n",
       " 462,\n",
       " 465,\n",
       " 468,\n",
       " 479,\n",
       " 482,\n",
       " 487,\n",
       " 489,\n",
       " 495,\n",
       " 496,\n",
       " 500,\n",
       " 503,\n",
       " 504,\n",
       " 506,\n",
       " 507,\n",
       " 510,\n",
       " 512,\n",
       " 518,\n",
       " 522,\n",
       " 523,\n",
       " 527,\n",
       " 531,\n",
       " 532,\n",
       " 533,\n",
       " 535,\n",
       " 538,\n",
       " 539,\n",
       " 543,\n",
       " 544,\n",
       " 545,\n",
       " 548,\n",
       " 551,\n",
       " 557,\n",
       " 563,\n",
       " 565,\n",
       " 570,\n",
       " 576,\n",
       " 579,\n",
       " 580,\n",
       " 589,\n",
       " 595,\n",
       " 599,\n",
       " 600,\n",
       " 608,\n",
       " 618,\n",
       " 619,\n",
       " 620,\n",
       " 629,\n",
       " 640,\n",
       " 645,\n",
       " 647,\n",
       " 654,\n",
       " 660,\n",
       " 661,\n",
       " 668,\n",
       " 675,\n",
       " 681,\n",
       " 682,\n",
       " 684,\n",
       " 688,\n",
       " 697,\n",
       " 698,\n",
       " 705,\n",
       " 710,\n",
       " 715,\n",
       " 716,\n",
       " 726,\n",
       " 729,\n",
       " 733,\n",
       " 737,\n",
       " 738,\n",
       " 741,\n",
       " 742,\n",
       " 745,\n",
       " 755,\n",
       " 756,\n",
       " 757,\n",
       " 762,\n",
       " 767,\n",
       " 775,\n",
       " 779}"
      ]
     },
     "execution_count": 8,
     "metadata": {},
     "output_type": "execute_result"
    },
    {
     "name": "stderr",
     "output_type": "stream",
     "text": [
      "C:\\Users\\dummy\\AppData\\Local\\Temp\\ipykernel_1184\\3789225958.py:13: UserWarning: Attempting to set identical bottom == top == -0.5 results in singular transformations; automatically expanding.\n",
      "  ax.imshow(img_crop)\n"
     ]
    }
   ],
   "source": [
    "import matplotlib.pyplot as plt\n",
    "from matplotlib.animation import FuncAnimation\n",
    "import os\n",
    "from live_cell_tracker.core import SingleCellTrajectory, SingleCellStatic, single_cell\n",
    "\n",
    "def visualize_bbox_trajectory(track_id, all_track_bbs, raw_imgs, save_path=\"./tmp.gif\", track_id_col = 4):\n",
    "    fig, ax = plt.subplots()\n",
    "    def init():\n",
    "        return []\n",
    "    def update(frame):\n",
    "        frame_idx, raw_img, bbox, img_crop = frame\n",
    "        ax.cla()\n",
    "        frame_text = ax.text(-10, -10, \"frame: {}\".format(frame_idx), fontsize=10, color=\"red\", ha=\"center\", va=\"center\")\n",
    "        ax.imshow(img_crop)\n",
    "        return []\n",
    "\n",
    "    frame_data = []\n",
    "    for frame_idx, track_bbs in enumerate(all_track_bbs):\n",
    "        img = raw_imgs[frame_idx]\n",
    "        for bbox in track_bbs:\n",
    "            if bbox[track_id_col] != track_id:\n",
    "                continue\n",
    "            min_x, max_x, min_y, max_y = int(bbox[0]), int(bbox[2]), int(bbox[1]), int(bbox[3])\n",
    "            img_crop = img[min_x:max_x, min_y:max_y]\n",
    "            frame_data.append((frame_idx, img, bbox, img_crop))\n",
    "\n",
    "    ani = FuncAnimation(fig, update, frames=frame_data,\n",
    "                init_func=None, blit=True)\n",
    "    print(\"saving to: %s...\" % save_path)\n",
    "    ani.save(save_path)\n",
    "\n",
    "output_path = Path(\"./track_tmp\")\n",
    "output_path.mkdir(exist_ok=True)\n",
    "\n",
    "id_to_sc_trajs = {}\n",
    "for timeframe, objects in enumerate(all_track_bbs):\n",
    "    for obj in objects:\n",
    "        track_id = obj[-1]\n",
    "        if  not (track_id in id_to_sc_trajs):\n",
    "            new_traj = SingleCellTrajectory(raw_imgs)\n",
    "            id_to_sc_trajs[track_id] = new_traj\n",
    "\n",
    "        sc = SingleCellStatic(timeframe)\n",
    "        _traj = id_to_sc_trajs[track_id]\n",
    "        _traj.add_timeframe_data(timeframe, sc)\n",
    "\n",
    "# visualize_bbox_trajectory(track_id, all_track_bbs, raw_imgs, save_path=output_path / \"track_{}.gif\".format(track_id))"
   ]
  }
 ],
 "metadata": {
  "kernelspec": {
   "display_name": "Python 3.8.13 ('cv-general')",
   "language": "python",
   "name": "python3"
  },
  "language_info": {
   "codemirror_mode": {
    "name": "ipython",
    "version": 3
   },
   "file_extension": ".py",
   "mimetype": "text/x-python",
   "name": "python",
   "nbconvert_exporter": "python",
   "pygments_lexer": "ipython3",
   "version": "3.8.13"
  },
  "orig_nbformat": 4,
  "vscode": {
   "interpreter": {
    "hash": "b5dfbec2055422cee39dc040b31dfffa8b21a342109231ab17bc6ff9949c7133"
   }
  }
 },
 "nbformat": 4,
 "nbformat_minor": 2
}
