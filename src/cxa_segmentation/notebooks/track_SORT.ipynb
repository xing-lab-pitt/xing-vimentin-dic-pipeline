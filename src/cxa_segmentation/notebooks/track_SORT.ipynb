{
 "cells": [
  {
   "cell_type": "code",
   "execution_count": 1,
   "metadata": {},
   "outputs": [
    {
     "name": "stdout",
     "output_type": "stream",
     "text": [
      "576 png img file paths loaded: \n",
      "288 png img file paths loaded: \n"
     ]
    }
   ],
   "source": [
    "from pathlib import Path\n",
    "import cv2\n",
    "import sys\n",
    "import numpy as np\n",
    "from skimage import feature, measure\n",
    "import live_cell_tracker\n",
    "from live_cell_tracker.livecell_segment import datasets\n",
    "import live_cell_tracker.livecell_segment\n",
    "from live_cell_tracker import livecell_segment\n",
    "import live_cell_tracker.core.utils\n",
    "\n",
    "seg_path = r\"\"\"D:\\xing-vimentin-dic-pipeline\\src\\cxa_segmentation\\notebooks\\segmentation_results\\detectron_model3\\restart_day0_Group 1_wellA1_RI_MIP_stitched\"\"\"\n",
    "label_seg_imgs = livecell_segment.datasets.LiveCellImageDataset(seg_path, ext=\"png\")\n",
    "dir_path = Path(\n",
    "    r\"D:\\xing-vimentin-dic-pipeline\\src\\cxa_segmentation\\cxa-data\\june_2022_data_8bit_png\\restart_day0_Group 1_wellA1_RI_MIP_stitched\"\n",
    ")\n",
    "raw_imgs = livecell_segment.datasets.LiveCellImageDataset(dir_path, ext=\"png\")"
   ]
  },
  {
   "cell_type": "code",
   "execution_count": 2,
   "metadata": {},
   "outputs": [],
   "source": [
    "def gen_detections_for_sort_tracker(label_mask):\n",
    "    \"\"\"\n",
    "        generate detections for SORT tracker. detections: [x1, y1, x2, y2, score]\n",
    "    Parameters\n",
    "    ----------\n",
    "    label_mask :\n",
    "        an image\n",
    "    Returns\n",
    "    -------\n",
    "    A list of (x1, y1, x2, y2, score]) for each object detected\n",
    "    \"\"\"    \n",
    "    regionprops_skimge = measure.regionprops(label_mask)\n",
    "    boxes = live_cell_tracker.core.utils.get_bbox_from_regionprops(regionprops_skimge)\n",
    "    detections = np.array([list(bbox) + [1] for bbox in boxes])\n",
    "    return detections\n",
    "\n",
    "import live_cell_tracker.track.sort_tracker\n",
    "tracker = live_cell_tracker.track.sort_tracker.Sort() \n",
    "\n",
    "all_track_bbs = []\n",
    "for i, img in enumerate(label_seg_imgs):\n",
    "    detections = gen_detections_for_sort_tracker(img)\n",
    "    track_bbs_ids = tracker.update(detections)\n",
    "    all_track_bbs.append(track_bbs_ids)\n",
    "    # for testing\n",
    "    if i > 5:\n",
    "        break"
   ]
  },
  {
   "cell_type": "code",
   "execution_count": 3,
   "metadata": {},
   "outputs": [
    {
     "data": {
      "text/plain": [
       "array([[1.000e+00, 1.396e+03, 6.700e+01, 1.581e+03, 2.700e+01],\n",
       "       [7.340e+02, 2.114e+03, 9.140e+02, 2.264e+03, 2.600e+01],\n",
       "       [3.820e+02, 2.740e+02, 4.690e+02, 3.900e+02, 2.500e+01],\n",
       "       [1.385e+03, 1.310e+03, 1.445e+03, 1.363e+03, 2.400e+01],\n",
       "       [1.395e+03, 1.278e+03, 1.450e+03, 1.323e+03, 2.300e+01],\n",
       "       [1.829e+03, 1.590e+03, 1.906e+03, 1.619e+03, 2.200e+01],\n",
       "       [1.440e+02, 1.333e+03, 2.310e+02, 1.391e+03, 2.100e+01],\n",
       "       [2.850e+02, 2.700e+02, 3.420e+02, 3.580e+02, 2.000e+01],\n",
       "       [6.000e+01, 1.266e+03, 1.480e+02, 1.329e+03, 1.900e+01],\n",
       "       [9.000e+01, 1.414e+03, 1.660e+02, 1.473e+03, 1.800e+01],\n",
       "       [1.850e+03, 1.369e+03, 1.904e+03, 1.419e+03, 1.700e+01],\n",
       "       [1.200e+01, 1.234e+03, 3.010e+02, 1.400e+03, 1.600e+01],\n",
       "       [2.710e+02, 4.650e+02, 3.510e+02, 5.290e+02, 1.500e+01],\n",
       "       [7.000e+00, 1.234e+03, 1.150e+02, 1.304e+03, 1.400e+01],\n",
       "       [7.600e+02, 2.236e+03, 9.870e+02, 2.377e+03, 1.300e+01],\n",
       "       [1.012e+03, 2.321e+03, 1.102e+03, 2.385e+03, 1.200e+01],\n",
       "       [1.030e+02, 1.304e+03, 3.220e+02, 1.406e+03, 1.100e+01],\n",
       "       [1.733e+03, 1.571e+03, 1.989e+03, 1.690e+03, 1.000e+01],\n",
       "       [9.880e+02, 2.282e+03, 1.140e+03, 2.402e+03, 9.000e+00],\n",
       "       [7.800e+02, 2.238e+03, 8.210e+02, 2.253e+03, 8.000e+00],\n",
       "       [1.783e+03, 1.494e+03, 2.034e+03, 1.574e+03, 7.000e+00],\n",
       "       [6.900e+01, 4.240e+02, 6.070e+02, 6.940e+02, 6.000e+00],\n",
       "       [3.500e+02, 1.800e+02, 5.840e+02, 4.130e+02, 5.000e+00],\n",
       "       [1.789e+03, 1.256e+03, 2.015e+03, 1.480e+03, 4.000e+00],\n",
       "       [4.800e+01, 1.391e+03, 2.800e+02, 1.543e+03, 3.000e+00],\n",
       "       [1.297e+03, 1.159e+03, 1.571e+03, 1.481e+03, 2.000e+00],\n",
       "       [1.520e+02, 1.900e+02, 3.590e+02, 4.450e+02, 1.000e+00]])"
      ]
     },
     "execution_count": 3,
     "metadata": {},
     "output_type": "execute_result"
    }
   ],
   "source": [
    "all_track_bbs[0]"
   ]
  },
  {
   "cell_type": "markdown",
   "metadata": {},
   "source": [
    "convert to int"
   ]
  },
  {
   "cell_type": "code",
   "execution_count": 4,
   "metadata": {},
   "outputs": [
    {
     "data": {
      "text/plain": [
       "array([[   1, 1396,   67, 1581,   27],\n",
       "       [ 734, 2114,  914, 2264,   26],\n",
       "       [ 382,  274,  469,  390,   25],\n",
       "       [1385, 1310, 1445, 1363,   24],\n",
       "       [1395, 1278, 1450, 1323,   23],\n",
       "       [1829, 1590, 1906, 1619,   22],\n",
       "       [ 144, 1333,  231, 1391,   21],\n",
       "       [ 285,  270,  342,  358,   20],\n",
       "       [  60, 1266,  148, 1329,   19],\n",
       "       [  90, 1414,  166, 1473,   18],\n",
       "       [1850, 1369, 1904, 1419,   17],\n",
       "       [  12, 1234,  301, 1400,   16],\n",
       "       [ 271,  465,  351,  529,   15],\n",
       "       [   7, 1234,  115, 1304,   14],\n",
       "       [ 760, 2236,  987, 2377,   13],\n",
       "       [1012, 2321, 1102, 2385,   12],\n",
       "       [ 103, 1304,  322, 1406,   11],\n",
       "       [1733, 1571, 1989, 1690,   10],\n",
       "       [ 988, 2282, 1140, 2402,    9],\n",
       "       [ 780, 2238,  821, 2253,    8],\n",
       "       [1783, 1494, 2034, 1574,    7],\n",
       "       [  69,  424,  607,  694,    6],\n",
       "       [ 350,  180,  584,  413,    5],\n",
       "       [1789, 1256, 2015, 1480,    4],\n",
       "       [  48, 1391,  280, 1543,    3],\n",
       "       [1297, 1159, 1571, 1481,    2],\n",
       "       [ 152,  190,  359,  445,    1]])"
      ]
     },
     "execution_count": 4,
     "metadata": {},
     "output_type": "execute_result"
    }
   ],
   "source": [
    "all_track_bbs = [track_bbs.astype(np.int32) for track_bbs in all_track_bbs]\n",
    "all_track_bbs[0]"
   ]
  },
  {
   "cell_type": "code",
   "execution_count": 5,
   "metadata": {},
   "outputs": [
    {
     "ename": "KeyboardInterrupt",
     "evalue": "",
     "output_type": "error",
     "traceback": [
      "\u001b[1;31m---------------------------------------------------------------------------\u001b[0m",
      "\u001b[1;31mKeyboardInterrupt\u001b[0m                         Traceback (most recent call last)",
      "\u001b[1;32md:\\xing-vimentin-dic-pipeline\\src\\cxa_segmentation\\notebooks\\track_SORT.ipynb Cell 6\u001b[0m in \u001b[0;36m<cell line: 12>\u001b[1;34m()\u001b[0m\n\u001b[0;32m     <a href='vscode-notebook-cell:/d%3A/xing-vimentin-dic-pipeline/src/cxa_segmentation/notebooks/track_SORT.ipynb#X13sZmlsZQ%3D%3D?line=9'>10</a>\u001b[0m     \u001b[39m# Add the patch to the Axes\u001b[39;00m\n\u001b[0;32m     <a href='vscode-notebook-cell:/d%3A/xing-vimentin-dic-pipeline/src/cxa_segmentation/notebooks/track_SORT.ipynb#X13sZmlsZQ%3D%3D?line=10'>11</a>\u001b[0m     ax\u001b[39m.\u001b[39madd_patch(rect)\n\u001b[1;32m---> <a href='vscode-notebook-cell:/d%3A/xing-vimentin-dic-pipeline/src/cxa_segmentation/notebooks/track_SORT.ipynb#X13sZmlsZQ%3D%3D?line=11'>12</a>\u001b[0m plt\u001b[39m.\u001b[39;49mshow()\n",
      "File \u001b[1;32mc:\\Users\\dummy\\Anaconda3\\envs\\cv-general\\lib\\site-packages\\matplotlib\\pyplot.py:389\u001b[0m, in \u001b[0;36mshow\u001b[1;34m(*args, **kwargs)\u001b[0m\n\u001b[0;32m    345\u001b[0m \u001b[39m\"\"\"\u001b[39;00m\n\u001b[0;32m    346\u001b[0m \u001b[39mDisplay all open figures.\u001b[39;00m\n\u001b[0;32m    347\u001b[0m \n\u001b[1;32m   (...)\u001b[0m\n\u001b[0;32m    386\u001b[0m \u001b[39mexplicitly there.\u001b[39;00m\n\u001b[0;32m    387\u001b[0m \u001b[39m\"\"\"\u001b[39;00m\n\u001b[0;32m    388\u001b[0m _warn_if_gui_out_of_main_thread()\n\u001b[1;32m--> 389\u001b[0m \u001b[39mreturn\u001b[39;00m _get_backend_mod()\u001b[39m.\u001b[39;49mshow(\u001b[39m*\u001b[39;49margs, \u001b[39m*\u001b[39;49m\u001b[39m*\u001b[39;49mkwargs)\n",
      "File \u001b[1;32mc:\\Users\\dummy\\Anaconda3\\envs\\cv-general\\lib\\site-packages\\matplotlib\\backend_bases.py:3544\u001b[0m, in \u001b[0;36m_Backend.show\u001b[1;34m(cls, block)\u001b[0m\n\u001b[0;32m   3542\u001b[0m         block \u001b[39m=\u001b[39m \u001b[39mTrue\u001b[39;00m\n\u001b[0;32m   3543\u001b[0m \u001b[39mif\u001b[39;00m block:\n\u001b[1;32m-> 3544\u001b[0m     \u001b[39mcls\u001b[39;49m\u001b[39m.\u001b[39;49mmainloop()\n",
      "File \u001b[1;32mc:\\Users\\dummy\\Anaconda3\\envs\\cv-general\\lib\\site-packages\\matplotlib\\backends\\_backend_tk.py:982\u001b[0m, in \u001b[0;36m_BackendTk.mainloop\u001b[1;34m()\u001b[0m\n\u001b[0;32m    980\u001b[0m manager_class\u001b[39m.\u001b[39m_owns_mainloop \u001b[39m=\u001b[39m \u001b[39mTrue\u001b[39;00m\n\u001b[0;32m    981\u001b[0m \u001b[39mtry\u001b[39;00m:\n\u001b[1;32m--> 982\u001b[0m     first_manager\u001b[39m.\u001b[39;49mwindow\u001b[39m.\u001b[39;49mmainloop()\n\u001b[0;32m    983\u001b[0m \u001b[39mfinally\u001b[39;00m:\n\u001b[0;32m    984\u001b[0m     manager_class\u001b[39m.\u001b[39m_owns_mainloop \u001b[39m=\u001b[39m \u001b[39mFalse\u001b[39;00m\n",
      "File \u001b[1;32mc:\\Users\\dummy\\Anaconda3\\envs\\cv-general\\lib\\tkinter\\__init__.py:1429\u001b[0m, in \u001b[0;36mMisc.mainloop\u001b[1;34m(self, n)\u001b[0m\n\u001b[0;32m   1427\u001b[0m \u001b[39mdef\u001b[39;00m \u001b[39mmainloop\u001b[39m(\u001b[39mself\u001b[39m, n\u001b[39m=\u001b[39m\u001b[39m0\u001b[39m):\n\u001b[0;32m   1428\u001b[0m     \u001b[39m\"\"\"Call the mainloop of Tk.\"\"\"\u001b[39;00m\n\u001b[1;32m-> 1429\u001b[0m     \u001b[39mself\u001b[39;49m\u001b[39m.\u001b[39;49mtk\u001b[39m.\u001b[39;49mmainloop(n)\n",
      "\u001b[1;31mKeyboardInterrupt\u001b[0m: "
     ]
    }
   ],
   "source": [
    "import matplotlib.pyplot as plt\n",
    "import matplotlib.patches as patches\n",
    "idx = 2\n",
    "bboxes = all_track_bbs[idx]\n",
    "fig, ax = plt.subplots()\n",
    "ax.imshow(raw_imgs[idx])\n",
    "for bbox in bboxes:\n",
    "    # Create a Rectangle patch\n",
    "    rect = patches.Rectangle((bbox[1], bbox[0]),  (bbox[3] - bbox[1]), (bbox[2] - bbox[0]), linewidth=1, edgecolor='r', facecolor='none')\n",
    "    # Add the patch to the Axes\n",
    "    ax.add_patch(rect)\n",
    "plt.show()\n"
   ]
  },
  {
   "cell_type": "code",
   "execution_count": 6,
   "metadata": {},
   "outputs": [
    {
     "name": "stderr",
     "output_type": "stream",
     "text": [
      "MovieWriter ffmpeg unavailable; using Pillow instead.\n"
     ]
    },
    {
     "name": "stdout",
     "output_type": "stream",
     "text": [
      "saving to: track_tmp\\track_27.gif...\n"
     ]
    },
    {
     "name": "stderr",
     "output_type": "stream",
     "text": [
      "MovieWriter ffmpeg unavailable; using Pillow instead.\n"
     ]
    },
    {
     "name": "stdout",
     "output_type": "stream",
     "text": [
      "saving to: track_tmp\\track_26.gif...\n"
     ]
    },
    {
     "name": "stderr",
     "output_type": "stream",
     "text": [
      "MovieWriter ffmpeg unavailable; using Pillow instead.\n"
     ]
    },
    {
     "name": "stdout",
     "output_type": "stream",
     "text": [
      "saving to: track_tmp\\track_25.gif...\n"
     ]
    },
    {
     "name": "stderr",
     "output_type": "stream",
     "text": [
      "MovieWriter ffmpeg unavailable; using Pillow instead.\n"
     ]
    },
    {
     "name": "stdout",
     "output_type": "stream",
     "text": [
      "saving to: track_tmp\\track_24.gif...\n"
     ]
    },
    {
     "name": "stderr",
     "output_type": "stream",
     "text": [
      "MovieWriter ffmpeg unavailable; using Pillow instead.\n"
     ]
    },
    {
     "name": "stdout",
     "output_type": "stream",
     "text": [
      "saving to: track_tmp\\track_23.gif...\n"
     ]
    },
    {
     "name": "stderr",
     "output_type": "stream",
     "text": [
      "MovieWriter ffmpeg unavailable; using Pillow instead.\n"
     ]
    },
    {
     "name": "stdout",
     "output_type": "stream",
     "text": [
      "saving to: track_tmp\\track_22.gif...\n"
     ]
    },
    {
     "name": "stderr",
     "output_type": "stream",
     "text": [
      "MovieWriter ffmpeg unavailable; using Pillow instead.\n"
     ]
    },
    {
     "name": "stdout",
     "output_type": "stream",
     "text": [
      "saving to: track_tmp\\track_21.gif...\n"
     ]
    },
    {
     "name": "stderr",
     "output_type": "stream",
     "text": [
      "MovieWriter ffmpeg unavailable; using Pillow instead.\n"
     ]
    },
    {
     "name": "stdout",
     "output_type": "stream",
     "text": [
      "saving to: track_tmp\\track_20.gif...\n"
     ]
    },
    {
     "name": "stderr",
     "output_type": "stream",
     "text": [
      "MovieWriter ffmpeg unavailable; using Pillow instead.\n"
     ]
    },
    {
     "name": "stdout",
     "output_type": "stream",
     "text": [
      "saving to: track_tmp\\track_19.gif...\n"
     ]
    },
    {
     "name": "stderr",
     "output_type": "stream",
     "text": [
      "MovieWriter ffmpeg unavailable; using Pillow instead.\n"
     ]
    },
    {
     "name": "stdout",
     "output_type": "stream",
     "text": [
      "saving to: track_tmp\\track_18.gif...\n"
     ]
    },
    {
     "name": "stderr",
     "output_type": "stream",
     "text": [
      "MovieWriter ffmpeg unavailable; using Pillow instead.\n"
     ]
    },
    {
     "name": "stdout",
     "output_type": "stream",
     "text": [
      "saving to: track_tmp\\track_17.gif...\n"
     ]
    },
    {
     "name": "stderr",
     "output_type": "stream",
     "text": [
      "MovieWriter ffmpeg unavailable; using Pillow instead.\n"
     ]
    },
    {
     "name": "stdout",
     "output_type": "stream",
     "text": [
      "saving to: track_tmp\\track_16.gif...\n"
     ]
    },
    {
     "name": "stderr",
     "output_type": "stream",
     "text": [
      "MovieWriter ffmpeg unavailable; using Pillow instead.\n"
     ]
    },
    {
     "name": "stdout",
     "output_type": "stream",
     "text": [
      "saving to: track_tmp\\track_15.gif...\n"
     ]
    },
    {
     "name": "stderr",
     "output_type": "stream",
     "text": [
      "MovieWriter ffmpeg unavailable; using Pillow instead.\n"
     ]
    },
    {
     "name": "stdout",
     "output_type": "stream",
     "text": [
      "saving to: track_tmp\\track_14.gif...\n"
     ]
    },
    {
     "name": "stderr",
     "output_type": "stream",
     "text": [
      "MovieWriter ffmpeg unavailable; using Pillow instead.\n"
     ]
    },
    {
     "name": "stdout",
     "output_type": "stream",
     "text": [
      "saving to: track_tmp\\track_13.gif...\n"
     ]
    },
    {
     "name": "stderr",
     "output_type": "stream",
     "text": [
      "MovieWriter ffmpeg unavailable; using Pillow instead.\n"
     ]
    },
    {
     "name": "stdout",
     "output_type": "stream",
     "text": [
      "saving to: track_tmp\\track_12.gif...\n"
     ]
    },
    {
     "name": "stderr",
     "output_type": "stream",
     "text": [
      "MovieWriter ffmpeg unavailable; using Pillow instead.\n"
     ]
    },
    {
     "name": "stdout",
     "output_type": "stream",
     "text": [
      "saving to: track_tmp\\track_11.gif...\n"
     ]
    },
    {
     "name": "stderr",
     "output_type": "stream",
     "text": [
      "MovieWriter ffmpeg unavailable; using Pillow instead.\n"
     ]
    },
    {
     "name": "stdout",
     "output_type": "stream",
     "text": [
      "saving to: track_tmp\\track_10.gif...\n"
     ]
    },
    {
     "name": "stderr",
     "output_type": "stream",
     "text": [
      "MovieWriter ffmpeg unavailable; using Pillow instead.\n"
     ]
    },
    {
     "name": "stdout",
     "output_type": "stream",
     "text": [
      "saving to: track_tmp\\track_9.gif...\n"
     ]
    },
    {
     "name": "stderr",
     "output_type": "stream",
     "text": [
      "MovieWriter ffmpeg unavailable; using Pillow instead.\n"
     ]
    },
    {
     "name": "stdout",
     "output_type": "stream",
     "text": [
      "saving to: track_tmp\\track_8.gif...\n"
     ]
    },
    {
     "name": "stderr",
     "output_type": "stream",
     "text": [
      "C:\\Users\\dummy\\AppData\\Local\\Temp\\ipykernel_42484\\3205791420.py:6: RuntimeWarning: More than 20 figures have been opened. Figures created through the pyplot interface (`matplotlib.pyplot.figure`) are retained until explicitly closed and may consume too much memory. (To control this warning, see the rcParam `figure.max_open_warning`).\n",
      "  fig, ax = plt.subplots()\n",
      "MovieWriter ffmpeg unavailable; using Pillow instead.\n"
     ]
    },
    {
     "name": "stdout",
     "output_type": "stream",
     "text": [
      "saving to: track_tmp\\track_7.gif...\n"
     ]
    },
    {
     "name": "stderr",
     "output_type": "stream",
     "text": [
      "MovieWriter ffmpeg unavailable; using Pillow instead.\n"
     ]
    },
    {
     "name": "stdout",
     "output_type": "stream",
     "text": [
      "saving to: track_tmp\\track_6.gif...\n"
     ]
    },
    {
     "name": "stderr",
     "output_type": "stream",
     "text": [
      "MovieWriter ffmpeg unavailable; using Pillow instead.\n"
     ]
    },
    {
     "name": "stdout",
     "output_type": "stream",
     "text": [
      "saving to: track_tmp\\track_5.gif...\n"
     ]
    },
    {
     "name": "stderr",
     "output_type": "stream",
     "text": [
      "MovieWriter ffmpeg unavailable; using Pillow instead.\n"
     ]
    },
    {
     "name": "stdout",
     "output_type": "stream",
     "text": [
      "saving to: track_tmp\\track_4.gif...\n"
     ]
    },
    {
     "name": "stderr",
     "output_type": "stream",
     "text": [
      "MovieWriter ffmpeg unavailable; using Pillow instead.\n"
     ]
    },
    {
     "name": "stdout",
     "output_type": "stream",
     "text": [
      "saving to: track_tmp\\track_3.gif...\n"
     ]
    },
    {
     "name": "stderr",
     "output_type": "stream",
     "text": [
      "MovieWriter ffmpeg unavailable; using Pillow instead.\n"
     ]
    },
    {
     "name": "stdout",
     "output_type": "stream",
     "text": [
      "saving to: track_tmp\\track_2.gif...\n"
     ]
    },
    {
     "name": "stderr",
     "output_type": "stream",
     "text": [
      "MovieWriter ffmpeg unavailable; using Pillow instead.\n"
     ]
    },
    {
     "name": "stdout",
     "output_type": "stream",
     "text": [
      "saving to: track_tmp\\track_1.gif...\n"
     ]
    },
    {
     "name": "stderr",
     "output_type": "stream",
     "text": [
      "MovieWriter ffmpeg unavailable; using Pillow instead.\n"
     ]
    },
    {
     "name": "stdout",
     "output_type": "stream",
     "text": [
      "saving to: track_tmp\\track_28.gif...\n",
      "saving to: track_tmp\\track_32.gif...\n"
     ]
    },
    {
     "name": "stderr",
     "output_type": "stream",
     "text": [
      "MovieWriter ffmpeg unavailable; using Pillow instead.\n",
      "MovieWriter ffmpeg unavailable; using Pillow instead.\n"
     ]
    },
    {
     "name": "stdout",
     "output_type": "stream",
     "text": [
      "saving to: track_tmp\\track_31.gif...\n"
     ]
    },
    {
     "name": "stderr",
     "output_type": "stream",
     "text": [
      "MovieWriter ffmpeg unavailable; using Pillow instead.\n"
     ]
    },
    {
     "name": "stdout",
     "output_type": "stream",
     "text": [
      "saving to: track_tmp\\track_30.gif...\n"
     ]
    },
    {
     "name": "stderr",
     "output_type": "stream",
     "text": [
      "MovieWriter ffmpeg unavailable; using Pillow instead.\n"
     ]
    },
    {
     "name": "stdout",
     "output_type": "stream",
     "text": [
      "saving to: track_tmp\\track_29.gif...\n"
     ]
    }
   ],
   "source": [
    "import matplotlib.pyplot as plt\n",
    "from matplotlib.animation import FuncAnimation\n",
    "import os\n",
    "\n",
    "def visualize_bbox_trajectory(track_id, all_track_bbs, raw_imgs, save_path=\"./tmp.gif\", track_id_col = 4):\n",
    "    fig, ax = plt.subplots()\n",
    "    def init():\n",
    "        return []\n",
    "    def update(frame):\n",
    "        frame_idx, raw_img, bbox, img_crop = frame\n",
    "        ax.cla()\n",
    "        frame_text = ax.text(-10, -10, \"frame: {}\".format(frame_idx), fontsize=10, color=\"red\", ha=\"center\", va=\"center\")\n",
    "        ax.imshow(img_crop)\n",
    "        return []\n",
    "\n",
    "    frame_data = []\n",
    "    for frame_idx, track_bbs in enumerate(all_track_bbs):\n",
    "        img = raw_imgs[frame_idx]\n",
    "        for bbox in track_bbs:\n",
    "            if bbox[track_id_col] != track_id:\n",
    "                continue\n",
    "            min_x, max_x, min_y, max_y = int(bbox[0]), int(bbox[2]), int(bbox[1]), int(bbox[3])\n",
    "            img_crop = img[min_x:max_x, min_y:max_y]\n",
    "            frame_data.append((frame_idx, img, bbox, img_crop))\n",
    "\n",
    "    ani = FuncAnimation(fig, update, frames=frame_data,\n",
    "                init_func=None, blit=True)\n",
    "    print(\"saving to: %s...\" % save_path)\n",
    "    ani.save(save_path)\n",
    "\n",
    "output_path = Path(\"./track_tmp\")\n",
    "output_path.mkdir(exist_ok=True)\n",
    "\n",
    "handled_track_ids = set()\n",
    "track_start_end = {\n",
    "\n",
    "}\n",
    "for i, objects in enumerate(all_track_bbs):\n",
    "    for obj in objects:\n",
    "        track_id = obj[-1]\n",
    "        if  track_id in handled_track_ids:\n",
    "            continue\n",
    "        handled_track_ids.add(track_id)\n",
    "        visualize_bbox_trajectory(track_id, all_track_bbs, raw_imgs, save_path=output_path / \"track_{}.gif\".format(track_id))\n",
    "\n"
   ]
  }
 ],
 "metadata": {
  "kernelspec": {
   "display_name": "Python 3.8.13 ('cv-general')",
   "language": "python",
   "name": "python3"
  },
  "language_info": {
   "codemirror_mode": {
    "name": "ipython",
    "version": 3
   },
   "file_extension": ".py",
   "mimetype": "text/x-python",
   "name": "python",
   "nbconvert_exporter": "python",
   "pygments_lexer": "ipython3",
   "version": "3.8.13"
  },
  "orig_nbformat": 4,
  "vscode": {
   "interpreter": {
    "hash": "b5dfbec2055422cee39dc040b31dfffa8b21a342109231ab17bc6ff9949c7133"
   }
  }
 },
 "nbformat": 4,
 "nbformat_minor": 2
}
