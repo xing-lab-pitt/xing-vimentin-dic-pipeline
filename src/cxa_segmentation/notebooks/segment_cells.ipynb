{
 "cells": [
  {
   "cell_type": "code",
   "execution_count": 10,
   "metadata": {},
   "outputs": [],
   "source": [
    "import numpy as np\n",
    "import matplotlib.pyplot as plt\n",
    "from cellpose import models\n",
    "from cellpose.io import imread\n",
    "import glob\n",
    "from pathlib import Path\n",
    "from PIL import Image, ImageSequence\n",
    "from tqdm import tqdm\n",
    "import os\n",
    "import os.path\n",
    "# model_type='cyto' or 'nuclei' or 'cyto2'\n",
    "model = models.Cellpose(gpu=True, model_type=\"cyto\")\n",
    "\n",
    "# list of files\n",
    "# PUT PATH TO YOUR FILES HERE!\n",
    "dir_path = Path('D:\\\\xing-vimentin-dic-pipeline\\\\src\\\\cxa_segmentation\\\\cxa-data\\\\june_2022_data\\\\day0_Notreat_Group1_wellA1_RI_MIP_stitched')\n",
    "img_list = sorted(glob.glob(str(dir_path/\"*tif\")))"
   ]
  },
  {
   "cell_type": "code",
   "execution_count": 2,
   "metadata": {},
   "outputs": [
    {
     "data": {
      "text/plain": [
       "['D:\\\\xing-vimentin-dic-pipeline\\\\src\\\\cxa_segmentation\\\\cxa-data\\\\june_2022_data\\\\day0_Notreat_Group1_wellA1_RI_MIP_stitched\\\\T001.tif',\n",
       " 'D:\\\\xing-vimentin-dic-pipeline\\\\src\\\\cxa_segmentation\\\\cxa-data\\\\june_2022_data\\\\day0_Notreat_Group1_wellA1_RI_MIP_stitched\\\\T002.tif',\n",
       " 'D:\\\\xing-vimentin-dic-pipeline\\\\src\\\\cxa_segmentation\\\\cxa-data\\\\june_2022_data\\\\day0_Notreat_Group1_wellA1_RI_MIP_stitched\\\\T003.tif',\n",
       " 'D:\\\\xing-vimentin-dic-pipeline\\\\src\\\\cxa_segmentation\\\\cxa-data\\\\june_2022_data\\\\day0_Notreat_Group1_wellA1_RI_MIP_stitched\\\\T004.tif']"
      ]
     },
     "execution_count": 2,
     "metadata": {},
     "output_type": "execute_result"
    }
   ],
   "source": [
    "img_list[:4]"
   ]
  },
  {
   "cell_type": "code",
   "execution_count": 3,
   "metadata": {},
   "outputs": [],
   "source": [
    "def segment_single_image_by_cellpose(image, model, channels = [[0, 0]], diameter=150):\n",
    "    masks, flows, styles, diams = model.eval([image], diameter=diameter, channels=channels)\n",
    "    return masks[0]\n",
    "\n",
    "def segment_single_images_by_cellpose(images, model, channels = [[0, 0]], diameter=150):\n",
    "    masks, flows, styles, diams = model.eval(images, diameter=diameter, channels=channels)\n",
    "    return masks\n"
   ]
  },
  {
   "cell_type": "code",
   "execution_count": 14,
   "metadata": {},
   "outputs": [
    {
     "name": "stdout",
     "output_type": "stream",
     "text": [
      "ndigits: 3\n"
     ]
    },
    {
     "name": "stderr",
     "output_type": "stream",
     "text": [
      "100%|██████████| 120/120 [07:43<00:00,  3.86s/it]\n"
     ]
    }
   ],
   "source": [
    "def gen_T_filename(frame, ndigits):\n",
    "    return \"T%s.tif\" % (str(frame).zfill(ndigits))\n",
    "ndigits = len(str(len(img_list)))\n",
    "print(\"ndigits:\", ndigits)\n",
    "out_dir = Path(\"./full_segs\")\n",
    "\n",
    "for img_path in tqdm(img_list):\n",
    "    file_name = os.path.basename(img_path)\n",
    "    output_filename = file_name.split(\".\")[0] + \".png\" # change extension to PNG\n",
    "    img = imread(img_path)\n",
    "    mask = segment_single_image_by_cellpose(img, model)\n",
    "    temp_img = Image.fromarray(mask)\n",
    "    temp_img.save(out_dir / output_filename)"
   ]
  }
 ],
 "metadata": {
  "kernelspec": {
   "display_name": "Python 3.8.13 ('cv-general')",
   "language": "python",
   "name": "python3"
  },
  "language_info": {
   "codemirror_mode": {
    "name": "ipython",
    "version": 3
   },
   "file_extension": ".py",
   "mimetype": "text/x-python",
   "name": "python",
   "nbconvert_exporter": "python",
   "pygments_lexer": "ipython3",
   "version": "3.8.13"
  },
  "orig_nbformat": 4,
  "vscode": {
   "interpreter": {
    "hash": "b5dfbec2055422cee39dc040b31dfffa8b21a342109231ab17bc6ff9949c7133"
   }
  }
 },
 "nbformat": 4,
 "nbformat_minor": 2
}
