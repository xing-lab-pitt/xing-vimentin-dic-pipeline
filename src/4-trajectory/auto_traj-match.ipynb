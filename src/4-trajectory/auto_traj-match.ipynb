{
 "cells": [
  {
   "cell_type": "code",
   "execution_count": 1,
   "id": "ce20f865",
   "metadata": {},
   "outputs": [],
   "source": [
    "import sys\n",
    "sys.path.insert(0, 'C:/Users/14432/OneDrive/Research/Projects/a549_pcna/src/4_wk_trajectory/')\n",
    "sys.path.insert(1, 'C:/Users/14432/OneDrive/Research/Projects/a549_pcna/src/memes/')\n",
    "\n",
    "import warnings\n",
    "warnings.filterwarnings(\"ignore\")\n",
    "\n",
    "import numpy as np\n",
    "import pandas as pd\n",
    "import pickle\n",
    "from PIL import Image, ImageDraw, ImageFont\n",
    "\n",
    "from matplotlib import animation\n",
    "from matplotlib import cm\n",
    "from matplotlib import pyplot as plt\n",
    "\n",
    "import os\n",
    "from os import listdir\n",
    "\n",
    "import scipy.io as sio\n",
    "import scipy.misc\n",
    "import scipy.ndimage as ndimage\n",
    "from scipy.signal import medfilt,find_peaks\n",
    "from scipy.stats import kde\n",
    "import scipy.interpolate.fitpack as fitpack\n",
    "\n",
    "from skimage.feature import peak_local_max\n",
    "from skimage import measure\n",
    "from skimage.measure import regionprops, label\n",
    "from skimage.morphology import opening, closing, remove_small_holes, remove_small_objects, \\\n",
    "                               local_maxima, h_maxima, disk, dilation\n",
    "from skimage.io import imread\n",
    "from skimage.segmentation import find_boundaries\n",
    "\n",
    "from sklearn import manifold,decomposition,random_projection,cluster,metrics,preprocessing,mixture,model_selection\n",
    "from sklearn.neighbors import KernelDensity\n",
    "from sklearn.preprocessing import StandardScaler\n",
    "\n",
    "from cell_class import single_cell,fluor_single_cell\n",
    "import image_warp\n",
    "from contour_tool import df_find_contour_points,find_contour_points,generate_contours,align_contour_to,align_contours\n",
    "import utility_tools\n",
    "from skimage.filters.rank import otsu\n",
    "import contour_class\n",
    "from traj_class import single_cell_traj,fluor_single_cell_traj\n",
    "import matplotlib.animation as animation\n",
    "\n",
    "from traj_tools import generate_single_cell_img,find_mother,find_mother_label,find_offspring,parse,find_abnormal_fluor,\\\n",
    "    count_num_fluor_pca_cord"
   ]
  },
  {
   "cell_type": "code",
   "execution_count": 7,
   "id": "7cca627f",
   "metadata": {},
   "outputs": [
    {
     "ename": "KeyboardInterrupt",
     "evalue": "",
     "output_type": "error",
     "traceback": [
      "\u001b[1;31m---------------------------------------------------------------------------\u001b[0m",
      "\u001b[1;31mKeyboardInterrupt\u001b[0m                         Traceback (most recent call last)",
      "\u001b[1;32m<ipython-input-7-0be81fc77518>\u001b[0m in \u001b[0;36m<module>\u001b[1;34m\u001b[0m\n\u001b[0;32m     13\u001b[0m \u001b[0mseg_img_list\u001b[0m \u001b[1;33m=\u001b[0m \u001b[0msorted\u001b[0m\u001b[1;33m(\u001b[0m\u001b[0mlistdir\u001b[0m\u001b[1;33m(\u001b[0m\u001b[0mseg_path\u001b[0m\u001b[1;33m)\u001b[0m\u001b[1;33m)\u001b[0m\u001b[1;33m\u001b[0m\u001b[1;33m\u001b[0m\u001b[0m\n\u001b[0;32m     14\u001b[0m \u001b[1;33m\u001b[0m\u001b[0m\n\u001b[1;32m---> 15\u001b[1;33m cell_contour_points_and_cell = df_find_contour_points(\n\u001b[0m\u001b[0;32m     16\u001b[0m     df, seg_path, seg_img_list, contour_value=0.5)\n\u001b[0;32m     17\u001b[0m cell_contours, sort_cell_arr = generate_contours(\n",
      "\u001b[1;32mC:/Users/14432/OneDrive/Research/Projects/a549_pcna/src/4_wk_trajectory\\contour_tool.py\u001b[0m in \u001b[0;36mdf_find_contour_points\u001b[1;34m(df, img_path, img_list, contour_value)\u001b[0m\n\u001b[0;32m     56\u001b[0m             \u001b[1;32mif\u001b[0m \u001b[0mnumpy\u001b[0m\u001b[1;33m.\u001b[0m\u001b[0masscalar\u001b[0m\u001b[1;33m(\u001b[0m\u001b[0mdf\u001b[0m\u001b[1;33m.\u001b[0m\u001b[0mloc\u001b[0m\u001b[1;33m[\u001b[0m\u001b[1;33m(\u001b[0m\u001b[0mdf\u001b[0m\u001b[1;33m[\u001b[0m\u001b[1;34m'ImageNumber'\u001b[0m\u001b[1;33m]\u001b[0m\u001b[1;33m==\u001b[0m\u001b[0mk\u001b[0m\u001b[1;33m+\u001b[0m\u001b[1;36m1\u001b[0m\u001b[1;33m)\u001b[0m\u001b[1;33m&\u001b[0m\u001b[1;33m(\u001b[0m\u001b[0mdf\u001b[0m\u001b[1;33m[\u001b[0m\u001b[1;34m'ObjectNumber'\u001b[0m\u001b[1;33m]\u001b[0m\u001b[1;33m==\u001b[0m\u001b[0mlabel\u001b[0m\u001b[1;33m)\u001b[0m\u001b[1;33m,\u001b[0m\u001b[1;34m'Cell_TrackObjects_Label'\u001b[0m\u001b[1;33m]\u001b[0m\u001b[1;33m.\u001b[0m\u001b[0mvalues\u001b[0m\u001b[1;33m)\u001b[0m\u001b[1;33m!=\u001b[0m\u001b[1;33m-\u001b[0m\u001b[1;36m1\u001b[0m\u001b[1;33m:\u001b[0m\u001b[1;33m\u001b[0m\u001b[1;33m\u001b[0m\u001b[0m\n\u001b[0;32m     57\u001b[0m                 \u001b[0msingle_obj_img\u001b[0m\u001b[1;33m=\u001b[0m\u001b[1;33m(\u001b[0m\u001b[0mimg\u001b[0m\u001b[1;33m==\u001b[0m\u001b[0mlabel\u001b[0m\u001b[1;33m)\u001b[0m\u001b[1;33m\u001b[0m\u001b[1;33m\u001b[0m\u001b[0m\n\u001b[1;32m---> 58\u001b[1;33m                 \u001b[0msingle_contour\u001b[0m\u001b[1;33m=\u001b[0m\u001b[0mmeasure\u001b[0m\u001b[1;33m.\u001b[0m\u001b[0mfind_contours\u001b[0m\u001b[1;33m(\u001b[0m\u001b[0msingle_obj_img\u001b[0m\u001b[1;33m,\u001b[0m\u001b[0mlevel\u001b[0m\u001b[1;33m=\u001b[0m\u001b[0mcontour_value\u001b[0m\u001b[1;33m,\u001b[0m\u001b[0mfully_connected\u001b[0m\u001b[1;33m=\u001b[0m\u001b[1;34m'low'\u001b[0m\u001b[1;33m,\u001b[0m\u001b[0mpositive_orientation\u001b[0m\u001b[1;33m=\u001b[0m\u001b[1;34m'low'\u001b[0m\u001b[1;33m)\u001b[0m\u001b[1;33m\u001b[0m\u001b[1;33m\u001b[0m\u001b[0m\n\u001b[0m\u001b[0;32m     59\u001b[0m                 \u001b[1;31m#print(len(single_contour))\u001b[0m\u001b[1;33m\u001b[0m\u001b[1;33m\u001b[0m\u001b[1;33m\u001b[0m\u001b[0m\n\u001b[0;32m     60\u001b[0m                 \u001b[0mmax_len\u001b[0m\u001b[1;33m=\u001b[0m\u001b[1;36m0\u001b[0m\u001b[1;33m\u001b[0m\u001b[1;33m\u001b[0m\u001b[0m\n",
      "\u001b[1;32m~\\anaconda3\\lib\\site-packages\\skimage\\_shared\\utils.py\u001b[0m in \u001b[0;36mfixed_func\u001b[1;34m(*args, **kwargs)\u001b[0m\n\u001b[0;32m    154\u001b[0m \u001b[1;33m\u001b[0m\u001b[0m\n\u001b[0;32m    155\u001b[0m             \u001b[1;31m# Call the function with the fixed arguments\u001b[0m\u001b[1;33m\u001b[0m\u001b[1;33m\u001b[0m\u001b[1;33m\u001b[0m\u001b[0m\n\u001b[1;32m--> 156\u001b[1;33m             \u001b[1;32mreturn\u001b[0m \u001b[0mfunc\u001b[0m\u001b[1;33m(\u001b[0m\u001b[1;33m*\u001b[0m\u001b[0margs\u001b[0m\u001b[1;33m,\u001b[0m \u001b[1;33m**\u001b[0m\u001b[0mkwargs\u001b[0m\u001b[1;33m)\u001b[0m\u001b[1;33m\u001b[0m\u001b[1;33m\u001b[0m\u001b[0m\n\u001b[0m\u001b[0;32m    157\u001b[0m         \u001b[1;32mreturn\u001b[0m \u001b[0mfixed_func\u001b[0m\u001b[1;33m\u001b[0m\u001b[1;33m\u001b[0m\u001b[0m\n\u001b[0;32m    158\u001b[0m \u001b[1;33m\u001b[0m\u001b[0m\n",
      "\u001b[1;32m~\\anaconda3\\lib\\site-packages\\skimage\\measure\\_find_contours.py\u001b[0m in \u001b[0;36mfind_contours\u001b[1;34m(image, level, fully_connected, positive_orientation, mask)\u001b[0m\n\u001b[0;32m    149\u001b[0m     segments = _get_contour_segments(image.astype(np.double), float(level),\n\u001b[0;32m    150\u001b[0m                                      fully_connected == 'high', mask=mask)\n\u001b[1;32m--> 151\u001b[1;33m     \u001b[0mcontours\u001b[0m \u001b[1;33m=\u001b[0m \u001b[0m_assemble_contours\u001b[0m\u001b[1;33m(\u001b[0m\u001b[0msegments\u001b[0m\u001b[1;33m)\u001b[0m\u001b[1;33m\u001b[0m\u001b[1;33m\u001b[0m\u001b[0m\n\u001b[0m\u001b[0;32m    152\u001b[0m     \u001b[1;32mif\u001b[0m \u001b[0mpositive_orientation\u001b[0m \u001b[1;33m==\u001b[0m \u001b[1;34m'high'\u001b[0m\u001b[1;33m:\u001b[0m\u001b[1;33m\u001b[0m\u001b[1;33m\u001b[0m\u001b[0m\n\u001b[0;32m    153\u001b[0m         \u001b[0mcontours\u001b[0m \u001b[1;33m=\u001b[0m \u001b[1;33m[\u001b[0m\u001b[0mc\u001b[0m\u001b[1;33m[\u001b[0m\u001b[1;33m:\u001b[0m\u001b[1;33m:\u001b[0m\u001b[1;33m-\u001b[0m\u001b[1;36m1\u001b[0m\u001b[1;33m]\u001b[0m \u001b[1;32mfor\u001b[0m \u001b[0mc\u001b[0m \u001b[1;32min\u001b[0m \u001b[0mcontours\u001b[0m\u001b[1;33m]\u001b[0m\u001b[1;33m\u001b[0m\u001b[1;33m\u001b[0m\u001b[0m\n",
      "\u001b[1;31mKeyboardInterrupt\u001b[0m: "
     ]
    }
   ],
   "source": [
    "main_path = 'C:/Users/14432/OneDrive/Research/Projects/a549_pcna/data/'\n",
    "output_path = main_path + 'out/10-06-21_144hr_no-treatment/'\n",
    "posi_label = 'XY1'\n",
    "\n",
    "dir_path=output_path+posi_label+'/'\n",
    "cells_path=dir_path+'cells/'\n",
    "seg_path=dir_path+'seg/'\n",
    "\n",
    "df = pd.read_csv(dir_path + 'Per_Object_relink'+'.csv')\n",
    "traj_df=pd.read_csv(dir_path+'traj_object_num.csv')\n",
    "with open (cells_path+'pcna_cells-02', 'rb') as fp:\n",
    "    cells = pickle.load(fp)\n",
    "seg_img_list = sorted(listdir(seg_path))\n",
    "\n",
    "#x and y centers ar in df"
   ]
  },
  {
   "cell_type": "code",
   "execution_count": null,
   "id": "cff4dd9f",
   "metadata": {},
   "outputs": [],
   "source": []
  }
 ],
 "metadata": {
  "kernelspec": {
   "display_name": "Python 3",
   "language": "python",
   "name": "python3"
  },
  "language_info": {
   "codemirror_mode": {
    "name": "ipython",
    "version": 3
   },
   "file_extension": ".py",
   "mimetype": "text/x-python",
   "name": "python",
   "nbconvert_exporter": "python",
   "pygments_lexer": "ipython3",
   "version": "3.8.8"
  }
 },
 "nbformat": 4,
 "nbformat_minor": 5
}
