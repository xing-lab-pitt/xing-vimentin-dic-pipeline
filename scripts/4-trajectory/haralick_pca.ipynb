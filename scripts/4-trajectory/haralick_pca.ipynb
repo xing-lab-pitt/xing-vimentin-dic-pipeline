{
 "cells": [
  {
   "cell_type": "code",
   "execution_count": 1,
   "metadata": {},
   "outputs": [],
   "source": [
    "import copy\n",
    "import numpy as np\n",
    "from skimage.segmentation import watershed,clear_border\n",
    "import scipy.misc\n",
    "from skimage.io import imread\n",
    "from matplotlib import pyplot as plt\n",
    "import scipy.ndimage as ndi\n",
    "import pickle\n",
    "import os\n",
    "from os import listdir\n",
    "from skimage.feature import peak_local_max\n",
    "from skimage.morphology import remove_small_objects,local_maxima,h_maxima,opening\n",
    "from skimage import measure\n",
    "from skimage.measure import regionprops,label\n",
    "from skimage.color import label2rgb\n",
    "from PIL import Image, ImageDraw, ImageFont\n",
    "from math import pi,sqrt\n",
    "# import cv2\n",
    "import glob\n",
    "import pandas as pd\n",
    "import seaborn as sns\n",
    "\n",
    "from sklearn import decomposition,cluster,manifold\n",
    "from sklearn.neighbors import KernelDensity\n",
    "from sklearn.preprocessing import StandardScaler,RobustScaler,Normalizer\n",
    "from cell_class import single_cell,fluor_single_cell"
   ]
  },
  {
   "cell_type": "code",
   "execution_count": 4,
   "metadata": {},
   "outputs": [],
   "source": [
    "main_path='2021-03-25_a549_1ng_tgf_78h/'\n",
    "cells_path='fluor_cells/'\n",
    "posi_start=1\n",
    "posi_end=20"
   ]
  },
  {
   "cell_type": "code",
   "execution_count": 12,
   "metadata": {},
   "outputs": [
    {
     "name": "stdout",
     "output_type": "stream",
     "text": [
      "(495952, 13)\n",
      "[[ 0.36273021  0.28215444 -0.32120511 -0.26156484  0.00881163  0.02813715\n",
      "  -0.27330279 -0.36836584 -0.28277291  0.252443   -0.28252768  0.33094456\n",
      "  -0.27006564]\n",
      " [ 0.05349904 -0.35249758  0.27317291 -0.09870011  0.51250534 -0.50753188\n",
      "  -0.07658333 -0.06007493  0.02048958  0.36452016 -0.30866619 -0.06361377\n",
      "   0.1617947 ]\n",
      " [ 0.18389119  0.13395517 -0.04703356  0.57916422  0.16932493  0.09043871\n",
      "   0.561272   -0.08208859 -0.32301285  0.20969107 -0.14785972 -0.23680404\n",
      "  -0.1604229 ]\n",
      " [-0.04624818  0.06698877 -0.27234565  0.02318244  0.33513328 -0.09737025\n",
      "   0.01890184  0.2709133   0.52857774  0.010461    0.02730513 -0.01192671\n",
      "  -0.66537642]\n",
      " [-0.16605103  0.10048101  0.08712766  0.11984123  0.0069179   0.46804027\n",
      "   0.11193045  0.0528059   0.4414728   0.35426556 -0.38622352  0.39520263\n",
      "   0.28318719]\n",
      " [-0.08020712  0.21739234 -0.13979993 -0.23356044  0.47986578  0.46267054\n",
      "  -0.24204315  0.11457763 -0.13325002  0.18725426  0.18018876 -0.47907496\n",
      "   0.20338203]\n",
      " [ 0.42973063 -0.339756    0.21487696 -0.00497873 -0.02245372  0.21796111\n",
      "   0.0147595   0.18763643 -0.04137358  0.40016715  0.56692288  0.26640284\n",
      "  -0.12667487]] [0.51236026 0.23035394 0.1118851  0.05542772 0.03927757 0.0238866\n",
      " 0.00953023]\n"
     ]
    }
   ],
   "source": [
    "all_data=np.array([])\n",
    "for posi in range(posi_start,posi_end+1): \n",
    "    with open (cells_path+'fluor_cells_'+str(posi), 'rb') as fp:\n",
    "        cells = pickle.load(fp)\n",
    "    data=np.array([single_cell.vimentin_feature_values[4] for single_cell in cells if hasattr(single_cell,'vimentin_feature_values')])\n",
    "\n",
    "    \n",
    "    if all_data.size==0:\n",
    "        all_data=data\n",
    "    else:\n",
    "        all_data=np.vstack((all_data,data))\n",
    "\n",
    "scaler = StandardScaler()\n",
    "\n",
    "X=scaler.fit_transform(all_data)\n",
    "print(X.shape)\n",
    "\n",
    "pca = decomposition.PCA(n_components =0.98,svd_solver= 'full')\n",
    "Y = pca.fit_transform(X)\n",
    "print(pca.components_,pca.explained_variance_ratio_)"
   ]
  },
  {
   "cell_type": "code",
   "execution_count": 13,
   "metadata": {},
   "outputs": [],
   "source": [
    "with open('norm_haralick_pca', 'wb') as fp:\n",
    "    pickle.dump(pca, fp)"
   ]
  },
  {
   "cell_type": "code",
   "execution_count": 14,
   "metadata": {},
   "outputs": [],
   "source": [
    "with open('norm_haralick_pca', 'rb') as fp:\n",
    "    pca=pickle.load(fp)"
   ]
  },
  {
   "cell_type": "code",
   "execution_count": 15,
   "metadata": {},
   "outputs": [],
   "source": [
    "fluor_feature_name='norm_vimentin_haralick'\n",
    "for posi in range(posi_start,posi_end+1):   \n",
    "    with open (cells_path+'fluor_cells_'+str(posi), 'rb') as fp:\n",
    "        cells = pickle.load(fp)\n",
    "    for i in range(len(cells)):\n",
    "        if hasattr(cells[i],'vimentin_feature_values'):\n",
    "            X=np.expand_dims(cells[i].vimentin_feature_values[4],axis=0)\n",
    "            X=scaler.transform(X)\n",
    "            Y=pca.transform(X)[0]\n",
    "            cells[i].set_fluor_pca_cord(fluor_feature_name,Y)\n",
    "    with open(cells_path+'fluor_cells_'+str(posi), 'wb') as fp:\n",
    "        pickle.dump(cells, fp)"
   ]
  },
  {
   "cell_type": "code",
   "execution_count": 16,
   "metadata": {},
   "outputs": [
    {
     "name": "stdout",
     "output_type": "stream",
     "text": [
      "(7,)\n"
     ]
    }
   ],
   "source": [
    "# with open (cells_path+'fluor_cells_1', 'rb') as fp:\n",
    "#     cells = pickle.load(fp)\n",
    "\n",
    "print(cells[0].norm_vimentin_haralick_pca_cord.shape)"
   ]
  },
  {
   "cell_type": "code",
   "execution_count": null,
   "metadata": {},
   "outputs": [],
   "source": []
  }
 ],
 "metadata": {
  "kernelspec": {
   "display_name": "Python 3",
   "language": "python",
   "name": "python3"
  },
  "language_info": {
   "codemirror_mode": {
    "name": "ipython",
    "version": 3
   },
   "file_extension": ".py",
   "mimetype": "text/x-python",
   "name": "python",
   "nbconvert_exporter": "python",
   "pygments_lexer": "ipython3",
   "version": "3.8.8"
  }
 },
 "nbformat": 4,
 "nbformat_minor": 4
}
