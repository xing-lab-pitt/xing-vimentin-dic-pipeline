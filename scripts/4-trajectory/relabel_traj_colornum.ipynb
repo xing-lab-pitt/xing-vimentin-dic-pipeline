{
 "cells": [
  {
   "cell_type": "code",
   "execution_count": 1,
   "metadata": {},
   "outputs": [],
   "source": [
    "import numpy as np\n",
    "import pandas as pd\n",
    "from scipy.spatial.distance import euclidean,cosine\n",
    "\n",
    "import scipy\n",
    "from imageio import imread\n",
    "from skimage.measure import regionprops\n",
    "from skimage.color import label2rgb\n",
    "import os\n",
    "from os import listdir\n",
    "from PIL import Image, ImageDraw,ImageFont\n",
    "#from track_module import color_label_LAP,color_label_overlap\n",
    "import sqlite3"
   ]
  },
  {
   "cell_type": "code",
   "execution_count": 2,
   "metadata": {
    "collapsed": true
   },
   "outputs": [],
   "source": [
    "def color_label_LAP(labels,df,img_num,path_output,img_name):\n",
    "    label_rgb=label2rgb(labels,bg_label=0)\n",
    "    #print(label_rgb.shape)\n",
    "    img_rgb= scipy.misc.toimage(label_rgb)\n",
    "    base = img_rgb.convert('RGBA')\n",
    "    #img_rgb=Image.fromarray(label_rgb,'RGB')\n",
    "    #base = img_rgb.convert('RGBA')\n",
    "    # make a blank image for the text, initialized to transparent text color\n",
    "    txt = Image.new('RGBA', base.size, (255,255,255,0))\n",
    "    # get a font\n",
    "    fnt = ImageFont.truetype(\"arial.ttf\", 60)\n",
    "    # get a drawing context\n",
    "    d = ImageDraw.Draw(txt)\n",
    "    #print(img_num)\n",
    "    all_idx=df[df['ImageNumber']==img_num].index.tolist()\n",
    "    #print(all_idx)\n",
    "    obj_num=0\n",
    "    for region in regionprops(labels):\n",
    "        \n",
    "        cx=int(region.centroid[1])     \n",
    "        cy=int(region.centroid[0])\n",
    "        idx=all_idx[obj_num]\n",
    "        \n",
    "        num_label=int(df.loc[idx]['Cell_TrackObjects_Label'])\n",
    "        #print(num_label)\n",
    "        d.text((cx,cy),str(num_label),font=fnt,fill=(255,255,255,255)) #str(labels[cy][cx])\n",
    "        obj_num+=1\n",
    "    out = Image.alpha_composite(base, txt)       \n",
    "    #out.show()\n",
    "    out.save(path_output+'/'+img_name+'.png', \"PNG\")"
   ]
  },
  {
   "cell_type": "code",
   "execution_count": 4,
   "metadata": {},
   "outputs": [
    {
     "name": "stderr",
     "output_type": "stream",
     "text": [
      "/home/zoro/anaconda2/lib/python2.7/site-packages/ipykernel/__main__.py:4: DeprecationWarning: `toimage` is deprecated!\n",
      "`toimage` is deprecated in SciPy 1.0.0, and will be removed in 1.2.0.\n",
      "Use Pillow's ``Image.fromarray`` directly instead.\n"
     ]
    }
   ],
   "source": [
    "main_path='/home/zoro/Desktop/experiment_data/2019-03-22_a549_tgf4ng_2d/'\n",
    "output_path=main_path+'output/'\n",
    "\n",
    "posi_end=2\n",
    "\n",
    "\n",
    "# relation_df=pd.read_csv(dir_path + '/Per_Relationships.csv')\n",
    "# conn = sqlite3.connect(dir_path + '/cell_track.db')\n",
    "# df=pd.read_sql_query('SELECT * FROM Per_Object',conn)\n",
    "\n",
    "for posi in range(2,posi_end+1):\n",
    "\n",
    "\n",
    "    \n",
    "    dir_path=output_path+str(posi)+'/'\n",
    "\n",
    "    seg_path=dir_path+'seg/'\n",
    "    seg_img_list=sorted(listdir(seg_path))\n",
    "    \n",
    "    traj_label_path=dir_path+'traj_label/'\n",
    "    if not os.path.exists(traj_label_path):\n",
    "        os.makedirs(traj_label_path) \n",
    "    \n",
    "    df = pd.read_csv(dir_path + '/Per_Object_relink_'+str(posi)+'.csv')\n",
    "#     df=pd.read_csv(dir_path + '/Per_Object_mitosis.csv')\n",
    "#     df=pd.read_csv(dir_path + '/Per_Object_modify.csv')\n",
    "    t_span=max(df['ImageNumber'])\n",
    "    \n",
    "    for i in range(len(seg_img_list)):\n",
    "        img_num=i+1\n",
    "        seg=imread(seg_path+'/'+seg_img_list[i])\n",
    "        img_name=seg_img_list[i][4:-4]\n",
    "#         print(img_name)\n",
    "        color_label_LAP(seg,df,img_num,traj_label_path,img_name)  \n",
    "        "
   ]
  },
  {
   "cell_type": "code",
   "execution_count": null,
   "metadata": {
    "collapsed": true
   },
   "outputs": [],
   "source": []
  }
 ],
 "metadata": {
  "kernelspec": {
   "display_name": "Python 3",
   "language": "python",
   "name": "python3"
  },
  "language_info": {
   "codemirror_mode": {
    "name": "ipython",
    "version": 3
   },
   "file_extension": ".py",
   "mimetype": "text/x-python",
   "name": "python",
   "nbconvert_exporter": "python",
   "pygments_lexer": "ipython3",
   "version": "3.8.8"
  }
 },
 "nbformat": 4,
 "nbformat_minor": 2
}
