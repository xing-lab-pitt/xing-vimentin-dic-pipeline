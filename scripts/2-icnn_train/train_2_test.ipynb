{
 "cells": [
  {
   "cell_type": "code",
   "execution_count": 1,
   "id": "f48e0379",
   "metadata": {},
   "outputs": [],
   "source": [
    "import sys\n",
    "sys.path.insert(0, 'C:/Users/14432/OneDrive/Research/Projects/A549_144hr/scripts/memes/')\n",
    "\n",
    "import math\n",
    "import os\n",
    "import random\n",
    "import shutil\n",
    "\n",
    "import hj_util as util"
   ]
  },
  {
   "cell_type": "code",
   "execution_count": 2,
   "id": "adbf755a",
   "metadata": {},
   "outputs": [],
   "source": [
    "apop_train_dir = train_dir + 'apoptosis/'\n",
    "mit_train_dir = train_dir + 'mitosis/'\n",
    "other_train_dir = train_dir + 'other/'\n",
    "\n",
    "apop_train_files = os.listdir(apop_train_dir)\n",
    "mit_train_files = os.listdir(mit_train_dir)\n",
    "other_train_files = os.listdir(other_train_dir)\n",
    "\n",
    "apop_test_files = random.sample(apop_train_files, math.ceil(test_ratio*len(apop_train_files)))\n",
    "mit_test_files = random.sample(mit_train_files, math.ceil(ttest_ratio = 0.15\n",
    "\n",
    "train_dir = 'C:/Users/14432/OneDrive/Research/Projects/A549_144hr/data/train/'\n",
    "est_ratio*len(mit_train_files)))\n",
    "other_test_files = random.sample(other_train_files, math.ceil(test_ratio*len(other_train_files)))"
   ]
  },
  {
   "cell_type": "code",
   "execution_count": 3,
   "id": "10e2e13a",
   "metadata": {},
   "outputs": [
    {
     "name": "stdout",
     "output_type": "stream",
     "text": [
      "C:/Users/14432/OneDrive/Research/Projects/A549_144hr/data/test/ folder is freshly created. \n",
      "\n",
      "C:/Users/14432/OneDrive/Research/Projects/A549_144hr/data/test/apoptosis/ folder is freshly created. \n",
      "\n",
      "C:/Users/14432/OneDrive/Research/Projects/A549_144hr/data/test/mitosis/ folder is freshly created. \n",
      "\n",
      "C:/Users/14432/OneDrive/Research/Projects/A549_144hr/data/test/other/ folder is freshly created. \n",
      "\n"
     ]
    }
   ],
   "source": [
    "test_dir = 'C:/Users/14432/OneDrive/Research/Projects/A549_144hr/data/test/'\n",
    "apop_test_dir = test_dir + 'apoptosis/'\n",
    "mit_test_dir = test_dir + 'mitosis/'\n",
    "other_test_dir = test_dir + 'other/'\n",
    "\n",
    "util.create_folder(test_dir)\n",
    "util.create_folder(apop_test_dir)\n",
    "util.create_folder(mit_test_dir)\n",
    "util.create_folder(other_test_dir)"
   ]
  },
  {
   "cell_type": "code",
   "execution_count": 5,
   "id": "08dd2844",
   "metadata": {},
   "outputs": [],
   "source": [
    "# for file in apop_test_files:\n",
    "#     shutil.move(apop_train_dir+file, apop_test_dir+file)\n",
    "\n",
    "for file in mit_test_files:\n",
    "    shutil.move(mit_train_dir+file, mit_test_dir+file)\n",
    "\n",
    "for file in other_test_files:\n",
    "    shutil.move(other_train_dir+file, other_test_dir+file)"
   ]
  },
  {
   "cell_type": "code",
   "execution_count": null,
   "id": "eac9e2d7",
   "metadata": {},
   "outputs": [],
   "source": []
  }
 ],
 "metadata": {
  "kernelspec": {
   "display_name": "Python 3",
   "language": "python",
   "name": "python3"
  },
  "language_info": {
   "codemirror_mode": {
    "name": "ipython",
    "version": 3
   },
   "file_extension": ".py",
   "mimetype": "text/x-python",
   "name": "python",
   "nbconvert_exporter": "python",
   "pygments_lexer": "ipython3",
   "version": "3.8.8"
  }
 },
 "nbformat": 4,
 "nbformat_minor": 5
}
