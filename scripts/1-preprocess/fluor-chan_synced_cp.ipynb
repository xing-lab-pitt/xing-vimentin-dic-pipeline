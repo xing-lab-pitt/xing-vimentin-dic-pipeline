{
 "cells": [
  {
   "cell_type": "code",
   "execution_count": 15,
   "id": "f7102fda",
   "metadata": {},
   "outputs": [],
   "source": [
    "import os\n",
    "import shutil"
   ]
  },
  {
   "cell_type": "code",
   "execution_count": 22,
   "id": "a416f587",
   "metadata": {},
   "outputs": [],
   "source": [
    "main_path='C:/Users/14432/OneDrive/Research/Projects/a549_pcna/data/ori_fluor-chan_synced/'\n",
    "drive_path='D:/a549_pcna_10-06-21_144hr_no-treatment/'\n",
    "posi='XY2'\n",
    "frq=6\n",
    "\n",
    "ori_c1_path=drive_path+posi+'_C1/'\n",
    "ori_c2_path=drive_path+posi+'_C2/'\n",
    "\n",
    "cp_c1_path=main_path+posi+'_C1/'\n",
    "cp_c2_path=main_path+posi+'_C2/'\n",
    "\n",
    "if not os.path.exists(cp_c1_path):\n",
    "    os.makedirs(cp_c1_path)\n",
    "if not os.path.exists(cp_c2_path):\n",
    "    os.makedirs(cp_c2_path)\n",
    "\n",
    "c1_img_list = sorted(os.listdir(ori_c1_path))\n",
    "c2_img_list = sorted(os.listdir(ori_c2_path))"
   ]
  },
  {
   "cell_type": "code",
   "execution_count": 23,
   "id": "9d0052fe",
   "metadata": {},
   "outputs": [
    {
     "name": "stdout",
     "output_type": "stream",
     "text": [
      "saved img 1729\r"
     ]
    }
   ],
   "source": [
    "for img_idx in range(len(c1_img_list)):\n",
    "    if img_idx%frq == 0:\n",
    "        shutil.copy(ori_c1_path+c1_img_list[img_idx], cp_c1_path)\n",
    "        shutil.copy(ori_c2_path+c2_img_list[img_idx], cp_c2_path)\n",
    "        print('saved img ' + str(img_idx+1), end='\\r')"
   ]
  },
  {
   "cell_type": "code",
   "execution_count": 24,
   "id": "9e51bb20",
   "metadata": {},
   "outputs": [],
   "source": [
    "main_path='C:/Users/14432/OneDrive/Research/Projects/a549_pcna/data/ori_fluor-chan_synced/'\n",
    "drive_path='D:/a549_pcna_10-06-21_144hr_no-treatment/'\n",
    "posi='XY3'\n",
    "frq=6\n",
    "\n",
    "ori_c1_path=drive_path+posi+'_C1/'\n",
    "ori_c2_path=drive_path+posi+'_C2/'\n",
    "\n",
    "cp_c1_path=main_path+posi+'_C1/'\n",
    "cp_c2_path=main_path+posi+'_C2/'\n",
    "\n",
    "if not os.path.exists(cp_c1_path):\n",
    "    os.makedirs(cp_c1_path)\n",
    "if not os.path.exists(cp_c2_path):\n",
    "    os.makedirs(cp_c2_path)\n",
    "\n",
    "c1_img_list = sorted(os.listdir(ori_c1_path))\n",
    "c2_img_list = sorted(os.listdir(ori_c2_path))"
   ]
  },
  {
   "cell_type": "code",
   "execution_count": 25,
   "id": "7969d4a0",
   "metadata": {},
   "outputs": [
    {
     "name": "stdout",
     "output_type": "stream",
     "text": [
      "saved img 1729\r"
     ]
    }
   ],
   "source": [
    "for img_idx in range(len(c1_img_list)):\n",
    "    if img_idx%frq == 0:\n",
    "        shutil.copy(ori_c1_path+c1_img_list[img_idx], cp_c1_path)\n",
    "        shutil.copy(ori_c2_path+c2_img_list[img_idx], cp_c2_path)\n",
    "        print('saved img ' + str(img_idx+1), end='\\r')"
   ]
  },
  {
   "cell_type": "code",
   "execution_count": null,
   "id": "8cf8f065",
   "metadata": {},
   "outputs": [],
   "source": []
  }
 ],
 "metadata": {
  "kernelspec": {
   "display_name": "Python 3",
   "language": "python",
   "name": "python3"
  },
  "language_info": {
   "codemirror_mode": {
    "name": "ipython",
    "version": 3
   },
   "file_extension": ".py",
   "mimetype": "text/x-python",
   "name": "python",
   "nbconvert_exporter": "python",
   "pygments_lexer": "ipython3",
   "version": "3.8.8"
  }
 },
 "nbformat": 4,
 "nbformat_minor": 5
}
