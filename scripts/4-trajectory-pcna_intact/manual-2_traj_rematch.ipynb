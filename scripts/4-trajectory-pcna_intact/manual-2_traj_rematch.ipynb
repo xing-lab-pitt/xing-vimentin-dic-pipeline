{
 "cells": [
  {
   "cell_type": "code",
   "execution_count": 1,
   "metadata": {
    "scrolled": true
   },
   "outputs": [],
   "source": [
    "import sys\n",
    "sys.path.insert(0, '/home/thomas/research/projects/a549_40x/scripts/4_wk_trajectory/')\n",
    "sys.path.insert(1, '/home/thomas/research/projects/a549_40x/scripts/memes/')\n",
    "\n",
    "import warnings\n",
    "warnings.filterwarnings(\"ignore\")\n",
    "\n",
    "import numpy as np\n",
    "import pandas as pd\n",
    "import pickle\n",
    "\n",
    "from matplotlib import animation\n",
    "from matplotlib import pyplot as plt\n",
    "\n",
    "from os import listdir\n",
    "\n",
    "from skimage.measure import regionprops\n",
    "from skimage.morphology import opening, closing, remove_small_holes, remove_small_objects,disk\n",
    "from skimage.io import imread\n",
    "\n",
    "from skimage.filters.rank import otsu\n",
    "from traj_class import fluor_single_cell_traj\n",
    "import matplotlib.animation as animation\n",
    "\n",
    "from traj_tools import generate_single_cell_img,find_mother,find_mother_label,find_offspring,parse"
   ]
  },
  {
   "cell_type": "code",
   "execution_count": 2,
   "metadata": {},
   "outputs": [
    {
     "name": "stdout",
     "output_type": "stream",
     "text": [
      "rematch trajectory found: 140\n",
      "    trajectory begins at entered time\n"
     ]
    }
   ],
   "source": [
    "init_img_num = 31\n",
    "init_obj_num = 77\n",
    "\n",
    "main_path='/home/thomas/research/projects/a549_40x/data/'\n",
    "output_path=main_path+'out/pcna/01-13-22_72hr_no-treat/XY1/'\n",
    "t_span = 865\n",
    "\n",
    "traj_df=pd.read_csv(output_path+'traj_object_num.csv')\n",
    "traj_record=pd.DataFrame(traj_df.loc[:,'1':str(t_span)]).values\n",
    "init_t_obj=pd.DataFrame(traj_df.loc[:,str(init_img_num)]).values\n",
    "rematched_traj = int(np.where(init_t_obj==init_obj_num)[0]) + 1\n",
    "\n",
    "print('rematch trajectory found: '+str(rematched_traj))\n",
    "if traj_record[rematched_traj-1,init_img_num-2] == -1:\n",
    "    print('    trajectory begins at entered time')\n",
    "else:\n",
    "    print('    this might be the wrong trajectory')"
   ]
  },
  {
   "cell_type": "code",
   "execution_count": 34,
   "metadata": {},
   "outputs": [],
   "source": [
    "traj_df_mit_intact = pd.read_excel(output_path+'traj_object_num-mit_intact.xlsx')\n",
    "traj_label_mit_intact = traj_df_mit_intact.loc[:,0].values\n",
    "traj_record_mit_intact = traj_df_mit_intact.loc[:,1:].values\n",
    "\n",
    "rematched_traj_obj_num = traj_record[rematched_traj-1,:]\n"
   ]
  },
  {
   "cell_type": "code",
   "execution_count": 26,
   "metadata": {},
   "outputs": [],
   "source": [
    "from openpyxl import Workbook\n",
    "from openpyxl.utils import get_column_letter\n",
    "from openpyxl import load_workbook\n",
    "\n"
   ]
  },
  {
   "cell_type": "code",
   "execution_count": 29,
   "metadata": {},
   "outputs": [
    {
     "data": {
      "text/plain": [
       "['_Workbook__write_only',\n",
       " '__class__',\n",
       " '__contains__',\n",
       " '__delattr__',\n",
       " '__delitem__',\n",
       " '__dict__',\n",
       " '__dir__',\n",
       " '__doc__',\n",
       " '__eq__',\n",
       " '__format__',\n",
       " '__ge__',\n",
       " '__getattribute__',\n",
       " '__getitem__',\n",
       " '__gt__',\n",
       " '__hash__',\n",
       " '__init__',\n",
       " '__init_subclass__',\n",
       " '__iter__',\n",
       " '__le__',\n",
       " '__lt__',\n",
       " '__module__',\n",
       " '__ne__',\n",
       " '__new__',\n",
       " '__reduce__',\n",
       " '__reduce_ex__',\n",
       " '__repr__',\n",
       " '__setattr__',\n",
       " '__sizeof__',\n",
       " '__str__',\n",
       " '__subclasshook__',\n",
       " '__weakref__',\n",
       " '_active_sheet_index',\n",
       " '_add_sheet',\n",
       " '_alignments',\n",
       " '_borders',\n",
       " '_cell_styles',\n",
       " '_colors',\n",
       " '_data_only',\n",
       " '_date_formats',\n",
       " '_differential_styles',\n",
       " '_duplicate_name',\n",
       " '_epoch',\n",
       " '_external_links',\n",
       " '_fills',\n",
       " '_fonts',\n",
       " '_named_styles',\n",
       " '_number_formats',\n",
       " '_pivots',\n",
       " '_protections',\n",
       " '_read_only',\n",
       " '_setup_styles',\n",
       " '_sheets',\n",
       " '_table_styles',\n",
       " '_timedelta_formats',\n",
       " 'active',\n",
       " 'add_named_range',\n",
       " 'add_named_style',\n",
       " 'calculation',\n",
       " 'chartsheets',\n",
       " 'close',\n",
       " 'code_name',\n",
       " 'copy_worksheet',\n",
       " 'create_chartsheet',\n",
       " 'create_named_range',\n",
       " 'create_sheet',\n",
       " 'data_only',\n",
       " 'defined_names',\n",
       " 'encoding',\n",
       " 'epoch',\n",
       " 'excel_base_date',\n",
       " 'get_index',\n",
       " 'get_named_range',\n",
       " 'get_named_ranges',\n",
       " 'get_sheet_by_name',\n",
       " 'get_sheet_names',\n",
       " 'index',\n",
       " 'is_template',\n",
       " 'iso_dates',\n",
       " 'loaded_theme',\n",
       " 'mime_type',\n",
       " 'move_sheet',\n",
       " 'named_styles',\n",
       " 'path',\n",
       " 'properties',\n",
       " 'read_only',\n",
       " 'rels',\n",
       " 'remove',\n",
       " 'remove_named_range',\n",
       " 'remove_sheet',\n",
       " 'save',\n",
       " 'security',\n",
       " 'shared_strings',\n",
       " 'sheetnames',\n",
       " 'style_names',\n",
       " 'template',\n",
       " 'vba_archive',\n",
       " 'views',\n",
       " 'worksheets',\n",
       " 'write_only']"
      ]
     },
     "execution_count": 29,
     "metadata": {},
     "output_type": "execute_result"
    }
   ],
   "source": [
    "wb = Workbook()\n",
    "wb = load_workbook(filename = output_path+'test_sheet.xlsx')\n"
   ]
  },
  {
   "cell_type": "code",
   "execution_count": 33,
   "metadata": {},
   "outputs": [],
   "source": [
    "ws = wb['Sheet1']\n",
    "ws.cell(column=2, row=2, value = 9)\n",
    "wb.save(filename = output_path+'test_sheet_mod.xlsx')"
   ]
  },
  {
   "cell_type": "code",
   "execution_count": null,
   "metadata": {},
   "outputs": [],
   "source": [
    "ws3 = wb.create_sheet(title=\"Data\")\n",
    "for row in range(10, 20):\n",
    "     for col in range(27, 54):\n",
    "         _ = ws3.cell(column=col, row=row, value=\"{0}\".format(get_column_letter(col)))\n",
    "print(ws3['AA10'].value)\n",
    "wb.save(filename = dest_filename)"
   ]
  }
 ],
 "metadata": {
  "kernelspec": {
   "display_name": "Python 3",
   "language": "python",
   "name": "python3"
  },
  "language_info": {
   "codemirror_mode": {
    "name": "ipython",
    "version": 3
   },
   "file_extension": ".py",
   "mimetype": "text/x-python",
   "name": "python",
   "nbconvert_exporter": "python",
   "pygments_lexer": "ipython3",
   "version": "3.8.10"
  }
 },
 "nbformat": 4,
 "nbformat_minor": 2
}
