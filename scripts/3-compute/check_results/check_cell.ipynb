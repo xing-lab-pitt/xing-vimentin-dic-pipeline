{
 "cells": [
  {
   "cell_type": "code",
   "execution_count": 2,
   "metadata": {},
   "outputs": [],
   "source": [
    "import sys\n",
    "sys.path.insert(1, '/home/thomas/research/projects/a549_40x/scripts/memes/')\n",
    "\n",
    "import warnings\n",
    "warnings.filterwarnings(\"ignore\")\n",
    "\n",
    "import glob\n",
    "import pickle\n",
    "from cell_class import single_cell, fluor_single_cell\n",
    "import math\n",
    "import matplotlib.pyplot as plt\n",
    "import numpy as np"
   ]
  },
  {
   "cell_type": "code",
   "execution_count": 35,
   "metadata": {},
   "outputs": [
    {
     "name": "stdout",
     "output_type": "stream",
     "text": [
      "['__class__', '__delattr__', '__dict__', '__dir__', '__doc__', '__eq__', '__format__', '__ge__', '__getattribute__', '__gt__', '__hash__', '__init__', '__init_subclass__', '__le__', '__lt__', '__module__', '__ne__', '__new__', '__reduce__', '__reduce_ex__', '__repr__', '__setattr__', '__sizeof__', '__str__', '__subclasshook__', '__weakref__', 'am_flag', 'cell_contour', 'cell_features', 'convert_to_class', 'img_num', 'obj_num', 'pca_cord', 'pcna_feature_list', 'pcna_feature_values', 'pcna_haralick_pca_cord', 'set_am_flag', 'set_cell_contour', 'set_cell_features', 'set_contour_variation', 'set_fluor_features', 'set_fluor_pca_cord', 'set_neighbor_info', 'set_nuc_contour', 'set_nuc_contour_variation', 'set_nuc_info', 'set_nuc_pca_cord', 'set_nuc_pca_cord_variation', 'set_nuc_size_variation', 'set_pca_cord', 'set_pca_cord_variation', 'set_size_variation', 'set_traj_label', 'set_xy_variation', 'traj_label', 'vimentin_feature_list', 'vimentin_feature_values', 'vimentin_haralick_pca_cord']\n"
     ]
    }
   ],
   "source": [
    "cells_path = '/home/thomas/research/projects/a549_40x/data/out/pcna/01-18-22_72hr_no-treat/XY1/cells/'\n",
    "with open(cells_path + 'pcna_cells-02', 'rb') as fp:\n",
    "        cells = pickle.load(fp)\n",
    "print(dir(cells[0]))\n",
    "# for cell_idx in range(len(cells)):\n",
    "#         if hasattr(cells[cell_idx],'pca_cord'):\n",
    "#                 print('has attribute at cell idx ' + str(cell_idx))"
   ]
  },
  {
   "cell_type": "code",
   "execution_count": null,
   "metadata": {},
   "outputs": [],
   "source": []
  }
 ],
 "metadata": {
  "kernelspec": {
   "display_name": "Python 3 (ipykernel)",
   "language": "python",
   "name": "python3"
  },
  "language_info": {
   "codemirror_mode": {
    "name": "ipython",
    "version": 3
   },
   "file_extension": ".py",
   "mimetype": "text/x-python",
   "name": "python",
   "nbconvert_exporter": "python",
   "pygments_lexer": "ipython3",
   "version": "3.8.10"
  }
 },
 "nbformat": 4,
 "nbformat_minor": 2
}
